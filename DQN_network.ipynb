{
  "nbformat": 4,
  "nbformat_minor": 0,
  "metadata": {
    "colab": {
      "name": "DQN_network.ipynb",
      "provenance": [],
      "collapsed_sections": [],
      "authorship_tag": "ABX9TyPKMQz0LiR9pdGLV2xEA93O",
      "include_colab_link": true
    },
    "kernelspec": {
      "name": "python3",
      "display_name": "Python 3"
    }
  },
  "cells": [
    {
      "cell_type": "markdown",
      "metadata": {
        "id": "view-in-github",
        "colab_type": "text"
      },
      "source": [
        "<a href=\"https://colab.research.google.com/github/puneetsingla17/Reinforcement-Learning-Pytorch/blob/master/DQN_network.ipynb\" target=\"_parent\"><img src=\"https://colab.research.google.com/assets/colab-badge.svg\" alt=\"Open In Colab\"/></a>"
      ]
    },
    {
      "cell_type": "code",
      "metadata": {
        "colab": {
          "base_uri": "https://localhost:8080/"
        },
        "id": "AoJ3JoYcDP-_",
        "outputId": "ae4baac5-e80f-4181-c4d7-c247d94fb6e9"
      },
      "source": [
        "!pip install gym\r\n",
        "!apt-get install python-opengl -y\r\n",
        "!apt install xvfb -y\r\n",
        "\r\n",
        "# Special gym environment\r\n",
        "!pip install gym[atari]\r\n",
        "\r\n",
        "# For rendering environment, you can use pyvirtualdisplay.\r\n",
        "!pip install pyvirtualdisplay\r\n",
        "!pip install piglet\r\n",
        "\r\n",
        "# To activate virtual display \r\n",
        "# need to run a script once for training an agent as follows\r\n",
        "from pyvirtualdisplay import Display\r\n",
        "display = Display(visible=0, size=(1400, 900))\r\n",
        "display.start()\r\n",
        "\r\n",
        "# This code creates a virtual display to draw game images on. \r\n",
        "# If you are running locally, just ignore it\r\n",
        "import os\r\n",
        "if type(os.environ.get(\"DISPLAY\")) is not str or len(os.environ.get(\"DISPLAY\"))==0:\r\n",
        "    !bash ../xvfb start\r\n",
        "    %env DISPLAY=:1\r\n",
        "\r\n",
        "# Import libraries\r\n",
        "#\r\n",
        "import gym\r\n",
        "from gym import logger as gymlogger\r\n",
        "from gym.wrappers import Monitor\r\n",
        "gymlogger.set_level(40) # error only\r\n",
        "import tensorflow as tf\r\n",
        "import numpy as np\r\n",
        "import random\r\n",
        "import matplotlib\r\n",
        "import matplotlib.pyplot as plt\r\n",
        "%matplotlib inline\r\n",
        "import math\r\n",
        "import glob\r\n",
        "import io\r\n",
        "import base64\r\n",
        "from IPython.display import HTML\r\n",
        "\r\n",
        "from IPython import display as ipythondisplay"
      ],
      "execution_count": 5,
      "outputs": [
        {
          "output_type": "stream",
          "text": [
            "Requirement already satisfied: gym in /usr/local/lib/python3.6/dist-packages (0.15.7)\n",
            "Requirement already satisfied: numpy>=1.10.4 in /usr/local/lib/python3.6/dist-packages (from gym) (1.19.5)\n",
            "Requirement already satisfied: six in /usr/local/lib/python3.6/dist-packages (from gym) (1.15.0)\n",
            "Requirement already satisfied: cloudpickle~=1.2.0 in /usr/local/lib/python3.6/dist-packages (from gym) (1.2.1)\n",
            "Requirement already satisfied: pyglet<=1.5.0,>=1.4.0 in /usr/local/lib/python3.6/dist-packages (from gym) (1.5.0)\n",
            "Requirement already satisfied: scipy in /usr/local/lib/python3.6/dist-packages (from gym) (1.4.1)\n",
            "Requirement already satisfied: future in /usr/local/lib/python3.6/dist-packages (from pyglet<=1.5.0,>=1.4.0->gym) (0.16.0)\n",
            "Reading package lists... Done\n",
            "Building dependency tree       \n",
            "Reading state information... Done\n",
            "python-opengl is already the newest version (3.1.0+dfsg-1).\n",
            "0 upgraded, 0 newly installed, 0 to remove and 10 not upgraded.\n",
            "Reading package lists... Done\n",
            "Building dependency tree       \n",
            "Reading state information... Done\n",
            "xvfb is already the newest version (2:1.19.6-1ubuntu4.8).\n",
            "0 upgraded, 0 newly installed, 0 to remove and 10 not upgraded.\n",
            "Requirement already satisfied: gym[atari] in /usr/local/lib/python3.6/dist-packages (0.15.7)\n",
            "Requirement already satisfied: pyglet<=1.5.0,>=1.4.0 in /usr/local/lib/python3.6/dist-packages (from gym[atari]) (1.5.0)\n",
            "Requirement already satisfied: numpy>=1.10.4 in /usr/local/lib/python3.6/dist-packages (from gym[atari]) (1.19.5)\n",
            "Requirement already satisfied: scipy in /usr/local/lib/python3.6/dist-packages (from gym[atari]) (1.4.1)\n",
            "Requirement already satisfied: six in /usr/local/lib/python3.6/dist-packages (from gym[atari]) (1.15.0)\n",
            "Requirement already satisfied: cloudpickle~=1.2.0 in /usr/local/lib/python3.6/dist-packages (from gym[atari]) (1.2.1)\n",
            "Requirement already satisfied: atari-py~=0.2.0; extra == \"atari\" in /usr/local/lib/python3.6/dist-packages (from gym[atari]) (0.2.6)\n",
            "Requirement already satisfied: opencv-python; extra == \"atari\" in /usr/local/lib/python3.6/dist-packages (from gym[atari]) (4.1.2.30)\n",
            "Requirement already satisfied: Pillow; extra == \"atari\" in /usr/local/lib/python3.6/dist-packages (from gym[atari]) (7.0.0)\n",
            "Requirement already satisfied: future in /usr/local/lib/python3.6/dist-packages (from pyglet<=1.5.0,>=1.4.0->gym[atari]) (0.16.0)\n",
            "Requirement already satisfied: pyvirtualdisplay in /usr/local/lib/python3.6/dist-packages (2.0)\n",
            "Requirement already satisfied: EasyProcess in /usr/local/lib/python3.6/dist-packages (from pyvirtualdisplay) (0.3)\n",
            "Requirement already satisfied: piglet in /usr/local/lib/python3.6/dist-packages (1.0.0)\n",
            "Requirement already satisfied: piglet-templates in /usr/local/lib/python3.6/dist-packages (from piglet) (1.1.0)\n",
            "Requirement already satisfied: markupsafe in /usr/local/lib/python3.6/dist-packages (from piglet-templates->piglet) (1.1.1)\n",
            "Requirement already satisfied: attrs in /usr/local/lib/python3.6/dist-packages (from piglet-templates->piglet) (20.3.0)\n",
            "Requirement already satisfied: astunparse in /usr/local/lib/python3.6/dist-packages (from piglet-templates->piglet) (1.6.3)\n",
            "Requirement already satisfied: Parsley in /usr/local/lib/python3.6/dist-packages (from piglet-templates->piglet) (1.3)\n",
            "Requirement already satisfied: six<2.0,>=1.6.1 in /usr/local/lib/python3.6/dist-packages (from astunparse->piglet-templates->piglet) (1.15.0)\n",
            "Requirement already satisfied: wheel<1.0,>=0.23.0 in /usr/local/lib/python3.6/dist-packages (from astunparse->piglet-templates->piglet) (0.36.2)\n"
          ],
          "name": "stdout"
        }
      ]
    },
    {
      "cell_type": "code",
      "metadata": {
        "colab": {
          "base_uri": "https://localhost:8080/"
        },
        "id": "nWfUO9k6HVEq",
        "outputId": "848ad667-f275-49ee-a292-9d11b995f9b7"
      },
      "source": [
        "# Install spinningup on CoLab\r\n",
        "!git clone https://github.com/openai/spinningup.git\r\n",
        "!cd spinningup\r\n",
        "#!pip install -e . # this will incur error: File \"setup.py\" not found. Directory cannot be installed in editable mode: /content\r\n",
        "!pip install -e spinningup"
      ],
      "execution_count": 6,
      "outputs": [
        {
          "output_type": "stream",
          "text": [
            "fatal: destination path 'spinningup' already exists and is not an empty directory.\n",
            "Obtaining file:///content/spinningup\n",
            "Requirement already satisfied: cloudpickle==1.2.1 in /usr/local/lib/python3.6/dist-packages (from spinup==0.2.0) (1.2.1)\n",
            "Requirement already satisfied: gym[atari,box2d,classic_control]~=0.15.3 in /usr/local/lib/python3.6/dist-packages (from spinup==0.2.0) (0.15.7)\n",
            "Requirement already satisfied: ipython in /usr/local/lib/python3.6/dist-packages (from spinup==0.2.0) (5.5.0)\n",
            "Requirement already satisfied: joblib in /usr/local/lib/python3.6/dist-packages (from spinup==0.2.0) (1.0.0)\n",
            "Requirement already satisfied: matplotlib==3.1.1 in /usr/local/lib/python3.6/dist-packages (from spinup==0.2.0) (3.1.1)\n",
            "Requirement already satisfied: mpi4py in /usr/local/lib/python3.6/dist-packages (from spinup==0.2.0) (3.0.3)\n",
            "Requirement already satisfied: numpy in /usr/local/lib/python3.6/dist-packages (from spinup==0.2.0) (1.19.5)\n",
            "Requirement already satisfied: pandas in /usr/local/lib/python3.6/dist-packages (from spinup==0.2.0) (1.1.5)\n",
            "Requirement already satisfied: pytest in /usr/local/lib/python3.6/dist-packages (from spinup==0.2.0) (3.6.4)\n",
            "Requirement already satisfied: psutil in /usr/local/lib/python3.6/dist-packages (from spinup==0.2.0) (5.4.8)\n",
            "Requirement already satisfied: scipy in /usr/local/lib/python3.6/dist-packages (from spinup==0.2.0) (1.4.1)\n",
            "Requirement already satisfied: seaborn==0.8.1 in /usr/local/lib/python3.6/dist-packages (from spinup==0.2.0) (0.8.1)\n",
            "Requirement already satisfied: tensorflow<2.0,>=1.8.0 in /usr/local/lib/python3.6/dist-packages (from spinup==0.2.0) (1.15.5)\n",
            "Requirement already satisfied: torch==1.3.1 in /usr/local/lib/python3.6/dist-packages (from spinup==0.2.0) (1.3.1)\n",
            "Requirement already satisfied: tqdm in /usr/local/lib/python3.6/dist-packages (from spinup==0.2.0) (4.41.1)\n",
            "Requirement already satisfied: six in /usr/local/lib/python3.6/dist-packages (from gym[atari,box2d,classic_control]~=0.15.3->spinup==0.2.0) (1.15.0)\n",
            "Requirement already satisfied: pyglet<=1.5.0,>=1.4.0 in /usr/local/lib/python3.6/dist-packages (from gym[atari,box2d,classic_control]~=0.15.3->spinup==0.2.0) (1.5.0)\n",
            "Requirement already satisfied: opencv-python; extra == \"atari\" in /usr/local/lib/python3.6/dist-packages (from gym[atari,box2d,classic_control]~=0.15.3->spinup==0.2.0) (4.1.2.30)\n",
            "Requirement already satisfied: atari-py~=0.2.0; extra == \"atari\" in /usr/local/lib/python3.6/dist-packages (from gym[atari,box2d,classic_control]~=0.15.3->spinup==0.2.0) (0.2.6)\n",
            "Requirement already satisfied: Pillow; extra == \"atari\" in /usr/local/lib/python3.6/dist-packages (from gym[atari,box2d,classic_control]~=0.15.3->spinup==0.2.0) (7.0.0)\n",
            "Requirement already satisfied: box2d-py~=2.3.5; extra == \"box2d\" in /usr/local/lib/python3.6/dist-packages (from gym[atari,box2d,classic_control]~=0.15.3->spinup==0.2.0) (2.3.8)\n",
            "Requirement already satisfied: prompt-toolkit<2.0.0,>=1.0.4 in /usr/local/lib/python3.6/dist-packages (from ipython->spinup==0.2.0) (1.0.18)\n",
            "Requirement already satisfied: simplegeneric>0.8 in /usr/local/lib/python3.6/dist-packages (from ipython->spinup==0.2.0) (0.8.1)\n",
            "Requirement already satisfied: traitlets>=4.2 in /usr/local/lib/python3.6/dist-packages (from ipython->spinup==0.2.0) (4.3.3)\n",
            "Requirement already satisfied: pygments in /usr/local/lib/python3.6/dist-packages (from ipython->spinup==0.2.0) (2.6.1)\n",
            "Requirement already satisfied: pickleshare in /usr/local/lib/python3.6/dist-packages (from ipython->spinup==0.2.0) (0.7.5)\n",
            "Requirement already satisfied: pexpect; sys_platform != \"win32\" in /usr/local/lib/python3.6/dist-packages (from ipython->spinup==0.2.0) (4.8.0)\n",
            "Requirement already satisfied: decorator in /usr/local/lib/python3.6/dist-packages (from ipython->spinup==0.2.0) (4.4.2)\n",
            "Requirement already satisfied: setuptools>=18.5 in /usr/local/lib/python3.6/dist-packages (from ipython->spinup==0.2.0) (53.0.0)\n",
            "Requirement already satisfied: kiwisolver>=1.0.1 in /usr/local/lib/python3.6/dist-packages (from matplotlib==3.1.1->spinup==0.2.0) (1.3.1)\n",
            "Requirement already satisfied: python-dateutil>=2.1 in /usr/local/lib/python3.6/dist-packages (from matplotlib==3.1.1->spinup==0.2.0) (2.8.1)\n",
            "Requirement already satisfied: cycler>=0.10 in /usr/local/lib/python3.6/dist-packages (from matplotlib==3.1.1->spinup==0.2.0) (0.10.0)\n",
            "Requirement already satisfied: pyparsing!=2.0.4,!=2.1.2,!=2.1.6,>=2.0.1 in /usr/local/lib/python3.6/dist-packages (from matplotlib==3.1.1->spinup==0.2.0) (2.4.7)\n",
            "Requirement already satisfied: pytz>=2017.2 in /usr/local/lib/python3.6/dist-packages (from pandas->spinup==0.2.0) (2018.9)\n",
            "Requirement already satisfied: py>=1.5.0 in /usr/local/lib/python3.6/dist-packages (from pytest->spinup==0.2.0) (1.10.0)\n",
            "Requirement already satisfied: pluggy<0.8,>=0.5 in /usr/local/lib/python3.6/dist-packages (from pytest->spinup==0.2.0) (0.7.1)\n",
            "Requirement already satisfied: attrs>=17.4.0 in /usr/local/lib/python3.6/dist-packages (from pytest->spinup==0.2.0) (20.3.0)\n",
            "Requirement already satisfied: atomicwrites>=1.0 in /usr/local/lib/python3.6/dist-packages (from pytest->spinup==0.2.0) (1.4.0)\n",
            "Requirement already satisfied: more-itertools>=4.0.0 in /usr/local/lib/python3.6/dist-packages (from pytest->spinup==0.2.0) (8.7.0)\n",
            "Requirement already satisfied: google-pasta>=0.1.6 in /usr/local/lib/python3.6/dist-packages (from tensorflow<2.0,>=1.8.0->spinup==0.2.0) (0.2.0)\n",
            "Requirement already satisfied: tensorboard<1.16.0,>=1.15.0 in /usr/local/lib/python3.6/dist-packages (from tensorflow<2.0,>=1.8.0->spinup==0.2.0) (1.15.0)\n",
            "Requirement already satisfied: h5py<=2.10.0 in /usr/local/lib/python3.6/dist-packages (from tensorflow<2.0,>=1.8.0->spinup==0.2.0) (2.10.0)\n",
            "Requirement already satisfied: absl-py>=0.7.0 in /usr/local/lib/python3.6/dist-packages (from tensorflow<2.0,>=1.8.0->spinup==0.2.0) (0.10.0)\n",
            "Requirement already satisfied: keras-preprocessing>=1.0.5 in /usr/local/lib/python3.6/dist-packages (from tensorflow<2.0,>=1.8.0->spinup==0.2.0) (1.1.2)\n",
            "Requirement already satisfied: protobuf>=3.6.1 in /usr/local/lib/python3.6/dist-packages (from tensorflow<2.0,>=1.8.0->spinup==0.2.0) (3.12.4)\n",
            "Requirement already satisfied: gast==0.2.2 in /usr/local/lib/python3.6/dist-packages (from tensorflow<2.0,>=1.8.0->spinup==0.2.0) (0.2.2)\n",
            "Requirement already satisfied: astor>=0.6.0 in /usr/local/lib/python3.6/dist-packages (from tensorflow<2.0,>=1.8.0->spinup==0.2.0) (0.8.1)\n",
            "Requirement already satisfied: keras-applications>=1.0.8 in /usr/local/lib/python3.6/dist-packages (from tensorflow<2.0,>=1.8.0->spinup==0.2.0) (1.0.8)\n",
            "Requirement already satisfied: opt-einsum>=2.3.2 in /usr/local/lib/python3.6/dist-packages (from tensorflow<2.0,>=1.8.0->spinup==0.2.0) (3.3.0)\n",
            "Requirement already satisfied: wrapt>=1.11.1 in /usr/local/lib/python3.6/dist-packages (from tensorflow<2.0,>=1.8.0->spinup==0.2.0) (1.12.1)\n",
            "Requirement already satisfied: grpcio>=1.8.6 in /usr/local/lib/python3.6/dist-packages (from tensorflow<2.0,>=1.8.0->spinup==0.2.0) (1.32.0)\n",
            "Requirement already satisfied: termcolor>=1.1.0 in /usr/local/lib/python3.6/dist-packages (from tensorflow<2.0,>=1.8.0->spinup==0.2.0) (1.1.0)\n",
            "Requirement already satisfied: tensorflow-estimator==1.15.1 in /usr/local/lib/python3.6/dist-packages (from tensorflow<2.0,>=1.8.0->spinup==0.2.0) (1.15.1)\n",
            "Requirement already satisfied: wheel>=0.26; python_version >= \"3\" in /usr/local/lib/python3.6/dist-packages (from tensorflow<2.0,>=1.8.0->spinup==0.2.0) (0.36.2)\n",
            "Requirement already satisfied: future in /usr/local/lib/python3.6/dist-packages (from pyglet<=1.5.0,>=1.4.0->gym[atari,box2d,classic_control]~=0.15.3->spinup==0.2.0) (0.16.0)\n",
            "Requirement already satisfied: wcwidth in /usr/local/lib/python3.6/dist-packages (from prompt-toolkit<2.0.0,>=1.0.4->ipython->spinup==0.2.0) (0.2.5)\n",
            "Requirement already satisfied: ipython-genutils in /usr/local/lib/python3.6/dist-packages (from traitlets>=4.2->ipython->spinup==0.2.0) (0.2.0)\n",
            "Requirement already satisfied: ptyprocess>=0.5 in /usr/local/lib/python3.6/dist-packages (from pexpect; sys_platform != \"win32\"->ipython->spinup==0.2.0) (0.7.0)\n",
            "Requirement already satisfied: werkzeug>=0.11.15 in /usr/local/lib/python3.6/dist-packages (from tensorboard<1.16.0,>=1.15.0->tensorflow<2.0,>=1.8.0->spinup==0.2.0) (1.0.1)\n",
            "Requirement already satisfied: markdown>=2.6.8 in /usr/local/lib/python3.6/dist-packages (from tensorboard<1.16.0,>=1.15.0->tensorflow<2.0,>=1.8.0->spinup==0.2.0) (3.3.3)\n",
            "Requirement already satisfied: importlib-metadata; python_version < \"3.8\" in /usr/local/lib/python3.6/dist-packages (from markdown>=2.6.8->tensorboard<1.16.0,>=1.15.0->tensorflow<2.0,>=1.8.0->spinup==0.2.0) (3.4.0)\n",
            "Requirement already satisfied: zipp>=0.5 in /usr/local/lib/python3.6/dist-packages (from importlib-metadata; python_version < \"3.8\"->markdown>=2.6.8->tensorboard<1.16.0,>=1.15.0->tensorflow<2.0,>=1.8.0->spinup==0.2.0) (3.4.0)\n",
            "Requirement already satisfied: typing-extensions>=3.6.4; python_version < \"3.8\" in /usr/local/lib/python3.6/dist-packages (from importlib-metadata; python_version < \"3.8\"->markdown>=2.6.8->tensorboard<1.16.0,>=1.15.0->tensorflow<2.0,>=1.8.0->spinup==0.2.0) (3.7.4.3)\n",
            "Installing collected packages: spinup\n",
            "  Found existing installation: spinup 0.2.0\n",
            "    Can't uninstall 'spinup'. No files were found to uninstall.\n",
            "  Running setup.py develop for spinup\n",
            "Successfully installed spinup\n"
          ],
          "name": "stdout"
        }
      ]
    },
    {
      "cell_type": "code",
      "metadata": {
        "id": "VU7CV6KJg1_2"
      },
      "source": [
        "# Utility functions to enable video recording of gym environment and displaying it\r\n",
        "# To enable video, just do \"env = wrap_env(env)\"\"\r\n",
        "# \"\"\"\r\n",
        "\r\n",
        "def show_video():\r\n",
        "  mp4list = glob.glob('video/*.mp4')\r\n",
        "  if len(mp4list) > 0:\r\n",
        "    mp4 = mp4list[0]\r\n",
        "    video = io.open(mp4, 'r+b').read()\r\n",
        "    encoded = base64.b64encode(video)\r\n",
        "    ipythondisplay.display(HTML(data='''<video alt=\"test\" autoplay \r\n",
        "                loop controls style=\"height: 400px;\">\r\n",
        "                <source src=\"data:video/mp4;base64,{0}\" type=\"video/mp4\" />\r\n",
        "             </video>'''.format(encoded.decode('ascii'))))\r\n",
        "  else: \r\n",
        "    print(\"Could not find video\")\r\n",
        "    \r\n",
        "\r\n",
        "def wrap_env(env):\r\n",
        "  env = Monitor(env, './video', force=True)\r\n",
        "  return env"
      ],
      "execution_count": 67,
      "outputs": []
    },
    {
      "cell_type": "code",
      "metadata": {
        "id": "TBxgmGvmNxBg"
      },
      "source": [
        "# env_fn = lambda : gym.make('LunarLander-v2')"
      ],
      "execution_count": 58,
      "outputs": []
    },
    {
      "cell_type": "code",
      "metadata": {
        "id": "Y7kUlgRqgCGW"
      },
      "source": [
        "import gym"
      ],
      "execution_count": 59,
      "outputs": []
    },
    {
      "cell_type": "code",
      "metadata": {
        "id": "EcEuvnCgf9E-"
      },
      "source": [
        "env1=gym.make(\"LunarLander-v2\")"
      ],
      "execution_count": 21,
      "outputs": []
    },
    {
      "cell_type": "code",
      "metadata": {
        "colab": {
          "base_uri": "https://localhost:8080/"
        },
        "id": "8HUe4dlkoGSb",
        "outputId": "a45c27b3-ddfc-48ef-93b0-24b191f02cf0"
      },
      "source": [
        "env1.reset()"
      ],
      "execution_count": 22,
      "outputs": [
        {
          "output_type": "execute_result",
          "data": {
            "text/plain": [
              "array([ 0.00584812,  1.4081824 ,  0.5923288 , -0.12169501, -0.00676966,\n",
              "       -0.13417134,  0.        ,  0.        ], dtype=float32)"
            ]
          },
          "metadata": {
            "tags": []
          },
          "execution_count": 22
        }
      ]
    },
    {
      "cell_type": "code",
      "metadata": {
        "id": "Hm-PHJ_UoBzc"
      },
      "source": [
        "p=env1.step(3)"
      ],
      "execution_count": 23,
      "outputs": []
    },
    {
      "cell_type": "code",
      "metadata": {
        "colab": {
          "base_uri": "https://localhost:8080/"
        },
        "id": "nKXbO8u_oPm0",
        "outputId": "99ff8061-0a0b-42cd-d2f6-1572ebd6ca99"
      },
      "source": [
        "p"
      ],
      "execution_count": 24,
      "outputs": [
        {
          "output_type": "execute_result",
          "data": {
            "text/plain": [
              "(array([ 0.01178217,  1.4048737 ,  0.602305  , -0.14711706, -0.01556032,\n",
              "        -0.17582951,  0.        ,  0.        ], dtype=float32),\n",
              " -2.1130362041730266,\n",
              " False,\n",
              " {})"
            ]
          },
          "metadata": {
            "tags": []
          },
          "execution_count": 24
        }
      ]
    },
    {
      "cell_type": "code",
      "metadata": {
        "colab": {
          "base_uri": "https://localhost:8080/",
          "height": 287
        },
        "id": "FtLrc3LTKIsX",
        "outputId": "52d2860a-5861-4b67-9d08-b1616bee4645"
      },
      "source": [
        "# get numpy array image if an environment\r\n",
        "plt.imshow(env1.render(\"rgb_array\"))"
      ],
      "execution_count": 25,
      "outputs": [
        {
          "output_type": "execute_result",
          "data": {
            "text/plain": [
              "<matplotlib.image.AxesImage at 0x7f6249619550>"
            ]
          },
          "metadata": {
            "tags": []
          },
          "execution_count": 25
        },
        {
          "output_type": "display_data",
          "data": {
            "image/png": "[encoded data removed]",
            "text/plain": [
              "<Figure size 432x288 with 1 Axes>"
            ]
          },
          "metadata": {
            "tags": [],
            "needs_background": "light"
          }
        }
      ]
    },
    {
      "cell_type": "code",
      "metadata": {
        "id": "mH0yEZEjQCU5"
      },
      "source": [
        "obsshape=env1.observation_space.shape\r\n",
        "action=env1.action_space.n"
      ],
      "execution_count": 26,
      "outputs": []
    },
    {
      "cell_type": "code",
      "metadata": {
        "id": "qUuHcW4PmADk"
      },
      "source": [
        "#Hyperparameters\r\n",
        "buffersize=100000\r\n",
        "batchsize=64\r\n",
        "gamma=0.99\r\n",
        "tau=0.99\r\n",
        "epsilon=0.9\r\n",
        "steps=200000\r\n",
        "warmupsteps=500\r\n",
        "eps=1\r\n",
        "epsend=0.01\r\n",
        "epsdecay=0.999"
      ],
      "execution_count": 29,
      "outputs": []
    },
    {
      "cell_type": "code",
      "metadata": {
        "id": "hD-7cT0GKyEX"
      },
      "source": [
        "import torch\r\n",
        "import torch.nn as nn\r\n",
        "import torch.nn.functional as f\r\n",
        "from collections import deque\r\n",
        "import random\r\n",
        "import torch.optim as op"
      ],
      "execution_count": 30,
      "outputs": []
    },
    {
      "cell_type": "code",
      "metadata": {
        "id": "rmFU23KOOdeF"
      },
      "source": [
        "class model(nn.Module):\r\n",
        "  def __init__(self,inpdim,acdim):\r\n",
        "    super().__init__()\r\n",
        "    self.fc1=nn.Linear(inpdim,32)\r\n",
        "    self.ln=nn.LayerNorm(32)\r\n",
        "    self.fc2=nn.Linear(32,16)\r\n",
        "    self.fc3=nn.Linear(16,acdim)\r\n",
        "  def forward(self,x):\r\n",
        "    out=f.leaky_relu(self.fc1(x))\r\n",
        "    out=self.ln(out)\r\n",
        "    out=f.leaky_relu(self.fc2(out))\r\n",
        "    return self.fc3(out)"
      ],
      "execution_count": 31,
      "outputs": []
    },
    {
      "cell_type": "code",
      "metadata": {
        "id": "b6UCDqaUOjde"
      },
      "source": [
        "# remember output values of the model is a Qvalues for a state for every action\r\n",
        "# we gonna follow espilon greedy policy\r\n",
        "# we gonna do sarsamax"
      ],
      "execution_count": 32,
      "outputs": []
    },
    {
      "cell_type": "code",
      "metadata": {
        "id": "_cRfJcUSfKos"
      },
      "source": [
        "class replaybuffer:\r\n",
        "  def __init__(self,maxlen):\r\n",
        "    self.deque=deque(maxlen=maxlen)\r\n",
        "  \r\n",
        "  def add_data(self,s,a,r,d,snext):\r\n",
        "    state=torch.FloatTensor(s)\r\n",
        "    reward=torch.FloatTensor([r])\r\n",
        "    nextstate=torch.FloatTensor(snext)\r\n",
        "    self.deque.append([state,a,reward,d,nextstate])\r\n",
        "  \r\n",
        "  def sample(self,bs):\r\n",
        "    batch=random.sample(self.deque,k=bs)\r\n",
        "    state,action,reward,don,nextstate=zip(*batch)\r\n",
        "    state=torch.stack(state,0)\r\n",
        "    action=torch.LongTensor(action)\r\n",
        "    done=torch.LongTensor(don)\r\n",
        "    reward=torch.stack(reward,0)\r\n",
        "    nextstate=torch.stack(nextstate,0)\r\n",
        "    return state,action,reward,done,nextstate"
      ],
      "execution_count": 33,
      "outputs": []
    },
    {
      "cell_type": "code",
      "metadata": {
        "id": "4keK_NUJUOEB"
      },
      "source": [
        "class agent:\r\n",
        "  def __init__(self,obsdim,naction,tau):\r\n",
        "    self.targetagent=model(obsdim,naction)\r\n",
        "    self.agent=model(obsdim,naction)\r\n",
        "    self.tau=tau\r\n",
        "    self.buffer=replaybuffer(buffersize)\r\n",
        "    self.na=naction\r\n",
        "    self.optim=op.Adam(self.agent.parameters(),lr=0.0001)\r\n",
        "\r\n",
        "  def softupdate(self):\r\n",
        "    for m,n in zip(self.targetagent.parameters(),self.agent.parameters()):\r\n",
        "      m.data.copy_(self.tau*(m)+(1-self.tau)*n)\r\n",
        "  \r\n",
        "  def hardupdate(self):\r\n",
        "    for m,n in zip(self.targetagent.parameters(),self.agent.parameters()):\r\n",
        "      m.data.copy_(n)\r\n",
        "\r\n",
        "  def act(self,s,epsilon):\r\n",
        "    self.agent.eval()\r\n",
        "    with torch.no_grad():\r\n",
        "      actvals=self.agent(s)\r\n",
        "    self.agent.train()\r\n",
        "    #epsilon random policy\r\n",
        "\r\n",
        "    if random.random()>epsilon:\r\n",
        "      ac=actvals.argmax().item()\r\n",
        "    else:\r\n",
        "      ac=random.choice(range(self.na))\r\n",
        "    return ac\r\n",
        "  \r\n",
        "  def train(self):\r\n",
        "    self.optim.zero_grad()\r\n",
        "    batch=self.buffer.sample(batchsize)\r\n",
        "    qval=self.agent.forward(batch[0])\r\n",
        "    qvalf=torch.gather(qval,1,batch[1].unsqueeze(1))\r\n",
        "    qnextval=self.targetagent.forward(batch[-1]).data\r\n",
        "    qmaxval=torch.max(qnextval,1)[0]\r\n",
        "    qmaxval[batch[-2]]=0\r\n",
        "\r\n",
        "    targetq=batch[2]+gamma*qmaxval.unsqueeze(-1)\r\n",
        "    loss=f.mse_loss(qvalf,targetq)\r\n",
        "    loss.backward()\r\n",
        "    torch.nn.utils.clip_grad_norm_(self.agent.parameters(),1)  #Clipping for stability\r\n",
        "    self.optim.step()\r\n"
      ],
      "execution_count": 34,
      "outputs": []
    },
    {
      "cell_type": "code",
      "metadata": {
        "id": "2gMFhxjL5gXM"
      },
      "source": [
        "ag=agent(obsshape[0],action,tau)"
      ],
      "execution_count": 35,
      "outputs": []
    },
    {
      "cell_type": "code",
      "metadata": {
        "id": "9LMPBUmx8Kah"
      },
      "source": [
        "#Testing if code works\r\n",
        "st=torch.rand(obsshape)"
      ],
      "execution_count": 36,
      "outputs": []
    },
    {
      "cell_type": "code",
      "metadata": {
        "id": "Tn-58a20_uvy"
      },
      "source": [
        "st1=env1.reset()"
      ],
      "execution_count": 37,
      "outputs": []
    },
    {
      "cell_type": "code",
      "metadata": {
        "id": "3pU4jpNcX1Qh"
      },
      "source": [
        "meanreward=deque(maxlen=100)"
      ],
      "execution_count": 38,
      "outputs": []
    },
    {
      "cell_type": "code",
      "metadata": {
        "id": "aT0rpyQ8az9k"
      },
      "source": [
        "ag.hardupdate()"
      ],
      "execution_count": 39,
      "outputs": []
    },
    {
      "cell_type": "code",
      "metadata": {
        "colab": {
          "base_uri": "https://localhost:8080/"
        },
        "id": "ysj-ENLrjYwQ",
        "outputId": "b252dc0d-10e8-41df-91e5-da77b2822ee1"
      },
      "source": [
        "0.999**10000"
      ],
      "execution_count": 40,
      "outputs": [
        {
          "output_type": "execute_result",
          "data": {
            "text/plain": [
              "4.517334597704824e-05"
            ]
          },
          "metadata": {
            "tags": []
          },
          "execution_count": 40
        }
      ]
    },
    {
      "cell_type": "code",
      "metadata": {
        "id": "F9cFIKWj5qK9"
      },
      "source": [
        "rewardlist=[]\r\n",
        "eps1=eps\r\n",
        "for i in range(steps):\r\n",
        "  st=torch.tensor(st1)\r\n",
        "  eps1=max(eps1*epsdecay,epsend)\r\n",
        "  ac=ag.act(st,eps1)\r\n",
        "  try:\r\n",
        "    nextst,rew,done,_=env1.step(ac)\r\n",
        "  except:\r\n",
        "    print(ac)\r\n",
        "    break\r\n",
        "  \r\n",
        "  ag.buffer.add_data(st1,ac,rew,done,nextst)\r\n",
        "  meanreward.append(rew)\r\n",
        "  \r\n",
        "  if done:\r\n",
        "    st1=env1.reset()\r\n",
        "  else:\r\n",
        "    st1=nextst\r\n",
        "  \r\n",
        "  if i<warmupsteps:\r\n",
        "    continue\r\n",
        "\r\n",
        "  if (i%4)==0:\r\n",
        "    ag.softupdate()\r\n",
        "  if (i%2)==0:\r\n",
        "    ag.train()\r\n",
        "    rewardlist.append(sum(meanreward)/50.0)"
      ],
      "execution_count": 41,
      "outputs": []
    },
    {
      "cell_type": "code",
      "metadata": {
        "colab": {
          "base_uri": "https://localhost:8080/"
        },
        "id": "6wbuZ4CCkcEf",
        "outputId": "f42b5a75-b151-478d-d1ab-7c11b913acd7"
      },
      "source": [
        "print(len(ag.buffer.deque))"
      ],
      "execution_count": 42,
      "outputs": [
        {
          "output_type": "stream",
          "text": [
            "100000\n"
          ],
          "name": "stdout"
        }
      ]
    },
    {
      "cell_type": "code",
      "metadata": {
        "id": "PuejwPqD8IS-",
        "colab": {
          "base_uri": "https://localhost:8080/",
          "height": 285
        },
        "outputId": "60769154-2355-411e-a2b2-92536030ccef"
      },
      "source": [
        "plt.plot(rewardlist)"
      ],
      "execution_count": 43,
      "outputs": [
        {
          "output_type": "execute_result",
          "data": {
            "text/plain": [
              "[<matplotlib.lines.Line2D at 0x7f61fbcfeb38>]"
            ]
          },
          "metadata": {
            "tags": []
          },
          "execution_count": 43
        },
        {
          "output_type": "display_data",
          "data": {
            "image/png": "[encoded data removed]",
            "text/plain": [
              "<Figure size 432x288 with 1 Axes>"
            ]
          },
          "metadata": {
            "tags": [],
            "needs_background": "light"
          }
        }
      ]
    },
    {
      "cell_type": "code",
      "metadata": {
        "id": "85PeEXiIAdGj",
        "colab": {
          "base_uri": "https://localhost:8080/"
        },
        "outputId": "e3f441fc-844f-478a-d9d1-0cfca2479d56"
      },
      "source": [
        "rewardlist[-50:]"
      ],
      "execution_count": 44,
      "outputs": [
        {
          "output_type": "execute_result",
          "data": {
            "text/plain": [
              "[0.6159157466504742,\n",
              " 0.5419553898543054,\n",
              " 0.5003439463615088,\n",
              " 0.40800825798283336,\n",
              " 0.3199417418712676,\n",
              " 0.3453708988619828,\n",
              " 0.241732337731674,\n",
              " 0.29459502905086776,\n",
              " 0.33510186679974835,\n",
              " 0.22302560502546848,\n",
              " 0.24381909438480442,\n",
              " 0.28088614060407185,\n",
              " 0.22768852436243386,\n",
              " 0.2070925912601968,\n",
              " 0.19415856403874612,\n",
              " 0.19986669659670384,\n",
              " 0.15574198624531652,\n",
              " 0.17456977791833583,\n",
              " 0.15869893773592214,\n",
              " 0.14518633373953962,\n",
              " 0.15817219735085258,\n",
              " 0.12969097614337818,\n",
              " 0.08853697142339119,\n",
              " 0.1385498444294121,\n",
              " 0.11255118188196293,\n",
              " 0.06369933061488046,\n",
              " 0.11280051105508675,\n",
              " 0.04989091759933936,\n",
              " 0.05416467168852032,\n",
              " 0.060552859477894024,\n",
              " 0.03780477334152235,\n",
              " -0.03174320660788227,\n",
              " -0.05691136463256072,\n",
              " -0.03163313174605973,\n",
              " -0.05208323241379105,\n",
              " -0.1477613039834813,\n",
              " -0.2126328872381837,\n",
              " -0.2106808831841389,\n",
              " -0.22733998856239496,\n",
              " -0.297933812824378,\n",
              " -0.2527836031791057,\n",
              " -0.2047382412143589,\n",
              " -0.1886181689069746,\n",
              " -0.20731334489515396,\n",
              " -0.2535246534902314,\n",
              " -0.18075419832593112,\n",
              " -0.1566655277619678,\n",
              " -0.12277471094574093,\n",
              " -0.1569928976733204,\n",
              " -0.12260020966322717]"
            ]
          },
          "metadata": {
            "tags": []
          },
          "execution_count": 44
        }
      ]
    },
    {
      "cell_type": "code",
      "metadata": {
        "id": "5IhVRImgAlUy"
      },
      "source": [
        "env1 = wrap_env(gym.make(\"LunarLander-v2\"))"
      ],
      "execution_count": 98,
      "outputs": []
    },
    {
      "cell_type": "code",
      "metadata": {
        "id": "Jw798cdH513a"
      },
      "source": [
        "s1=env1.reset()"
      ],
      "execution_count": 99,
      "outputs": []
    },
    {
      "cell_type": "code",
      "metadata": {
        "id": "hlLf89Es9Tsa"
      },
      "source": [
        "s1=torch.FloatTensor(s1).view(1,-1)"
      ],
      "execution_count": 100,
      "outputs": []
    },
    {
      "cell_type": "code",
      "metadata": {
        "colab": {
          "base_uri": "https://localhost:8080/"
        },
        "id": "SyK7nhDR9T6m",
        "outputId": "1a07bae5-cc9c-4dc1-d4e6-9e8939295081"
      },
      "source": [
        "ac"
      ],
      "execution_count": 101,
      "outputs": [
        {
          "output_type": "execute_result",
          "data": {
            "text/plain": [
              "0"
            ]
          },
          "metadata": {
            "tags": []
          },
          "execution_count": 101
        }
      ]
    },
    {
      "cell_type": "code",
      "metadata": {
        "id": "Ob_VlJHAAnYq",
        "colab": {
          "base_uri": "https://localhost:8080/"
        },
        "outputId": "7cec7ba8-9803-45bb-f1da-44d7d598afea"
      },
      "source": [
        "count=0\r\n",
        "while count<500:\r\n",
        "  env1.render(\"rgb_array\")\r\n",
        "  # obs=ptan.agent.float32_preprocessor(obs)\r\n",
        "  # action=model.forward(obs)[0].data.cpu().numpy()\r\n",
        "  #action=ag.act(s1,1)\r\n",
        "  action=random.choice([0,1,2,3])\r\n",
        "  print(action)\r\n",
        "  obs,rew,done,_=env1.step(action)\r\n",
        "  s1=torch.FloatTensor(obs).view(1,-1)\r\n",
        "  count+=1\r\n",
        "  if done:\r\n",
        "    break\r\n",
        "\r\n",
        "env1.close()"
      ],
      "execution_count": 102,
      "outputs": [
        {
          "output_type": "stream",
          "text": [
            "1\n",
            "3\n",
            "3\n",
            "2\n",
            "3\n",
            "1\n",
            "3\n",
            "0\n",
            "3\n",
            "3\n",
            "2\n",
            "1\n",
            "3\n",
            "3\n",
            "0\n",
            "2\n",
            "0\n",
            "3\n",
            "1\n",
            "0\n",
            "1\n",
            "2\n",
            "2\n",
            "1\n",
            "2\n",
            "0\n",
            "2\n",
            "1\n",
            "0\n",
            "2\n",
            "3\n",
            "2\n",
            "0\n",
            "0\n",
            "2\n",
            "2\n",
            "0\n",
            "0\n",
            "3\n",
            "3\n",
            "3\n",
            "2\n",
            "3\n",
            "0\n",
            "0\n",
            "1\n",
            "0\n",
            "3\n",
            "0\n",
            "2\n",
            "2\n",
            "3\n",
            "2\n",
            "0\n",
            "0\n",
            "1\n",
            "1\n",
            "1\n",
            "1\n",
            "3\n"
          ],
          "name": "stdout"
        }
      ]
    },
    {
      "cell_type": "code",
      "metadata": {
        "colab": {
          "base_uri": "https://localhost:8080/",
          "height": 421
        },
        "id": "I1fn99m-Aqa0",
        "outputId": "88ade1de-4154-4f0e-8e4d-19d94e4839f5"
      },
      "source": [
        "show_video()"
      ],
      "execution_count": 103,
      "outputs": [
        {
          "output_type": "display_data",
          "data": {
            "text/html": [
              "<video alt=\"test\" autoplay \n",
              "                loop controls style=\"height: 400px;\">\n",
              "                <source src=\"data:video/mp4;base64,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\" type=\"video/mp4\" />\n",
              "             </video>"
            ],
            "text/plain": [
              "<IPython.core.display.HTML object>"
            ]
          },
          "metadata": {
            "tags": []
          }
        }
      ]
    },
    {
      "cell_type": "code",
      "metadata": {
        "colab": {
          "base_uri": "https://localhost:8080/"
        },
        "id": "nNa2o7tv_NwI",
        "outputId": "61472d72-3674-4385-d9dd-afe20a6d252b"
      },
      "source": [
        "rew"
      ],
      "execution_count": 94,
      "outputs": [
        {
          "output_type": "execute_result",
          "data": {
            "text/plain": [
              "-100"
            ]
          },
          "metadata": {
            "tags": []
          },
          "execution_count": 94
        }
      ]
    },
    {
      "cell_type": "code",
      "metadata": {
        "id": "uiURrra1Giy1",
        "colab": {
          "base_uri": "https://localhost:8080/"
        },
        "outputId": "64cec37f-9453-436d-df11-7ba83d81a8e7"
      },
      "source": [
        "env1.reward_range"
      ],
      "execution_count": 95,
      "outputs": [
        {
          "output_type": "execute_result",
          "data": {
            "text/plain": [
              "(-inf, inf)"
            ]
          },
          "metadata": {
            "tags": []
          },
          "execution_count": 95
        }
      ]
    },
    {
      "cell_type": "code",
      "metadata": {
        "id": "kVgyf4d-HH-9"
      },
      "source": [
        ""
      ],
      "execution_count": null,
      "outputs": []
    },
    {
      "cell_type": "code",
      "metadata": {
        "id": "M2yIDGeVHNCN"
      },
      "source": [
        ""
      ],
      "execution_count": 87,
      "outputs": []
    },
    {
      "cell_type": "code",
      "metadata": {
        "id": "3lukKD11HNk9"
      },
      "source": [
        ""
      ],
      "execution_count": 87,
      "outputs": []
    },
    {
      "cell_type": "code",
      "metadata": {
        "id": "9eSAr_NqHPJl"
      },
      "source": [
        ""
      ],
      "execution_count": 87,
      "outputs": []
    }
  ]
}