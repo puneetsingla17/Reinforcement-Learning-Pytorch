{
  "nbformat": 4,
  "nbformat_minor": 0,
  "metadata": {
    "colab": {
      "name": "ActorCritic.ipynb",
      "provenance": [],
      "collapsed_sections": []
    },
    "kernelspec": {
      "name": "python3",
      "display_name": "Python 3"
    }
  },
  "cells": [
    {
      "cell_type": "code",
      "metadata": {
        "id": "rOvacgkypHHf",
        "colab_type": "code",
        "colab": {}
      },
      "source": [
        "import torch\n",
        "import torch.nn as nn\n",
        "import torch.nn.functional as f\n",
        "import matplotlib.pyplot as plt\n",
        "import numpy as np\n",
        "import torch.optim as op\n",
        "import gym\n",
        "import torch.nn.utils as nnutils"
      ],
      "execution_count": 0,
      "outputs": []
    },
    {
      "cell_type": "code",
      "metadata": {
        "id": "MXUtfyGrpYM4",
        "colab_type": "code",
        "outputId": "98632425-2f59-4033-d74e-e5eeb4504741",
        "colab": {
          "base_uri": "https://localhost:8080/",
          "height": 204
        }
      },
      "source": [
        "!pip install ptan"
      ],
      "execution_count": 0,
      "outputs": [
        {
          "output_type": "stream",
          "text": [
            "Requirement already satisfied: ptan in /usr/local/lib/python3.6/dist-packages (0.6)\n",
            "Requirement already satisfied: gym in /usr/local/lib/python3.6/dist-packages (from ptan) (0.17.1)\n",
            "Requirement already satisfied: atari-py in /usr/local/lib/python3.6/dist-packages (from ptan) (0.2.6)\n",
            "Requirement already satisfied: numpy in /usr/local/lib/python3.6/dist-packages (from ptan) (1.18.2)\n",
            "Requirement already satisfied: opencv-python in /usr/local/lib/python3.6/dist-packages (from ptan) (4.1.2.30)\n",
            "Requirement already satisfied: torch==1.3.0 in /usr/local/lib/python3.6/dist-packages (from ptan) (1.3.0)\n",
            "Requirement already satisfied: scipy in /usr/local/lib/python3.6/dist-packages (from gym->ptan) (1.4.1)\n",
            "Requirement already satisfied: cloudpickle<1.4.0,>=1.2.0 in /usr/local/lib/python3.6/dist-packages (from gym->ptan) (1.3.0)\n",
            "Requirement already satisfied: six in /usr/local/lib/python3.6/dist-packages (from gym->ptan) (1.12.0)\n",
            "Requirement already satisfied: pyglet<=1.5.0,>=1.4.0 in /usr/local/lib/python3.6/dist-packages (from gym->ptan) (1.5.0)\n",
            "Requirement already satisfied: future in /usr/local/lib/python3.6/dist-packages (from pyglet<=1.5.0,>=1.4.0->gym->ptan) (0.16.0)\n"
          ],
          "name": "stdout"
        }
      ]
    },
    {
      "cell_type": "code",
      "metadata": {
        "id": "WRu8NZyupa1g",
        "colab_type": "code",
        "colab": {}
      },
      "source": [
        "import ptan"
      ],
      "execution_count": 0,
      "outputs": []
    },
    {
      "cell_type": "code",
      "metadata": {
        "id": "-3riO5wSpbsd",
        "colab_type": "code",
        "colab": {}
      },
      "source": [
        "gamma=0.99\n",
        "lr=0.001\n",
        "entropybeta=0.01\n",
        "batchsize=128\n",
        "numenvs=50\n",
        "rewardsteps=4\n",
        "clip=0.1\n",
        "rewardsteps=4"
      ],
      "execution_count": 0,
      "outputs": []
    },
    {
      "cell_type": "code",
      "metadata": {
        "id": "AVZjQzNwksaB",
        "colab_type": "code",
        "colab": {}
      },
      "source": [
        "env=gym.make(\"PongNoFrameskip-v4\")"
      ],
      "execution_count": 0,
      "outputs": []
    },
    {
      "cell_type": "code",
      "metadata": {
        "id": "owLLAp_cFFZb",
        "colab_type": "code",
        "colab": {}
      },
      "source": [
        "class scaleobs(gym.ObservationWrapper):\n",
        "  def __init__(self,env):\n",
        "    super().__init__(env)\n",
        "    self.env=env\n",
        "  \n",
        "  def observation(self,x):\n",
        "    return np.array(x).astype(np.float32)/255.0"
      ],
      "execution_count": 0,
      "outputs": []
    },
    {
      "cell_type": "code",
      "metadata": {
        "id": "ddTMM8mHlNDX",
        "colab_type": "code",
        "colab": {}
      },
      "source": [
        "obsdim=[4, 84, 84]\n",
        "acdim=env.action_space.n"
      ],
      "execution_count": 0,
      "outputs": []
    },
    {
      "cell_type": "code",
      "metadata": {
        "id": "AbFpTuz7l7ib",
        "colab_type": "code",
        "colab": {}
      },
      "source": [
        "class model(nn.Module):\n",
        "  def __init__(self,obsdim,acdim):\n",
        "    super().__init__()\n",
        "    self.obsdim=obsdim\n",
        "    self.cnn1=nn.Conv2d(self.obsdim[0],32,8,stride=4)\n",
        "    self.cnn2=nn.Conv2d(32,64,4,stride=2)\n",
        "    self.cnn3=nn.Conv2d(64,128,4,stride=2)\n",
        "    outdim=self.getdim()\n",
        "    self.fc1=nn.Linear(outdim,128)\n",
        "    self.fc2=nn.Linear(128,acdim)\n",
        "    self.fc3=nn.Linear(128,1)\n",
        "\n",
        "  def forward(self,x):\n",
        "    x=x.float()\n",
        "    out=f.leaky_relu(self.cnn1(x))\n",
        "    out=f.leaky_relu(self.cnn2(out))\n",
        "    out=f.leaky_relu(self.cnn3(out))\n",
        "    out=nn.Flatten(1,-1)(out)\n",
        "    out=f.leaky_relu(self.fc1(out))\n",
        "    return self.fc2(out),self.fc3(out)    # Actionadvantage , Value of state\n",
        "\n",
        "  def getdim(self):\n",
        "    zer=torch.zeros(1,*self.obsdim)\n",
        "    out=self.cnn3(self.cnn2(self.cnn1(zer)))\n",
        "    return out.shape[1]*out.shape[2]*out.shape[3]"
      ],
      "execution_count": 0,
      "outputs": []
    },
    {
      "cell_type": "code",
      "metadata": {
        "id": "RB4k0zrJrCaN",
        "colab_type": "code",
        "outputId": "94cc02fa-feb3-4af1-e261-675eb143dcaf",
        "colab": {
          "base_uri": "https://localhost:8080/",
          "height": 51
        }
      },
      "source": [
        "env=ptan.common.wrappers.wrap_dqn(env)"
      ],
      "execution_count": 0,
      "outputs": [
        {
          "output_type": "stream",
          "text": [
            "/usr/local/lib/python3.6/dist-packages/gym/logger.py:30: UserWarning: \u001b[33mWARN: Box bound precision lowered by casting to float32\u001b[0m\n",
            "  warnings.warn(colorize('%s: %s'%('WARN', msg % args), 'yellow'))\n"
          ],
          "name": "stderr"
        }
      ]
    },
    {
      "cell_type": "code",
      "metadata": {
        "id": "eS2cOKbetlGn",
        "colab_type": "code",
        "colab": {}
      },
      "source": [
        "net=model(obsdim,acdim)"
      ],
      "execution_count": 0,
      "outputs": []
    },
    {
      "cell_type": "code",
      "metadata": {
        "id": "IjWRWuGqBkVg",
        "colab_type": "code",
        "colab": {}
      },
      "source": [
        "a=torch.randn((2,4,84,84))\n",
        "t=net(a)"
      ],
      "execution_count": 0,
      "outputs": []
    },
    {
      "cell_type": "code",
      "metadata": {
        "id": "07YQPhUMCBtt",
        "colab_type": "code",
        "outputId": "3838c36c-0989-4472-ea60-2c0779426523",
        "colab": {
          "base_uri": "https://localhost:8080/",
          "height": 34
        }
      },
      "source": [
        "t[1][:,0].shape"
      ],
      "execution_count": 0,
      "outputs": [
        {
          "output_type": "execute_result",
          "data": {
            "text/plain": [
              "torch.Size([2])"
            ]
          },
          "metadata": {
            "tags": []
          },
          "execution_count": 99
        }
      ]
    },
    {
      "cell_type": "code",
      "metadata": {
        "id": "2XCBRBkNrcrM",
        "colab_type": "code",
        "colab": {}
      },
      "source": [
        "def unpackbatch(batch,net,device):\n",
        "  states=[]\n",
        "  actions=[]\n",
        "  rewards=[]\n",
        "  laststate=[]\n",
        "  notdoneidx=[]\n",
        "  for idx,e in enumerate(batch):\n",
        "    states.append(np.array(e.state,copy=False))\n",
        "    actions.append(e.action)\n",
        "    rewards.append(e.reward)\n",
        "\n",
        "    if laststate is not None:\n",
        "      notdoneidx.append(idx)\n",
        "      laststate.append(np.array(e.last_state,copy=False))\n",
        "  \n",
        "  batchst=torch.FloatTensor(states)\n",
        "  batchac=torch.LongTensor(actions)\n",
        "  rewardarr=np.array(rewards,dtype=np.float32)\n",
        "\n",
        "  if notdoneidx:\n",
        "    batchls=torch.FloatTensor(laststate)\n",
        "    laststate_v=net(batchls)[1]   # Givens the \n",
        "    laststate_np=laststate_v.data.cpu().numpy()[:,0]\n",
        "    rewardarr[notdoneidx]+=(gamma**rewardsteps)*laststate_np# using bellmans equation converting rewardarr to Qs=r+(gamma^power)*Qsnext\n",
        "\n",
        "  ref_vals_v=torch.FloatTensor(rewardarr)\n",
        "  return batchst,batchac,ref_vals_v\n",
        "# net is giving out Action Advantage values and value of state ,using that to get value of starting state using bellmans equation"
      ],
      "execution_count": 0,
      "outputs": []
    },
    {
      "cell_type": "code",
      "metadata": {
        "id": "6Z5xinqQreWk",
        "colab_type": "code",
        "outputId": "93f2866b-eb49-4836-802a-56e31d5e67fd",
        "colab": {
          "base_uri": "https://localhost:8080/",
          "height": 51
        }
      },
      "source": [
        "makeenv=lambda:scaleobs(ptan.common.wrappers.wrap_dqn(gym.make(\"PongNoFrameskip-v4\")))\n",
        "envs=[makeenv() for _ in range(numenvs)]"
      ],
      "execution_count": 0,
      "outputs": [
        {
          "output_type": "stream",
          "text": [
            "/usr/local/lib/python3.6/dist-packages/gym/logger.py:30: UserWarning: \u001b[33mWARN: Box bound precision lowered by casting to float32\u001b[0m\n",
            "  warnings.warn(colorize('%s: %s'%('WARN', msg % args), 'yellow'))\n"
          ],
          "name": "stderr"
        }
      ]
    },
    {
      "cell_type": "code",
      "metadata": {
        "id": "N41B7v4HrnFr",
        "colab_type": "code",
        "colab": {}
      },
      "source": [
        "agent=ptan.agent.PolicyAgent(lambda x:net(x)[0],apply_softmax=True)"
      ],
      "execution_count": 0,
      "outputs": []
    },
    {
      "cell_type": "code",
      "metadata": {
        "id": "THo_Z4u_rpF4",
        "colab_type": "code",
        "colab": {}
      },
      "source": [
        "#inside agent it needs a function"
      ],
      "execution_count": 0,
      "outputs": []
    },
    {
      "cell_type": "code",
      "metadata": {
        "id": "D2kIj8bsLRWC",
        "colab_type": "code",
        "colab": {}
      },
      "source": [
        "expsource=ptan.experience.ExperienceSourceFirstLast(envs,agent,gamma,steps_count=rewardsteps)"
      ],
      "execution_count": 0,
      "outputs": []
    },
    {
      "cell_type": "code",
      "metadata": {
        "id": "YebJ6BHgLgdb",
        "colab_type": "code",
        "colab": {}
      },
      "source": [
        "optimizer=op.Adam(net.parameters(),lr=0.0001)"
      ],
      "execution_count": 0,
      "outputs": []
    },
    {
      "cell_type": "code",
      "metadata": {
        "id": "V-skWRXyR8qJ",
        "colab_type": "code",
        "colab": {}
      },
      "source": [
        "batchsize=128\n",
        "entropybeta=0.01\n",
        "device=torch.device(\"cuda\" if torch.cuda.is_available() else \"cpu\")\n",
        "clip=0.1"
      ],
      "execution_count": 0,
      "outputs": []
    },
    {
      "cell_type": "code",
      "metadata": {
        "id": "BYoslEn0bPj4",
        "colab_type": "code",
        "outputId": "19bee976-8acd-413a-b174-4501bb807524",
        "colab": {
          "base_uri": "https://localhost:8080/",
          "height": 163
        }
      },
      "source": [
        "adsa"
      ],
      "execution_count": 0,
      "outputs": [
        {
          "output_type": "error",
          "ename": "NameError",
          "evalue": "ignored",
          "traceback": [
            "\u001b[0;31m---------------------------------------------------------------------------\u001b[0m",
            "\u001b[0;31mNameError\u001b[0m                                 Traceback (most recent call last)",
            "\u001b[0;32m<ipython-input-107-052dcc45fab4>\u001b[0m in \u001b[0;36m<module>\u001b[0;34m()\u001b[0m\n\u001b[0;32m----> 1\u001b[0;31m \u001b[0madsa\u001b[0m\u001b[0;34m\u001b[0m\u001b[0;34m\u001b[0m\u001b[0m\n\u001b[0m",
            "\u001b[0;31mNameError\u001b[0m: name 'adsa' is not defined"
          ]
        }
      ]
    },
    {
      "cell_type": "code",
      "metadata": {
        "id": "uuw4vJL0M-dh",
        "colab_type": "code",
        "colab": {}
      },
      "source": [
        "batch=[]\n",
        "for e in expsource:\n",
        "  batch.append(e)\n",
        "  newrewards=expsource.pop_total_rewards()\n",
        "  if len(batch)<batchsize:\n",
        "    continue\n",
        "  \n",
        "  states,actionsv,refv=unpackbatch(batch,net,device)\n",
        "  batch.clear()\n",
        "\n",
        "  optimizer.zero_grad()\n",
        "  logits,val=net(states)\n",
        "  lossvalues=nn.MSELoss(val.unsqueeze(-1),refv)\n",
        "\n",
        "  logprobv=f.log_softmax(logits,dim=1)\n",
        "  adv_v=refv-val.detach()\n",
        "  logprobactionsv=adv_v*logprobv[range(batchsize),actionsv]\n",
        "  losspolicyv=logprobactionsv.mean()\n",
        "\n",
        "  prob=f.softmax(logits,dim=1)\n",
        "  entropyv=entropybeta*((prob*logprobv).sum(dim=1).mean())\n",
        "\n",
        "  losspolicyv.backward(retain_graph=True)\n",
        "\n",
        "  lossv=entropyv+lossvalues\n",
        "  lossv.backward()\n",
        "\n",
        "  nnutils.clip_grad_(net.parameters(),clip)\n",
        "  optimizer.step()\n"
      ],
      "execution_count": 0,
      "outputs": []
    },
    {
      "cell_type": "code",
      "metadata": {
        "id": "Fmt7ARHANFKS",
        "colab_type": "code",
        "colab": {}
      },
      "source": [
        ""
      ],
      "execution_count": 0,
      "outputs": []
    }
  ]
}