{
  "nbformat": 4,
  "nbformat_minor": 0,
  "metadata": {
    "colab": {
      "name": "Nstep-DQN.ipynb",
      "provenance": [],
      "collapsed_sections": []
    },
    "kernelspec": {
      "name": "python3",
      "display_name": "Python 3"
    }
  },
  "cells": [
    {
      "cell_type": "code",
      "metadata": {
        "id": "kKhUiNGvcg-z",
        "colab_type": "code",
        "colab": {}
      },
      "source": [
        "import torch\n",
        "import torch.nn as n\n",
        "import torch.nn.functional as f\n",
        "import numpy as np\n",
        "import matplotlib.pyplot as plt\n",
        "import torch.optim as op\n",
        "import gym"
      ],
      "execution_count": 0,
      "outputs": []
    },
    {
      "cell_type": "code",
      "metadata": {
        "id": "9xbpeanGiKCm",
        "colab_type": "code",
        "outputId": "78e60293-b781-4a83-875e-33a6e95497c0",
        "colab": {
          "base_uri": "https://localhost:8080/",
          "height": 547
        }
      },
      "source": [
        "!pip install ptan"
      ],
      "execution_count": 0,
      "outputs": [
        {
          "output_type": "stream",
          "text": [
            "Collecting ptan\n",
            "  Downloading https://files.pythonhosted.org/packages/91/cb/57f6d86625f2b24c008b0524ca29559683aa75d00afa38b6b44d7fcad25b/ptan-0.6.tar.gz\n",
            "Collecting torch==1.3.0\n",
            "\u001b[?25l  Downloading https://files.pythonhosted.org/packages/ae/05/50a05de5337f7a924bb8bd70c6936230642233e424d6a9747ef1cfbde353/torch-1.3.0-cp36-cp36m-manylinux1_x86_64.whl (773.1MB)\n",
            "\u001b[K     |████████████████████████████████| 773.1MB 21kB/s \n",
            "\u001b[?25hRequirement already satisfied: gym in /usr/local/lib/python3.6/dist-packages (from ptan) (0.17.1)\n",
            "Requirement already satisfied: atari-py in /usr/local/lib/python3.6/dist-packages (from ptan) (0.2.6)\n",
            "Requirement already satisfied: numpy in /usr/local/lib/python3.6/dist-packages (from ptan) (1.18.2)\n",
            "Requirement already satisfied: opencv-python in /usr/local/lib/python3.6/dist-packages (from ptan) (4.1.2.30)\n",
            "Requirement already satisfied: pyglet<=1.5.0,>=1.4.0 in /usr/local/lib/python3.6/dist-packages (from gym->ptan) (1.5.0)\n",
            "Requirement already satisfied: six in /usr/local/lib/python3.6/dist-packages (from gym->ptan) (1.12.0)\n",
            "Requirement already satisfied: scipy in /usr/local/lib/python3.6/dist-packages (from gym->ptan) (1.4.1)\n",
            "Requirement already satisfied: cloudpickle<1.4.0,>=1.2.0 in /usr/local/lib/python3.6/dist-packages (from gym->ptan) (1.3.0)\n",
            "Requirement already satisfied: future in /usr/local/lib/python3.6/dist-packages (from pyglet<=1.5.0,>=1.4.0->gym->ptan) (0.16.0)\n",
            "Building wheels for collected packages: ptan\n",
            "  Building wheel for ptan (setup.py) ... \u001b[?25l\u001b[?25hdone\n",
            "  Created wheel for ptan: filename=ptan-0.6-cp36-none-any.whl size=23502 sha256=da131defd76f885b38af7cc7e694666cd5c7795d70948ab19b47b9e3a5d36d07\n",
            "  Stored in directory: /root/.cache/pip/wheels/f0/4b/2f/9a45fd39b0a614a2716bc6128a7f1adb4647f323a2d90783f2\n",
            "Successfully built ptan\n",
            "\u001b[31mERROR: torchvision 0.5.0 has requirement torch==1.4.0, but you'll have torch 1.3.0 which is incompatible.\u001b[0m\n",
            "Installing collected packages: torch, ptan\n",
            "  Found existing installation: torch 1.4.0\n",
            "    Uninstalling torch-1.4.0:\n",
            "      Successfully uninstalled torch-1.4.0\n",
            "Successfully installed ptan-0.6 torch-1.3.0\n"
          ],
          "name": "stdout"
        },
        {
          "output_type": "display_data",
          "data": {
            "application/vnd.colab-display-data+json": {
              "pip_warning": {
                "packages": [
                  "torch"
                ]
              }
            }
          },
          "metadata": {
            "tags": []
          }
        }
      ]
    },
    {
      "cell_type": "code",
      "metadata": {
        "id": "5c1-bIzDiPsz",
        "colab_type": "code",
        "colab": {}
      },
      "source": [
        "import ptan\n",
        "device=torch.device(\"cuda\" if torch.cuda.is_available() else \"cpu\")"
      ],
      "execution_count": 0,
      "outputs": []
    },
    {
      "cell_type": "code",
      "metadata": {
        "id": "SF69FwC9XZkO",
        "colab_type": "code",
        "colab": {}
      },
      "source": [
        "class scaled(gym.ObservationWrapper):\n",
        "  def __init__(self,env):\n",
        "    super().__init__(env)\n",
        "    self.env=env\n",
        "  \n",
        "  def observation(self,x):\n",
        "    return np.array(x).astype(np.float32)/255.0"
      ],
      "execution_count": 0,
      "outputs": []
    },
    {
      "cell_type": "code",
      "metadata": {
        "id": "P7ZVScD3Eyu6",
        "colab_type": "code",
        "outputId": "e55a4322-1693-46d0-a79f-518ec0ce4782",
        "colab": {
          "base_uri": "https://localhost:8080/",
          "height": 51
        }
      },
      "source": [
        "env=gym.make(\"PongNoFrameskip-v4\")\n",
        "env=ptan.common.wrappers.wrap_dqn(env)\n",
        "env=scaled(env)"
      ],
      "execution_count": 0,
      "outputs": [
        {
          "output_type": "stream",
          "text": [
            "/usr/local/lib/python3.6/dist-packages/gym/logger.py:30: UserWarning: \u001b[33mWARN: Box bound precision lowered by casting to float32\u001b[0m\n",
            "  warnings.warn(colorize('%s: %s'%('WARN', msg % args), 'yellow'))\n"
          ],
          "name": "stderr"
        }
      ]
    },
    {
      "cell_type": "code",
      "metadata": {
        "id": "uh7XxtSFP-Fz",
        "colab_type": "code",
        "outputId": "dbed3291-8b47-4157-b518-61c9e5957f55",
        "colab": {
          "base_uri": "https://localhost:8080/",
          "height": 34
        }
      },
      "source": [
        "env.action_space.n"
      ],
      "execution_count": 0,
      "outputs": [
        {
          "output_type": "execute_result",
          "data": {
            "text/plain": [
              "6"
            ]
          },
          "metadata": {
            "tags": []
          },
          "execution_count": 99
        }
      ]
    },
    {
      "cell_type": "code",
      "metadata": {
        "id": "-E6BseJ3J-kY",
        "colab_type": "code",
        "colab": {}
      },
      "source": [
        "obsdim=env.observation_space.shape[0]\n",
        "nactions=env.action_space.n"
      ],
      "execution_count": 0,
      "outputs": []
    },
    {
      "cell_type": "code",
      "metadata": {
        "id": "M4SJ4HutJ0Zf",
        "colab_type": "code",
        "colab": {}
      },
      "source": [
        "class net(n.Module):\n",
        "  def __init__(self,inputshape,nactions):\n",
        "    super().__init__()\n",
        "    self.cnn1=n.Conv2d(4,32,kernel_size=8,stride=4)\n",
        "    self.cnn2=n.Conv2d(32,64,kernel_size=4,stride=2)\n",
        "    self.cnn3=n.Conv2d(64,128,kernel_size=4,stride=2)\n",
        "    len1=self.getconvshape(inputshape)\n",
        "    self.fc1=n.Linear(len1,128)\n",
        "    self.fc2=n.Linear(128,nactions)\n",
        "\n",
        "  def getconvshape(self,inputshape):\n",
        "    x=torch.zeros(1,inputshape[0],inputshape[1],inputshape[2])\n",
        "    out=self.cnn3(self.cnn2(self.cnn1(x)))\n",
        "    return out.shape[1]*out.shape[2]*out.shape[3]\n",
        "\n",
        "  def forward(self,x):\n",
        "    out=f.relu(self.cnn1(x))\n",
        "    out=f.relu(self.cnn2(out))\n",
        "    out=f.relu(self.cnn3(out))\n",
        "    out=n.Flatten(1,-1)(out)\n",
        "    out=f.relu(self.fc1(out))\n",
        "    return self.fc2(out)"
      ],
      "execution_count": 0,
      "outputs": []
    },
    {
      "cell_type": "code",
      "metadata": {
        "id": "DVlQx2DfVw2a",
        "colab_type": "code",
        "colab": {}
      },
      "source": [
        "device=torch.device(\"cuda\" if torch.cuda.is_available() else \"cpu\")"
      ],
      "execution_count": 0,
      "outputs": []
    },
    {
      "cell_type": "code",
      "metadata": {
        "id": "UuVLoVt1Smfo",
        "colab_type": "code",
        "colab": {}
      },
      "source": [
        "model=net([4,84,84],6).to(device)"
      ],
      "execution_count": 0,
      "outputs": []
    },
    {
      "cell_type": "code",
      "metadata": {
        "id": "irXiMtDWSuys",
        "colab_type": "code",
        "outputId": "547601e2-0436-437e-9d05-d0203925769c",
        "colab": {
          "base_uri": "https://localhost:8080/",
          "height": 136
        }
      },
      "source": [
        "model"
      ],
      "execution_count": 0,
      "outputs": [
        {
          "output_type": "execute_result",
          "data": {
            "text/plain": [
              "net(\n",
              "  (cnn1): Conv2d(4, 32, kernel_size=(8, 8), stride=(4, 4))\n",
              "  (cnn2): Conv2d(32, 64, kernel_size=(4, 4), stride=(2, 2))\n",
              "  (cnn3): Conv2d(64, 128, kernel_size=(4, 4), stride=(2, 2))\n",
              "  (fc1): Linear(in_features=1152, out_features=128, bias=True)\n",
              "  (fc2): Linear(in_features=128, out_features=6, bias=True)\n",
              ")"
            ]
          },
          "metadata": {
            "tags": []
          },
          "execution_count": 104
        }
      ]
    },
    {
      "cell_type": "code",
      "metadata": {
        "id": "GNxE5WSmS6XZ",
        "colab_type": "code",
        "outputId": "fbff8a6d-6ad3-4cf9-e2e1-92fcd5c910d5",
        "colab": {
          "base_uri": "https://localhost:8080/",
          "height": 34
        }
      },
      "source": [
        "#Testing model\n",
        "x=torch.zeros(1,4,84,84)\n",
        "model(x).shape"
      ],
      "execution_count": 0,
      "outputs": [
        {
          "output_type": "execute_result",
          "data": {
            "text/plain": [
              "torch.Size([1, 6])"
            ]
          },
          "metadata": {
            "tags": []
          },
          "execution_count": 105
        }
      ]
    },
    {
      "cell_type": "code",
      "metadata": {
        "id": "OS8L4OZ_Ke-6",
        "colab_type": "code",
        "colab": {}
      },
      "source": [
        "eps=0.1\n",
        "gamma=0.99"
      ],
      "execution_count": 0,
      "outputs": []
    },
    {
      "cell_type": "code",
      "metadata": {
        "id": "prg4bA39KUG_",
        "colab_type": "code",
        "colab": {}
      },
      "source": [
        "epsselector=ptan.actions.EpsilonGreedyActionSelector(epsilon=eps)\n",
        "agent=ptan.agent.DQNAgent(model,epsselector,device=device)"
      ],
      "execution_count": 0,
      "outputs": []
    },
    {
      "cell_type": "code",
      "metadata": {
        "id": "lzZDfSY4LIAe",
        "colab_type": "code",
        "colab": {}
      },
      "source": [
        "expsource=ptan.experience.ExperienceSourceFirstLast(env,agent,gamma=gamma,steps_count=2)"
      ],
      "execution_count": 0,
      "outputs": []
    },
    {
      "cell_type": "code",
      "metadata": {
        "id": "I35nmOwmLhbZ",
        "colab_type": "code",
        "outputId": "91fbc0ff-b848-48d6-ec46-6dcb07505122",
        "colab": {
          "base_uri": "https://localhost:8080/",
          "height": 187
        }
      },
      "source": [
        "count=0\n",
        "for exp in expsource:\n",
        "  \n",
        "  if exp.last_state is None:\n",
        "    print(expsource.pop_total_rewards())\n",
        "    print(exp.last_state)\n",
        "    print(exp.reward)\n",
        "    print(count)\n",
        "    print(\"---\")\n",
        "\n",
        "  count+=1           # 2 consecutive are having last_state as None\n",
        "  if count==1000:\n",
        "    break"
      ],
      "execution_count": 0,
      "outputs": [
        {
          "output_type": "stream",
          "text": [
            "[]\n",
            "None\n",
            "-0.99\n",
            "828\n",
            "---\n",
            "[]\n",
            "None\n",
            "-1.0\n",
            "829\n",
            "---\n"
          ],
          "name": "stdout"
        }
      ]
    },
    {
      "cell_type": "code",
      "metadata": {
        "id": "A78yvjZDL6cs",
        "colab_type": "code",
        "outputId": "1bdcb158-3812-49b7-ae2c-0f19da5c760b",
        "colab": {
          "base_uri": "https://localhost:8080/",
          "height": 285
        }
      },
      "source": [
        "plt.imshow(exp.last_state[0].squeeze())"
      ],
      "execution_count": 0,
      "outputs": [
        {
          "output_type": "execute_result",
          "data": {
            "text/plain": [
              "<matplotlib.image.AxesImage at 0x7f5a8b916208>"
            ]
          },
          "metadata": {
            "tags": []
          },
          "execution_count": 110
        },
        {
          "output_type": "display_data",
          "data": {
            "image/png": "[encoded data removed]",
            "text/plain": [
              "<Figure size 432x288 with 1 Axes>"
            ]
          },
          "metadata": {
            "tags": []
          }
        }
      ]
    },
    {
      "cell_type": "code",
      "metadata": {
        "id": "c2-n9UaWYkSC",
        "colab_type": "code",
        "colab": {}
      },
      "source": [
        "buffer=ptan.experience.ExperienceReplayBuffer(expsource,buffer_size=50000)"
      ],
      "execution_count": 0,
      "outputs": []
    },
    {
      "cell_type": "code",
      "metadata": {
        "id": "RCcbY0HcbAUi",
        "colab_type": "code",
        "colab": {}
      },
      "source": [
        "optimizer=op.Adam(model.parameters(),lr=0.001)"
      ],
      "execution_count": 0,
      "outputs": []
    },
    {
      "cell_type": "code",
      "metadata": {
        "id": "YmUGeTpqbSQW",
        "colab_type": "code",
        "colab": {}
      },
      "source": [
        "frameidx=0\n"
      ],
      "execution_count": 0,
      "outputs": []
    },
    {
      "cell_type": "code",
      "metadata": {
        "id": "4rjVoqr5bUXZ",
        "colab_type": "code",
        "colab": {}
      },
      "source": [
        "def unpackbatch(batch):\n",
        "  states,actions,rewards,dones,nextstate=[],[],[],[],[]\n",
        "  for e in batch:\n",
        "    states.append(np.array(e.state,copy=False))\n",
        "    actions.append(np.array(e.action,copy=False))\n",
        "    rewards.append(np.array(e.reward,copy=False))\n",
        "    dones.append(np.array(e.last_state is None,dtype=np.uint8))\n",
        "    if e.last_state is None:\n",
        "      nextstate.append(np.array(e.state,copy=False))\n",
        "    else:\n",
        "      nextstate.append(np.array(e.last_state,copy=False))\n",
        "  \n",
        "  return np.array(states),np.array(actions),np.array(rewards),np.array(dones),np.array(nextstate)"
      ],
      "execution_count": 0,
      "outputs": []
    },
    {
      "cell_type": "code",
      "metadata": {
        "id": "M9ttgFbzcYXf",
        "colab_type": "code",
        "colab": {}
      },
      "source": [
        "tgtmodel=ptan.agent.TargetNet(model)"
      ],
      "execution_count": 0,
      "outputs": []
    },
    {
      "cell_type": "code",
      "metadata": {
        "id": "AlfpYA6Ij2xz",
        "colab_type": "code",
        "colab": {}
      },
      "source": [
        "def calcloss(batch,net,tgtnet,gamma,device):\n",
        "  batchs,batcha,batchrew,batchdon,batchns=unpackbatch(batch)\n",
        "  batchs=torch.tensor(batchs).to(device)\n",
        "  batcha=torch.tensor(batcha).to(device)\n",
        "  batchrew=torch.tensor(batchrew).to(device)\n",
        "  batchdon=torch.BoolTensor(batchdon).to(device)\n",
        "  batchns=torch.tensor(batchns).to(device)\n",
        "\n",
        "  stateqval=net(batchs).gather(1,batcha.unsqueeze(-1)).squeeze(-1)\n",
        "  nextstateqval=tgtnet(batchns).max(1)[0]\n",
        "  nextstateqval[batchdon]=0\n",
        "  return n.MSELoss()(stateqval,batchrew+(gamma*gamma*nextstateqval))"
      ],
      "execution_count": 0,
      "outputs": []
    },
    {
      "cell_type": "code",
      "metadata": {
        "id": "mAEemw4CrScx",
        "colab_type": "code",
        "colab": {}
      },
      "source": [
        "class rewardtracker:\n",
        "  def __init__(self):\n",
        "    self.rewards=[]\n",
        "  \n",
        "  def give(self,reward,limit):\n",
        "    self.rewards.append(reward)\n",
        "\n",
        "    if len(self.rewards)<100:\n",
        "      return  False\n",
        "    \n",
        "    if np.mean(self.rewards[-100:])<limit:\n",
        "      return False\n",
        "    \n",
        "    if np.mean(self.rewards[-100:])>limit:\n",
        "      return True"
      ],
      "execution_count": 0,
      "outputs": []
    },
    {
      "cell_type": "code",
      "metadata": {
        "id": "mjKsh9OA5iyk",
        "colab_type": "code",
        "colab": {}
      },
      "source": [
        "rt=rewardtracker()"
      ],
      "execution_count": 0,
      "outputs": []
    },
    {
      "cell_type": "code",
      "metadata": {
        "id": "IMor6W2w6GaC",
        "colab_type": "code",
        "colab": {}
      },
      "source": [
        "replayinitial=5000\n",
        "batchsize=32\n",
        "targetsyncsize=2000"
      ],
      "execution_count": 0,
      "outputs": []
    },
    {
      "cell_type": "code",
      "metadata": {
        "id": "q-33vUF6l50A",
        "colab_type": "code",
        "outputId": "4128bc76-520b-451b-a0a2-6bc6a85d9e91",
        "colab": {
          "base_uri": "https://localhost:8080/",
          "height": 329
        }
      },
      "source": [
        "while True:\n",
        "  frameidx+=1\n",
        "  buffer.populate(1)\n",
        "  newrewards=expsource.pop_total_rewards()\n",
        "  if newrewards:\n",
        "    if rt.give(newrewards[0],18):\n",
        "      break\n",
        "  \n",
        "  if len(buffer)<replayinitial:\n",
        "    continue\n",
        "  \n",
        "  optimizer.zero_grad()\n",
        "  batch=buffer.sample(batchsize)\n",
        "  lossv=calcloss(batch,model,tgtmodel.target_model,gamma,device)\n",
        "  if newrewards:\n",
        "    print(lossv.item())\n",
        "    print(newrewards[0])\n",
        "  lossv.backward()\n",
        "  optimizer.step()\n",
        "\n",
        "  if frameidx % targetsyncsize==0:\n",
        "    tgtmodel.sync()"
      ],
      "execution_count": 0,
      "outputs": [
        {
          "output_type": "stream",
          "text": [
            "0.08656920944925478\n",
            "-21.0\n",
            "0.030555346906131632\n",
            "-21.0\n",
            "0.05876761904921238\n",
            "-21.0\n",
            "0.031123196274679733\n",
            "-21.0\n",
            "0.030092909800693762\n",
            "-21.0\n",
            "0.03053132853763269\n",
            "-20.0\n",
            "0.0025080709782049643\n",
            "-21.0\n",
            "0.030285676805272867\n",
            "-21.0\n",
            "0.059566289107457565\n",
            "-21.0\n"
          ],
          "name": "stdout"
        }
      ]
    },
    {
      "cell_type": "code",
      "metadata": {
        "id": "wv2aly4N8EGI",
        "colab_type": "code",
        "colab": {}
      },
      "source": [
        ""
      ],
      "execution_count": 0,
      "outputs": []
    }
  ]
}