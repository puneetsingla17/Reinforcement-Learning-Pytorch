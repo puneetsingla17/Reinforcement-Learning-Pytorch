{
  "nbformat": 4,
  "nbformat_minor": 0,
  "metadata": {
    "colab": {
      "name": "A2C_HumanBullet_understanding.ipynb",
      "provenance": [],
      "collapsed_sections": []
    },
    "kernelspec": {
      "name": "python3",
      "display_name": "Python 3"
    }
  },
  "cells": [
    {
      "cell_type": "code",
      "metadata": {
        "id": "voneUNEgV-B8",
        "colab_type": "code",
        "outputId": "6ecf440f-4da2-4d18-dcbb-9fa08e5d1c19",
        "colab": {
          "base_uri": "https://localhost:8080/",
          "height": 122
        }
      },
      "source": [
        "!pip3 install pybullet --upgrade"
      ],
      "execution_count": 0,
      "outputs": [
        {
          "output_type": "stream",
          "text": [
            "Collecting pybullet\n",
            "\u001b[?25l  Downloading https://files.pythonhosted.org/packages/3a/3b/6ec5decccb739283dbd23c49eaa2e082872d30ecf84568b5f923f9757e75/pybullet-2.8.1-cp36-cp36m-manylinux1_x86_64.whl (95.3MB)\n",
            "\u001b[K     |████████████████████████████████| 95.3MB 55kB/s \n",
            "\u001b[?25hInstalling collected packages: pybullet\n",
            "Successfully installed pybullet-2.8.1\n"
          ],
          "name": "stdout"
        }
      ]
    },
    {
      "cell_type": "code",
      "metadata": {
        "id": "lbTg7OJoMy_9",
        "colab_type": "code",
        "outputId": "84aec3ac-92e5-4d15-ed56-9c1891b7d4db",
        "colab": {
          "base_uri": "https://localhost:8080/",
          "height": 462
        }
      },
      "source": [
        "!pip install ptan"
      ],
      "execution_count": 0,
      "outputs": [
        {
          "output_type": "stream",
          "text": [
            "Collecting ptan\n",
            "  Downloading https://files.pythonhosted.org/packages/91/cb/57f6d86625f2b24c008b0524ca29559683aa75d00afa38b6b44d7fcad25b/ptan-0.6.tar.gz\n",
            "Collecting torch==1.3.0\n",
            "\u001b[?25l  Downloading https://files.pythonhosted.org/packages/ae/05/50a05de5337f7a924bb8bd70c6936230642233e424d6a9747ef1cfbde353/torch-1.3.0-cp36-cp36m-manylinux1_x86_64.whl (773.1MB)\n",
            "\u001b[K     |████████████████████████████████| 773.1MB 22kB/s \n",
            "\u001b[?25hRequirement already satisfied: gym in /usr/local/lib/python3.6/dist-packages (from ptan) (0.17.2)\n",
            "Requirement already satisfied: atari-py in /usr/local/lib/python3.6/dist-packages (from ptan) (0.2.6)\n",
            "Requirement already satisfied: numpy in /usr/local/lib/python3.6/dist-packages (from ptan) (1.18.4)\n",
            "Requirement already satisfied: opencv-python in /usr/local/lib/python3.6/dist-packages (from ptan) (4.1.2.30)\n",
            "Requirement already satisfied: scipy in /usr/local/lib/python3.6/dist-packages (from gym->ptan) (1.4.1)\n",
            "Requirement already satisfied: cloudpickle<1.4.0,>=1.2.0 in /usr/local/lib/python3.6/dist-packages (from gym->ptan) (1.3.0)\n",
            "Requirement already satisfied: pyglet<=1.5.0,>=1.4.0 in /usr/local/lib/python3.6/dist-packages (from gym->ptan) (1.5.0)\n",
            "Requirement already satisfied: six in /usr/local/lib/python3.6/dist-packages (from atari-py->ptan) (1.12.0)\n",
            "Requirement already satisfied: future in /usr/local/lib/python3.6/dist-packages (from pyglet<=1.5.0,>=1.4.0->gym->ptan) (0.16.0)\n",
            "Building wheels for collected packages: ptan\n",
            "  Building wheel for ptan (setup.py) ... \u001b[?25l\u001b[?25hdone\n",
            "  Created wheel for ptan: filename=ptan-0.6-cp36-none-any.whl size=23502 sha256=12817082f5e2ffa74380c2f656481239645c971013a6f4353fa4f43c7a66533f\n",
            "  Stored in directory: /root/.cache/pip/wheels/f0/4b/2f/9a45fd39b0a614a2716bc6128a7f1adb4647f323a2d90783f2\n",
            "Successfully built ptan\n",
            "\u001b[31mERROR: torchvision 0.6.0+cu101 has requirement torch==1.5.0, but you'll have torch 1.3.0 which is incompatible.\u001b[0m\n",
            "Installing collected packages: torch, ptan\n",
            "  Found existing installation: torch 1.5.0+cu101\n",
            "    Uninstalling torch-1.5.0+cu101:\n",
            "      Successfully uninstalled torch-1.5.0+cu101\n",
            "Successfully installed ptan-0.6 torch-1.3.0\n"
          ],
          "name": "stdout"
        }
      ]
    },
    {
      "cell_type": "code",
      "metadata": {
        "id": "gaadWj0oZB4N",
        "colab_type": "code",
        "colab": {}
      },
      "source": [
        "import pybullet_envs\n",
        "import ptan\n",
        "import math"
      ],
      "execution_count": 0,
      "outputs": []
    },
    {
      "cell_type": "code",
      "metadata": {
        "id": "j5DRE_2GF9Gu",
        "colab_type": "code",
        "colab": {}
      },
      "source": [
        "from pybullet_envs.gym_locomotion_envs import HumanoidBulletEnv"
      ],
      "execution_count": 0,
      "outputs": []
    },
    {
      "cell_type": "code",
      "metadata": {
        "id": "lzCYbI_0G1O9",
        "colab_type": "code",
        "colab": {}
      },
      "source": [
        "env=HumanoidBulletEnv"
      ],
      "execution_count": 0,
      "outputs": []
    },
    {
      "cell_type": "code",
      "metadata": {
        "id": "W2CvlV-qZqPA",
        "colab_type": "code",
        "colab": {}
      },
      "source": [
        "import gym\n",
        "import numpy as np\n",
        "import matplotlib.pyplot as plt\n",
        "import torch\n",
        "import torch.nn as nn\n",
        "import torch.nn.functional as f\n",
        "import torch.optim as op"
      ],
      "execution_count": 0,
      "outputs": []
    },
    {
      "cell_type": "code",
      "metadata": {
        "id": "W-Yr--8vaRHo",
        "colab_type": "code",
        "outputId": "1437bd1e-94f4-4d6c-ddcf-ee18404c7051",
        "colab": {
          "base_uri": "https://localhost:8080/",
          "height": 51
        }
      },
      "source": [
        "from pybullet_envs.gym_locomotion_envs import HumanoidBulletEnv\n",
        "env = gym.make('HumanoidBulletEnv-v0')"
      ],
      "execution_count": 0,
      "outputs": [
        {
          "output_type": "stream",
          "text": [
            "/usr/local/lib/python3.6/dist-packages/gym/logger.py:30: UserWarning: \u001b[33mWARN: Box bound precision lowered by casting to float32\u001b[0m\n",
            "  warnings.warn(colorize('%s: %s'%('WARN', msg % args), 'yellow'))\n"
          ],
          "name": "stderr"
        }
      ]
    },
    {
      "cell_type": "code",
      "metadata": {
        "id": "a-Q53Ii_aU5X",
        "colab_type": "code",
        "outputId": "a91dd27a-8aad-40c3-cd91-0448bbf2fb4c",
        "colab": {
          "base_uri": "https://localhost:8080/",
          "height": 221
        }
      },
      "source": [
        "\n",
        "env.reset()"
      ],
      "execution_count": 0,
      "outputs": [
        {
          "output_type": "execute_result",
          "data": {
            "text/plain": [
              "array([ 5.9999996e-01, -1.4897665e-05,  1.0000000e+00,  0.0000000e+00,\n",
              "        0.0000000e+00,  0.0000000e+00,  0.0000000e+00, -0.0000000e+00,\n",
              "        7.7077754e-02,  0.0000000e+00,  3.5623616e-01,  0.0000000e+00,\n",
              "        1.2326540e-01,  0.0000000e+00,  3.5845414e-01,  0.0000000e+00,\n",
              "        3.2599449e-01,  0.0000000e+00,  6.6974747e-01,  0.0000000e+00,\n",
              "        1.0395368e+00,  0.0000000e+00,  4.5070380e-01,  0.0000000e+00,\n",
              "        2.4528269e-01,  0.0000000e+00,  6.9656032e-01,  0.0000000e+00,\n",
              "        1.0202981e+00,  0.0000000e+00,  1.9063413e-01,  0.0000000e+00,\n",
              "        2.5046584e-01,  0.0000000e+00,  2.5520271e-01,  0.0000000e+00,\n",
              "       -2.0996340e-01,  0.0000000e+00, -2.2632049e-01,  0.0000000e+00,\n",
              "        3.0909577e-01,  0.0000000e+00,  0.0000000e+00,  0.0000000e+00],\n",
              "      dtype=float32)"
            ]
          },
          "metadata": {
            "tags": []
          },
          "execution_count": 8
        }
      ]
    },
    {
      "cell_type": "code",
      "metadata": {
        "id": "hQoBXs7hmSsW",
        "colab_type": "code",
        "outputId": "53ad144f-5356-4690-c395-32347850cd78",
        "colab": {
          "base_uri": "https://localhost:8080/",
          "height": 51
        }
      },
      "source": [
        "testenv=gym.make('HumanoidBulletEnv-v0')"
      ],
      "execution_count": 0,
      "outputs": [
        {
          "output_type": "stream",
          "text": [
            "/usr/local/lib/python3.6/dist-packages/gym/logger.py:30: UserWarning: \u001b[33mWARN: Box bound precision lowered by casting to float32\u001b[0m\n",
            "  warnings.warn(colorize('%s: %s'%('WARN', msg % args), 'yellow'))\n"
          ],
          "name": "stderr"
        }
      ]
    },
    {
      "cell_type": "code",
      "metadata": {
        "id": "5oC5r1MgHVFp",
        "colab_type": "code",
        "outputId": "56716e8f-3f5f-4d43-a97b-0ad681e44dc0",
        "colab": {
          "base_uri": "https://localhost:8080/",
          "height": 286
        }
      },
      "source": [
        "plt.imshow(env.render(mode=\"rgb_array\"))     #Displaying environment image\n"
      ],
      "execution_count": 0,
      "outputs": [
        {
          "output_type": "execute_result",
          "data": {
            "text/plain": [
              "<matplotlib.image.AxesImage at 0x7f8b760819e8>"
            ]
          },
          "metadata": {
            "tags": []
          },
          "execution_count": 10
        },
        {
          "output_type": "display_data",
          "data": {
            "image/png": "[encoded data removed]",
            "text/plain": [
              "<Figure size 432x288 with 1 Axes>"
            ]
          },
          "metadata": {
            "tags": [],
            "needs_background": "light"
          }
        }
      ]
    },
    {
      "cell_type": "code",
      "metadata": {
        "id": "KYUERLJLLK2M",
        "colab_type": "code",
        "outputId": "b9cb44ea-3a41-4ddb-d6b2-ea98067ad5d6",
        "colab": {
          "base_uri": "https://localhost:8080/",
          "height": 34
        }
      },
      "source": [
        "# action meanings\n",
        "env.action_space   # continuous action space"
      ],
      "execution_count": 0,
      "outputs": [
        {
          "output_type": "execute_result",
          "data": {
            "text/plain": [
              "Box(17,)"
            ]
          },
          "metadata": {
            "tags": []
          },
          "execution_count": 11
        }
      ]
    },
    {
      "cell_type": "code",
      "metadata": {
        "id": "nOhL3z6FML-c",
        "colab_type": "code",
        "outputId": "76f97a78-79b4-4148-9c42-50398c2fd683",
        "colab": {
          "base_uri": "https://localhost:8080/",
          "height": 34
        }
      },
      "source": [
        "#observation space  \n",
        "env.observation_space"
      ],
      "execution_count": 0,
      "outputs": [
        {
          "output_type": "execute_result",
          "data": {
            "text/plain": [
              "Box(44,)"
            ]
          },
          "metadata": {
            "tags": []
          },
          "execution_count": 12
        }
      ]
    },
    {
      "cell_type": "code",
      "metadata": {
        "id": "qClAHqDyNi9G",
        "colab_type": "code",
        "outputId": "1d63c057-5ba6-4bc8-d906-a382673f2531",
        "colab": {
          "base_uri": "https://localhost:8080/",
          "height": 51
        }
      },
      "source": [
        "env.action_space.low"
      ],
      "execution_count": 0,
      "outputs": [
        {
          "output_type": "execute_result",
          "data": {
            "text/plain": [
              "array([-1., -1., -1., -1., -1., -1., -1., -1., -1., -1., -1., -1., -1.,\n",
              "       -1., -1., -1., -1.], dtype=float32)"
            ]
          },
          "metadata": {
            "tags": []
          },
          "execution_count": 13
        }
      ]
    },
    {
      "cell_type": "code",
      "metadata": {
        "id": "PKjRDhmKeQuQ",
        "colab_type": "code",
        "outputId": "ee2e81fb-4a5b-499a-ad77-a380bcacc358",
        "colab": {
          "base_uri": "https://localhost:8080/",
          "height": 51
        }
      },
      "source": [
        "env.action_space.high"
      ],
      "execution_count": 0,
      "outputs": [
        {
          "output_type": "execute_result",
          "data": {
            "text/plain": [
              "array([1., 1., 1., 1., 1., 1., 1., 1., 1., 1., 1., 1., 1., 1., 1., 1., 1.],\n",
              "      dtype=float32)"
            ]
          },
          "metadata": {
            "tags": []
          },
          "execution_count": 14
        }
      ]
    },
    {
      "cell_type": "code",
      "metadata": {
        "id": "R5kl_NyYeUVU",
        "colab_type": "code",
        "outputId": "8adb5514-b67e-4e62-fac6-4d191f4869aa",
        "colab": {
          "base_uri": "https://localhost:8080/",
          "height": 102
        }
      },
      "source": [
        "env.observation_space.low"
      ],
      "execution_count": 0,
      "outputs": [
        {
          "output_type": "execute_result",
          "data": {
            "text/plain": [
              "array([-inf, -inf, -inf, -inf, -inf, -inf, -inf, -inf, -inf, -inf, -inf,\n",
              "       -inf, -inf, -inf, -inf, -inf, -inf, -inf, -inf, -inf, -inf, -inf,\n",
              "       -inf, -inf, -inf, -inf, -inf, -inf, -inf, -inf, -inf, -inf, -inf,\n",
              "       -inf, -inf, -inf, -inf, -inf, -inf, -inf, -inf, -inf, -inf, -inf],\n",
              "      dtype=float32)"
            ]
          },
          "metadata": {
            "tags": []
          },
          "execution_count": 15
        }
      ]
    },
    {
      "cell_type": "code",
      "metadata": {
        "id": "4ucUswaZr6XN",
        "colab_type": "code",
        "colab": {}
      },
      "source": [
        "# Softplus Activation Function understanding"
      ],
      "execution_count": 0,
      "outputs": []
    },
    {
      "cell_type": "code",
      "metadata": {
        "id": "QCDhc_oMr6gk",
        "colab_type": "code",
        "colab": {}
      },
      "source": [
        "x=np.linspace(-10,10,100)\n",
        "y=np.log(1+np.exp(x))"
      ],
      "execution_count": 0,
      "outputs": []
    },
    {
      "cell_type": "code",
      "metadata": {
        "id": "16ZUiOKBr6j3",
        "colab_type": "code",
        "outputId": "b4343f5a-9bd1-459c-d8ff-ed9459d0c0da",
        "colab": {
          "base_uri": "https://localhost:8080/",
          "height": 282
        }
      },
      "source": [
        "plt.scatter(x,y)"
      ],
      "execution_count": 0,
      "outputs": [
        {
          "output_type": "execute_result",
          "data": {
            "text/plain": [
              "<matplotlib.collections.PathCollection at 0x7f8b75b54400>"
            ]
          },
          "metadata": {
            "tags": []
          },
          "execution_count": 18
        },
        {
          "output_type": "display_data",
          "data": {
            "image/png": "[encoded data removed]",
            "text/plain": [
              "<Figure size 432x288 with 1 Axes>"
            ]
          },
          "metadata": {
            "tags": [],
            "needs_background": "light"
          }
        }
      ]
    },
    {
      "cell_type": "code",
      "metadata": {
        "id": "UPx34dnqeXwU",
        "colab_type": "code",
        "colab": {}
      },
      "source": [
        "obsdim=env.observation_space.shape[0]\n",
        "actdim=env.action_space.shape[0]"
      ],
      "execution_count": 0,
      "outputs": []
    },
    {
      "cell_type": "code",
      "metadata": {
        "id": "iLMQKAp7eaMj",
        "colab_type": "code",
        "colab": {}
      },
      "source": [
        "class act_critic(nn.Module):\n",
        "  def __init__(self,obsdim,actdim):\n",
        "    super().__init__()\n",
        "    self.fc1=nn.Linear(obsdim,64)\n",
        "    self.fc2=nn.Linear(64,32)\n",
        "    self.fc3=nn.Linear(32,16)\n",
        "    self.fc4=nn.Linear(16,actdim)    # mean of action dimensions\n",
        "    self.fc5=nn.Linear(16,actdim)    # std of action dimensions\n",
        "    self.fc6=nn.Linear(16,1)         # Value of state\n",
        "\n",
        "  def forward(self,x):\n",
        "    out=f.leaky_relu(self.fc1(x))\n",
        "    out=f.leaky_relu(self.fc2(out))\n",
        "    out1=f.leaky_relu(self.fc3(out))\n",
        "    mean=f.tanh(self.fc4(out1))\n",
        "    variance= f.softplus(self.fc5(out1))\n",
        "    vs= self.fc6(out1)\n",
        "    return mean,variance,vs"
      ],
      "execution_count": 0,
      "outputs": []
    },
    {
      "cell_type": "code",
      "metadata": {
        "id": "x8tFCq1GrWC1",
        "colab_type": "code",
        "colab": {}
      },
      "source": [
        "model=act_critic(obsdim,actdim)"
      ],
      "execution_count": 0,
      "outputs": []
    },
    {
      "cell_type": "code",
      "metadata": {
        "id": "uBssA_ikrgqj",
        "colab_type": "code",
        "outputId": "de98fe69-e370-42e0-8f80-956a59e07fbc",
        "colab": {
          "base_uri": "https://localhost:8080/",
          "height": 34
        }
      },
      "source": [
        "np.random.normal(loc=[1,1,1,1],scale=[0.1,0.2,0.3,0.4])  # used to randomly sample values given mean and std deviation"
      ],
      "execution_count": 0,
      "outputs": [
        {
          "output_type": "execute_result",
          "data": {
            "text/plain": [
              "array([1.10045702, 1.24829608, 1.3218433 , 0.79525583])"
            ]
          },
          "metadata": {
            "tags": []
          },
          "execution_count": 60
        }
      ]
    },
    {
      "cell_type": "code",
      "metadata": {
        "id": "GB7BxXTlrlX4",
        "colab_type": "code",
        "colab": {}
      },
      "source": [
        "class agent(ptan.agent.BaseAgent):\n",
        "  def __init__(self,net,device='cpu'):\n",
        "    self.net=net\n",
        "    self.device=device\n",
        "  \n",
        "  def __call__(self,states,agent_states):\n",
        "    statesv=ptan.agent.float32_preprocessor(states)\n",
        "    statesv=statesv.to(device)\n",
        "    mu,var,_=self.net(statesv)\n",
        "    mu=mu.data.cpu().numpy()\n",
        "    std=torch.sqrt(var).data.cpu().numpy()\n",
        "    actions=np.random.normal(mu,std)\n",
        "    actions=np.clip(actions,-1,1)\n",
        "    return actions,agent_states"
      ],
      "execution_count": 0,
      "outputs": []
    },
    {
      "cell_type": "code",
      "metadata": {
        "id": "V6aCNq_i7gq3",
        "colab_type": "code",
        "colab": {}
      },
      "source": [
        "def testnet(net,env,count=10,device=\"cpu\"):\n",
        "  rewards=0\n",
        "  steps=0\n",
        "  for _ in range(count):\n",
        "    obs=env.reset()\n",
        "    while True:\n",
        "      obsv=ptan.agent.float32_preprocessor([obs])\n",
        "      obsv=obsv.to(device)\n",
        "      mu_v=net(obsv)[0]\n",
        "      action=mu_v.squeeze(0).data.cpu().numpy()\n",
        "      obs,reward,done,_=env.step(action)\n",
        "      rewards+=reward\n",
        "      steps+=1\n",
        "      if done:\n",
        "        break\n",
        "  return rewards/count , steps/count\n",
        "  "
      ],
      "execution_count": 0,
      "outputs": []
    },
    {
      "cell_type": "code",
      "metadata": {
        "id": "-19_yndVnaCM",
        "colab_type": "code",
        "colab": {}
      },
      "source": [
        "def calc_logprob(mu_v,var_v,actions_v):   # log(prob)\n",
        "  p1=-((mu_v-actions_v)**2)/(2*var_v.clamp(min=1e-3))   # this is very important\n",
        "  p2=-(torch.log(torch.sqrt(2*(math.pi)*var_v)))\n",
        "  return p1+p2"
      ],
      "execution_count": 0,
      "outputs": []
    },
    {
      "cell_type": "code",
      "metadata": {
        "id": "mCIRlOkurJR0",
        "colab_type": "code",
        "colab": {}
      },
      "source": [
        "gamma=0.99\n",
        "steps=2\n",
        "batchsize=32\n",
        "lr=5e-5\n",
        "entr_beta=1e-4\n",
        "test_iter=1000\n",
        "device=torch.device(\"cuda\" if torch.cuda.is_available() else \"cpu\")"
      ],
      "execution_count": 0,
      "outputs": []
    },
    {
      "cell_type": "code",
      "metadata": {
        "id": "qIEXYkc0m7c6",
        "colab_type": "code",
        "colab": {}
      },
      "source": [
        "agent1=agent(model,device)"
      ],
      "execution_count": 0,
      "outputs": []
    },
    {
      "cell_type": "code",
      "metadata": {
        "id": "JSBeKkMzrWtd",
        "colab_type": "code",
        "colab": {}
      },
      "source": [
        "expsource=ptan.experience.ExperienceSourceFirstLast(env,agent1,gamma,steps_count=steps)"
      ],
      "execution_count": 0,
      "outputs": []
    },
    {
      "cell_type": "code",
      "metadata": {
        "id": "mXeFUwEJtAxW",
        "colab_type": "code",
        "colab": {}
      },
      "source": [
        "# important understanding \n",
        "# variance is always positive and its range is between 0 to infi so we used softplus\n",
        "# mean value should lie inbetween -1,1 for actions thats why we used tanh\n",
        "# expsource.pop_rewards_steps() gives two values as list [ totalreward,number of steps] for an episode"
      ],
      "execution_count": 0,
      "outputs": []
    },
    {
      "cell_type": "code",
      "metadata": {
        "id": "QIwxENvjnkhY",
        "colab_type": "code",
        "outputId": "d8d8977e-81b1-44ef-8de6-3041d705b905",
        "colab": {
          "base_uri": "https://localhost:8080/",
          "height": 306
        }
      },
      "source": [
        "count=0\n",
        "for i in expsource:\n",
        "  count+=1\n",
        "  if i.last_state is None:\n",
        "    print(i.state)\n",
        "    print(i.reward)\n",
        "    print(i.action)\n",
        "    print(i.last_state)\n",
        "    print(count)\n",
        "    print(expsource.pop_rewards_steps())\n",
        "    break"
      ],
      "execution_count": 0,
      "outputs": [
        {
          "output_type": "stream",
          "text": [
            "/usr/local/lib/python3.6/dist-packages/torch/nn/functional.py:1340: UserWarning: nn.functional.tanh is deprecated. Use torch.tanh instead.\n",
            "  warnings.warn(\"nn.functional.tanh is deprecated. Use torch.tanh instead.\")\n"
          ],
          "name": "stderr"
        },
        {
          "output_type": "stream",
          "text": [
            "[ 0.05246561  0.08608261  0.996288   -0.05586585 -0.00783027 -0.84022784\n",
            "  0.01323351  0.37175784  0.87107956 -0.45853463 -0.35322008 -0.49459144\n",
            " -0.450326   -0.5811196   0.13453244 -0.02543593  0.01978886 -0.08429621\n",
            "  1.0083607  -0.06190684 -0.8278752  -0.106431    0.28159598 -0.16326708\n",
            "  0.23014475 -0.29788646 -0.65956765  0.532713   -0.90468603 -0.22697383\n",
            " -0.024572   -0.14321822  0.41876623 -0.33978635  0.9169971   3.3941648\n",
            " -0.00770415 -0.23888414 -0.13098131 -0.525719    0.22950815 -2.7397683\n",
            "  0.          0.        ]\n",
            "-4.695993861726402\n",
            "[ 1.         -1.         -0.69167389  0.83177696  0.1897779   0.1255252\n",
            " -0.77885334  0.48579639 -0.2375151   0.32253937  0.53610623 -0.56197611\n",
            " -0.1930312  -0.65394843  0.54050745 -0.67672887 -0.3094153 ]\n",
            "None\n",
            "18\n",
            "[]\n"
          ],
          "name": "stdout"
        }
      ]
    },
    {
      "cell_type": "code",
      "metadata": {
        "id": "e-xXKB7eo8-s",
        "colab_type": "code",
        "colab": {}
      },
      "source": [
        "a=np.array([True,False,True])   # very important numpy operation "
      ],
      "execution_count": 0,
      "outputs": []
    },
    {
      "cell_type": "code",
      "metadata": {
        "id": "bCNs_ccpq4oa",
        "colab_type": "code",
        "outputId": "77bbac3e-6ec9-47fb-f42a-66c0c164c612",
        "colab": {
          "base_uri": "https://localhost:8080/",
          "height": 51
        }
      },
      "source": [
        "print(a.all())    # all checks if all elements are True\n",
        "print(a.any())    # any checks if any of element is True"
      ],
      "execution_count": 0,
      "outputs": [
        {
          "output_type": "stream",
          "text": [
            "False\n",
            "True\n"
          ],
          "name": "stdout"
        }
      ]
    },
    {
      "cell_type": "code",
      "metadata": {
        "id": "1qa8FLkwE9iR",
        "colab_type": "code",
        "colab": {}
      },
      "source": [
        "def unpack_batcha2c(batch,net,lastvalgamma,device=device):     # getting S,a r,S'\n",
        "  states=[]\n",
        "  actions=[]\n",
        "  rewards=[]\n",
        "  notdoneidx=[]\n",
        "  laststates=[]\n",
        "  doneidx=[]\n",
        "  for idx,exp in enumerate(batch):\n",
        "    states.append(exp.state)\n",
        "    actions.append(exp.action)\n",
        "    rewards.append(exp.reward)\n",
        "\n",
        "    if exp.last_state is not None:\n",
        "      notdoneidx.append(idx)\n",
        "      laststates.append(exp.last_state)\n",
        "    else:\n",
        "      doneidx.append(idx)\n",
        "\n",
        "  rewardsnp=np.array(rewards,dtype=np.float32).reshape(-1,1)\n",
        "  statesv=ptan.agent.float32_preprocessor(states).to(device)\n",
        "  actionsv=torch.FloatTensor(actions).to(device)\n",
        "\n",
        "  if notdoneidx:\n",
        "    laststatesv=ptan.agent.float32_preprocessor(laststates).to(device)\n",
        "    laststatesval=net(laststatesv)[2]\n",
        "    laststatesvalnp=laststatesval.data.cpu().numpy()\n",
        "    rewardsnp[notdoneidx]+=lastvalgamma*laststatesvalnp  # Q(s,a)=cr+gamma(Vs)\n",
        "  \n",
        "  refval=torch.FloatTensor(rewardsnp).to(device) # calculated using bellman equation\n",
        "  return statesv,actionsv,refval"
      ],
      "execution_count": 0,
      "outputs": []
    },
    {
      "cell_type": "code",
      "metadata": {
        "id": "5RDi03sL_g7A",
        "colab_type": "code",
        "colab": {}
      },
      "source": [
        "optimizer=op.Adam(model.parameters(),lr=0.0001)"
      ],
      "execution_count": 0,
      "outputs": []
    },
    {
      "cell_type": "code",
      "metadata": {
        "id": "7-V9OC0Bnbee",
        "colab_type": "code",
        "colab": {}
      },
      "source": [
        "step=2\n",
        "tloss=[]"
      ],
      "execution_count": 0,
      "outputs": []
    },
    {
      "cell_type": "code",
      "metadata": {
        "id": "_hS4xI7YI1gM",
        "colab_type": "code",
        "colab": {}
      },
      "source": [
        "eloss=[]\n",
        "vloss=[]"
      ],
      "execution_count": 0,
      "outputs": []
    },
    {
      "cell_type": "code",
      "metadata": {
        "id": "AQ5Z1jYD9OyQ",
        "colab_type": "code",
        "outputId": "4e762f7b-b700-4942-97cf-d128d3461ab2",
        "colab": {
          "base_uri": "https://localhost:8080/",
          "height": 51
        }
      },
      "source": [
        "batch=[]\n",
        "bestreward=None\n",
        "count=0\n",
        "for idx,exp in enumerate(expsource):\n",
        "  rewardssteps=expsource.pop_rewards_steps()\n",
        "  if rewardssteps:\n",
        "    rewards,steps=zip(*rewardssteps)\n",
        "  batch.append(exp)\n",
        "  if len(batch)< batchsize:\n",
        "    continue\n",
        "  count+=1\n",
        "  states,actions,refvals=unpack_batcha2c(batch,model,lastvalgamma=gamma**step,device=device)\n",
        "  batch.clear()\n",
        "\n",
        "  optimizer.zero_grad()\n",
        "  muv,varv,valv=model.forward(states)  # valv is value of current state\n",
        "  lossvaluev=f.mse_loss(valv,refvals)    # we assume that currentreward+gamma*V(nextstate)=V(currentstate)\n",
        "  logprobv=calc_logprob(muv,varv,actions)\n",
        "  advantagev=(refvals-valv.detach()) # we dont want gradients to propagate through advantage values thats why we used valv.detach()\n",
        "  logprobloss=-1*(advantagev)*logprobv\n",
        "  logprobloss=logprobloss.mean()\n",
        "  entropy=(-(torch.log(2*(math.pi)*varv)/2).mean())*entr_beta\n",
        "  totalloss=entropy+logprobloss+lossvaluev\n",
        "\n",
        "  totalloss.backward()\n",
        "  optimizer.step()\n",
        "  vloss.append(lossvaluev.item())\n",
        "  eloss.append(entropy.item())\n",
        "  tloss.append(totalloss.item())\n",
        "  if count>20000:\n",
        "    break"
      ],
      "execution_count": 0,
      "outputs": [
        {
          "output_type": "stream",
          "text": [
            "/usr/local/lib/python3.6/dist-packages/torch/nn/functional.py:1340: UserWarning: nn.functional.tanh is deprecated. Use torch.tanh instead.\n",
            "  warnings.warn(\"nn.functional.tanh is deprecated. Use torch.tanh instead.\")\n"
          ],
          "name": "stderr"
        }
      ]
    },
    {
      "cell_type": "code",
      "metadata": {
        "id": "6cmKm8mh9O7J",
        "colab_type": "code",
        "outputId": "1e98b238-4415-45a4-cfe2-0d1a03ace18b",
        "colab": {
          "base_uri": "https://localhost:8080/",
          "height": 282
        }
      },
      "source": [
        "plt.plot(tloss[:15000])"
      ],
      "execution_count": 0,
      "outputs": [
        {
          "output_type": "execute_result",
          "data": {
            "text/plain": [
              "[<matplotlib.lines.Line2D at 0x7f8b75b79fd0>]"
            ]
          },
          "metadata": {
            "tags": []
          },
          "execution_count": 38
        },
        {
          "output_type": "display_data",
          "data": {
            "image/png": "[encoded data removed]",
            "text/plain": [
              "<Figure size 432x288 with 1 Axes>"
            ]
          },
          "metadata": {
            "tags": [],
            "needs_background": "light"
          }
        }
      ]
    },
    {
      "cell_type": "code",
      "metadata": {
        "id": "GhoJ6hrs9O-6",
        "colab_type": "code",
        "outputId": "8e65b9a6-14fd-4c61-c9c6-3378af70a8ff",
        "colab": {
          "base_uri": "https://localhost:8080/",
          "height": 282
        }
      },
      "source": [
        "plt.plot(vloss[:15000])"
      ],
      "execution_count": 0,
      "outputs": [
        {
          "output_type": "execute_result",
          "data": {
            "text/plain": [
              "[<matplotlib.lines.Line2D at 0x7f8b720f7a90>]"
            ]
          },
          "metadata": {
            "tags": []
          },
          "execution_count": 39
        },
        {
          "output_type": "display_data",
          "data": {
            "image/png": "[encoded data removed]",
            "text/plain": [
              "<Figure size 432x288 with 1 Axes>"
            ]
          },
          "metadata": {
            "tags": [],
            "needs_background": "light"
          }
        }
      ]
    },
    {
      "cell_type": "code",
      "metadata": {
        "id": "6JSVjoFL9PCX",
        "colab_type": "code",
        "outputId": "489c3680-fadc-4f43-97b1-b9ac21fa1986",
        "colab": {
          "base_uri": "https://localhost:8080/",
          "height": 282
        }
      },
      "source": [
        "plt.plot(eloss[:15000])\n"
      ],
      "execution_count": 0,
      "outputs": [
        {
          "output_type": "execute_result",
          "data": {
            "text/plain": [
              "[<matplotlib.lines.Line2D at 0x7f8b72065710>]"
            ]
          },
          "metadata": {
            "tags": []
          },
          "execution_count": 40
        },
        {
          "output_type": "display_data",
          "data": {
            "image/png": "[encoded data removed]",
            "text/plain": [
              "<Figure size 432x288 with 1 Axes>"
            ]
          },
          "metadata": {
            "tags": [],
            "needs_background": "light"
          }
        }
      ]
    },
    {
      "cell_type": "code",
      "metadata": {
        "id": "bh0eEAEwdO0O",
        "colab_type": "code",
        "colab": {}
      },
      "source": [
        "testenv=gym.wrappers.Monitor(env,\"/content/\")"
      ],
      "execution_count": 0,
      "outputs": []
    },
    {
      "cell_type": "code",
      "metadata": {
        "id": "q8yWsF91dO7E",
        "colab_type": "code",
        "colab": {}
      },
      "source": [
        "!pip install gym pyvirtualdisplay > /dev/null 2>&1\n",
        "!apt-get install -y xvfb python-opengl ffmpeg > /dev/null 2>&1"
      ],
      "execution_count": 0,
      "outputs": []
    },
    {
      "cell_type": "code",
      "metadata": {
        "id": "1QXaOgeidO-3",
        "colab_type": "code",
        "colab": {}
      },
      "source": [
        "import gym\n",
        "from gym import logger as gymlogger\n",
        "from gym.wrappers import Monitor\n",
        "gymlogger.set_level(40) # error only\n",
        "import tensorflow as tf\n",
        "import numpy as np\n",
        "import random\n",
        "import matplotlib\n",
        "import matplotlib.pyplot as plt\n",
        "%matplotlib inline\n",
        "import math\n",
        "import glob\n",
        "import io\n",
        "import base64\n",
        "from IPython.display import HTML\n",
        "\n",
        "from IPython import display as ipythondisplay"
      ],
      "execution_count": 0,
      "outputs": []
    },
    {
      "cell_type": "code",
      "metadata": {
        "id": "CM8UeC7LdPJ8",
        "colab_type": "code",
        "outputId": "8dd42441-3856-477c-be4a-41c58c0abe09",
        "colab": {
          "base_uri": "https://localhost:8080/",
          "height": 34
        }
      },
      "source": [
        "from pyvirtualdisplay import Display\n",
        "display = Display(visible=0, size=(1400, 900))\n",
        "display.start()"
      ],
      "execution_count": 0,
      "outputs": [
        {
          "output_type": "execute_result",
          "data": {
            "text/plain": [
              "<pyvirtualdisplay.display.Display at 0x7f8b72065a20>"
            ]
          },
          "metadata": {
            "tags": []
          },
          "execution_count": 47
        }
      ]
    },
    {
      "cell_type": "code",
      "metadata": {
        "id": "bVYve47rdPOc",
        "colab_type": "code",
        "colab": {}
      },
      "source": [
        "def show_video():\n",
        "  mp4list = glob.glob('video/*.mp4')\n",
        "  if len(mp4list) > 0:\n",
        "    mp4 = mp4list[0]\n",
        "    video = io.open(mp4, 'r+b').read()\n",
        "    encoded = base64.b64encode(video)\n",
        "    ipythondisplay.display(HTML(data='''<video alt=\"test\" autoplay \n",
        "                loop controls style=\"height: 400px;\">\n",
        "                <source src=\"data:video/mp4;base64,{0}\" type=\"video/mp4\" />\n",
        "             </video>'''.format(encoded.decode('ascii'))))\n",
        "  else: \n",
        "    print(\"Could not find video\")"
      ],
      "execution_count": 0,
      "outputs": []
    },
    {
      "cell_type": "code",
      "metadata": {
        "id": "tm73jjtYdPSb",
        "colab_type": "code",
        "colab": {}
      },
      "source": [
        "def wrap_env(env):\n",
        "  env = Monitor(env, './video', force=True)\n",
        "  return env"
      ],
      "execution_count": 0,
      "outputs": []
    },
    {
      "cell_type": "code",
      "metadata": {
        "id": "A9FfT-vddPWq",
        "colab_type": "code",
        "colab": {}
      },
      "source": [
        "env = wrap_env(gym.make('HumanoidBulletEnv-v0'))"
      ],
      "execution_count": 0,
      "outputs": []
    },
    {
      "cell_type": "code",
      "metadata": {
        "id": "hvtPerwE9Pes",
        "colab_type": "code",
        "outputId": "103efd9d-528a-4369-92d5-9a1a2ca9ab10",
        "colab": {
          "base_uri": "https://localhost:8080/",
          "height": 455
        }
      },
      "source": [
        "obs=env.reset()\n",
        "while True:\n",
        "  env.render()\n",
        "  obs=ptan.agent.float32_preprocessor(obs)\n",
        "  action=model.forward(obs)[0].data.cpu().numpy()\n",
        "  obs,rew,done,_=env.step(action)\n",
        "  if done:\n",
        "    break\n",
        "\n",
        "env.close()\n",
        "show_video()"
      ],
      "execution_count": 0,
      "outputs": [
        {
          "output_type": "stream",
          "text": [
            "/usr/local/lib/python3.6/dist-packages/torch/nn/functional.py:1340: UserWarning: nn.functional.tanh is deprecated. Use torch.tanh instead.\n",
            "  warnings.warn(\"nn.functional.tanh is deprecated. Use torch.tanh instead.\")\n"
          ],
          "name": "stderr"
        },
        {
          "output_type": "display_data",
          "data": {
            "text/html": [
              "<video alt=\"test\" autoplay \n",
              "                loop controls style=\"height: 400px;\">\n",
              "                <source src=\"data:video/mp4;base64,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\" type=\"video/mp4\" />\n",
              "             </video>"
            ],
            "text/plain": [
              "<IPython.core.display.HTML object>"
            ]
          },
          "metadata": {
            "tags": []
          }
        }
      ]
    },
    {
      "cell_type": "code",
      "metadata": {
        "id": "rP1RGpEGq5cl",
        "colab_type": "code",
        "colab": {}
      },
      "source": [
        ""
      ],
      "execution_count": 0,
      "outputs": []
    },
    {
      "cell_type": "code",
      "metadata": {
        "id": "-DKpJyDTAQxf",
        "colab_type": "code",
        "colab": {}
      },
      "source": [
        ""
      ],
      "execution_count": 0,
      "outputs": []
    }
  ]
}