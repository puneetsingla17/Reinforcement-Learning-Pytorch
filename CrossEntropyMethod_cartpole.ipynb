{
  "nbformat": 4,
  "nbformat_minor": 0,
  "metadata": {
    "colab": {
      "name": "CrossEntropyMethod-cartpole.ipynb",
      "provenance": [],
      "collapsed_sections": []
    },
    "kernelspec": {
      "name": "python3",
      "display_name": "Python 3"
    }
  },
  "cells": [
    {
      "cell_type": "code",
      "metadata": {
        "id": "DvWly48suLZA",
        "colab_type": "code",
        "colab": {
          "base_uri": "https://localhost:8080/",
          "height": 1000
        },
        "outputId": "bb267da8-b027-4c73-ab57-e31634aa31d0"
      },
      "source": [
        "!pip install gym\n",
        "!apt-get install python-opengl -y\n",
        "!apt install xvfb -y\n",
        "!pip install pyvirtualdisplay\n",
        "!pip install piglet\n",
        "from pyvirtualdisplay import Display\n",
        "display = Display(visible=0, size=(1400, 900))\n",
        "display.start()"
      ],
      "execution_count": 1,
      "outputs": [
        {
          "output_type": "stream",
          "text": [
            "Requirement already satisfied: gym in /usr/local/lib/python3.6/dist-packages (0.15.6)\n",
            "Requirement already satisfied: numpy>=1.10.4 in /usr/local/lib/python3.6/dist-packages (from gym) (1.17.5)\n",
            "Requirement already satisfied: pyglet<=1.5.0,>=1.4.0 in /usr/local/lib/python3.6/dist-packages (from gym) (1.4.10)\n",
            "Requirement already satisfied: six in /usr/local/lib/python3.6/dist-packages (from gym) (1.12.0)\n",
            "Requirement already satisfied: scipy in /usr/local/lib/python3.6/dist-packages (from gym) (1.4.1)\n",
            "Requirement already satisfied: cloudpickle~=1.2.0 in /usr/local/lib/python3.6/dist-packages (from gym) (1.2.2)\n",
            "Requirement already satisfied: future in /usr/local/lib/python3.6/dist-packages (from pyglet<=1.5.0,>=1.4.0->gym) (0.16.0)\n",
            "Reading package lists... Done\n",
            "Building dependency tree       \n",
            "Reading state information... Done\n",
            "The following package was automatically installed and is no longer required:\n",
            "  libnvidia-common-430\n",
            "Use 'apt autoremove' to remove it.\n",
            "Suggested packages:\n",
            "  libgle3\n",
            "The following NEW packages will be installed:\n",
            "  python-opengl\n",
            "0 upgraded, 1 newly installed, 0 to remove and 25 not upgraded.\n",
            "Need to get 496 kB of archives.\n",
            "After this operation, 5,416 kB of additional disk space will be used.\n",
            "Get:1 http://archive.ubuntu.com/ubuntu bionic/universe amd64 python-opengl all 3.1.0+dfsg-1 [496 kB]\n",
            "Fetched 496 kB in 1s (606 kB/s)\n",
            "Selecting previously unselected package python-opengl.\n",
            "(Reading database ... 134443 files and directories currently installed.)\n",
            "Preparing to unpack .../python-opengl_3.1.0+dfsg-1_all.deb ...\n",
            "Unpacking python-opengl (3.1.0+dfsg-1) ...\n",
            "Setting up python-opengl (3.1.0+dfsg-1) ...\n",
            "Reading package lists... Done\n",
            "Building dependency tree       \n",
            "Reading state information... Done\n",
            "The following package was automatically installed and is no longer required:\n",
            "  libnvidia-common-430\n",
            "Use 'apt autoremove' to remove it.\n",
            "The following NEW packages will be installed:\n",
            "  xvfb\n",
            "0 upgraded, 1 newly installed, 0 to remove and 25 not upgraded.\n",
            "Need to get 783 kB of archives.\n",
            "After this operation, 2,266 kB of additional disk space will be used.\n",
            "Err:1 http://archive.ubuntu.com/ubuntu bionic-updates/universe amd64 xvfb amd64 2:1.19.6-1ubuntu4.3\n",
            "  404  Not Found [IP: 91.189.88.173 80]\n",
            "E: Failed to fetch http://archive.ubuntu.com/ubuntu/pool/universe/x/xorg-server/xvfb_1.19.6-1ubuntu4.3_amd64.deb  404  Not Found [IP: 91.189.88.173 80]\n",
            "E: Unable to fetch some archives, maybe run apt-get update or try with --fix-missing?\n",
            "Collecting pyvirtualdisplay\n",
            "  Downloading https://files.pythonhosted.org/packages/69/ec/8221a07850d69fa3c57c02e526edd23d18c7c05d58ed103e3b19172757c1/PyVirtualDisplay-0.2.5-py2.py3-none-any.whl\n",
            "Collecting EasyProcess\n",
            "  Downloading https://files.pythonhosted.org/packages/32/8f/88d636f1da22a3c573259e44cfefb46a117d3f9432e2c98b1ab4a21372ad/EasyProcess-0.2.10-py2.py3-none-any.whl\n",
            "Installing collected packages: EasyProcess, pyvirtualdisplay\n",
            "Successfully installed EasyProcess-0.2.10 pyvirtualdisplay-0.2.5\n",
            "Collecting piglet\n",
            "  Downloading https://files.pythonhosted.org/packages/11/56/6840e5f45626dc7eb7cd5dff57d11880b3113723b3b7b1fb1fa537855b75/piglet-1.0.0-py2.py3-none-any.whl\n",
            "Collecting piglet-templates\n",
            "\u001b[?25l  Downloading https://files.pythonhosted.org/packages/ed/02/8ff42edafaa1bdff3563f2bd5acb0f1cdc400ab0743f8cc71c463ea9bf9a/piglet_templates-0.5.1-py2.py3-none-any.whl (63kB)\n",
            "\u001b[K     |████████████████████████████████| 71kB 2.4MB/s \n",
            "\u001b[?25hRequirement already satisfied: attrs in /usr/local/lib/python3.6/dist-packages (from piglet-templates->piglet) (19.3.0)\n",
            "Collecting astunparse\n",
            "  Downloading https://files.pythonhosted.org/packages/2b/03/13dde6512ad7b4557eb792fbcf0c653af6076b81e5941d36ec61f7ce6028/astunparse-1.6.3-py2.py3-none-any.whl\n",
            "Collecting Parsley\n",
            "\u001b[?25l  Downloading https://files.pythonhosted.org/packages/2b/d6/4fed8d65e28a970e1c5cb33ce9c7e22e3de745e1b2ae37af051ef16aea3b/Parsley-1.3-py2.py3-none-any.whl (88kB)\n",
            "\u001b[K     |████████████████████████████████| 92kB 5.5MB/s \n",
            "\u001b[?25hRequirement already satisfied: markupsafe in /usr/local/lib/python3.6/dist-packages (from piglet-templates->piglet) (1.1.1)\n",
            "Requirement already satisfied: wheel<1.0,>=0.23.0 in /usr/local/lib/python3.6/dist-packages (from astunparse->piglet-templates->piglet) (0.34.2)\n",
            "Requirement already satisfied: six<2.0,>=1.6.1 in /usr/local/lib/python3.6/dist-packages (from astunparse->piglet-templates->piglet) (1.12.0)\n",
            "Installing collected packages: astunparse, Parsley, piglet-templates, piglet\n",
            "Successfully installed Parsley-1.3 astunparse-1.6.3 piglet-1.0.0 piglet-templates-0.5.1\n"
          ],
          "name": "stdout"
        },
        {
          "output_type": "error",
          "ename": "EasyProcessError",
          "evalue": "ignored",
          "traceback": [
            "\u001b[0;31m---------------------------------------------------------------------------\u001b[0m",
            "\u001b[0;31mFileNotFoundError\u001b[0m                         Traceback (most recent call last)",
            "\u001b[0;32m/usr/local/lib/python3.6/dist-packages/easyprocess/__init__.py\u001b[0m in \u001b[0;36mstart\u001b[0;34m(self)\u001b[0m\n\u001b[1;32m    230\u001b[0m             self.popen = subprocess.Popen(\n\u001b[0;32m--> 231\u001b[0;31m                 \u001b[0mcmd\u001b[0m\u001b[0;34m,\u001b[0m \u001b[0mstdout\u001b[0m\u001b[0;34m=\u001b[0m\u001b[0mstdout\u001b[0m\u001b[0;34m,\u001b[0m \u001b[0mstderr\u001b[0m\u001b[0;34m=\u001b[0m\u001b[0mstderr\u001b[0m\u001b[0;34m,\u001b[0m \u001b[0mcwd\u001b[0m\u001b[0;34m=\u001b[0m\u001b[0mself\u001b[0m\u001b[0;34m.\u001b[0m\u001b[0mcwd\u001b[0m\u001b[0;34m,\u001b[0m \u001b[0menv\u001b[0m\u001b[0;34m=\u001b[0m\u001b[0mself\u001b[0m\u001b[0;34m.\u001b[0m\u001b[0menv\u001b[0m\u001b[0;34m,\u001b[0m\u001b[0;34m\u001b[0m\u001b[0;34m\u001b[0m\u001b[0m\n\u001b[0m\u001b[1;32m    232\u001b[0m             )\n",
            "\u001b[0;32m/usr/lib/python3.6/subprocess.py\u001b[0m in \u001b[0;36m__init__\u001b[0;34m(self, args, bufsize, executable, stdin, stdout, stderr, preexec_fn, close_fds, shell, cwd, env, universal_newlines, startupinfo, creationflags, restore_signals, start_new_session, pass_fds, encoding, errors)\u001b[0m\n\u001b[1;32m    728\u001b[0m                                 \u001b[0merrread\u001b[0m\u001b[0;34m,\u001b[0m \u001b[0merrwrite\u001b[0m\u001b[0;34m,\u001b[0m\u001b[0;34m\u001b[0m\u001b[0;34m\u001b[0m\u001b[0m\n\u001b[0;32m--> 729\u001b[0;31m                                 restore_signals, start_new_session)\n\u001b[0m\u001b[1;32m    730\u001b[0m         \u001b[0;32mexcept\u001b[0m\u001b[0;34m:\u001b[0m\u001b[0;34m\u001b[0m\u001b[0;34m\u001b[0m\u001b[0m\n",
            "\u001b[0;32m/usr/lib/python3.6/subprocess.py\u001b[0m in \u001b[0;36m_execute_child\u001b[0;34m(self, args, executable, preexec_fn, close_fds, pass_fds, cwd, env, startupinfo, creationflags, shell, p2cread, p2cwrite, c2pread, c2pwrite, errread, errwrite, restore_signals, start_new_session)\u001b[0m\n\u001b[1;32m   1363\u001b[0m                             \u001b[0merr_msg\u001b[0m \u001b[0;34m+=\u001b[0m \u001b[0;34m': '\u001b[0m \u001b[0;34m+\u001b[0m \u001b[0mrepr\u001b[0m\u001b[0;34m(\u001b[0m\u001b[0merr_filename\u001b[0m\u001b[0;34m)\u001b[0m\u001b[0;34m\u001b[0m\u001b[0;34m\u001b[0m\u001b[0m\n\u001b[0;32m-> 1364\u001b[0;31m                     \u001b[0;32mraise\u001b[0m \u001b[0mchild_exception_type\u001b[0m\u001b[0;34m(\u001b[0m\u001b[0merrno_num\u001b[0m\u001b[0;34m,\u001b[0m \u001b[0merr_msg\u001b[0m\u001b[0;34m,\u001b[0m \u001b[0merr_filename\u001b[0m\u001b[0;34m)\u001b[0m\u001b[0;34m\u001b[0m\u001b[0;34m\u001b[0m\u001b[0m\n\u001b[0m\u001b[1;32m   1365\u001b[0m                 \u001b[0;32mraise\u001b[0m \u001b[0mchild_exception_type\u001b[0m\u001b[0;34m(\u001b[0m\u001b[0merr_msg\u001b[0m\u001b[0;34m)\u001b[0m\u001b[0;34m\u001b[0m\u001b[0;34m\u001b[0m\u001b[0m\n",
            "\u001b[0;31mFileNotFoundError\u001b[0m: [Errno 2] No such file or directory: 'Xvfb': 'Xvfb'",
            "\nDuring handling of the above exception, another exception occurred:\n",
            "\u001b[0;31mEasyProcessError\u001b[0m                          Traceback (most recent call last)",
            "\u001b[0;32m<ipython-input-1-b9027db4e967>\u001b[0m in \u001b[0;36m<module>\u001b[0;34m()\u001b[0m\n\u001b[1;32m      5\u001b[0m \u001b[0mget_ipython\u001b[0m\u001b[0;34m(\u001b[0m\u001b[0;34m)\u001b[0m\u001b[0;34m.\u001b[0m\u001b[0msystem\u001b[0m\u001b[0;34m(\u001b[0m\u001b[0;34m'pip install piglet'\u001b[0m\u001b[0;34m)\u001b[0m\u001b[0;34m\u001b[0m\u001b[0;34m\u001b[0m\u001b[0m\n\u001b[1;32m      6\u001b[0m \u001b[0;32mfrom\u001b[0m \u001b[0mpyvirtualdisplay\u001b[0m \u001b[0;32mimport\u001b[0m \u001b[0mDisplay\u001b[0m\u001b[0;34m\u001b[0m\u001b[0;34m\u001b[0m\u001b[0m\n\u001b[0;32m----> 7\u001b[0;31m \u001b[0mdisplay\u001b[0m \u001b[0;34m=\u001b[0m \u001b[0mDisplay\u001b[0m\u001b[0;34m(\u001b[0m\u001b[0mvisible\u001b[0m\u001b[0;34m=\u001b[0m\u001b[0;36m0\u001b[0m\u001b[0;34m,\u001b[0m \u001b[0msize\u001b[0m\u001b[0;34m=\u001b[0m\u001b[0;34m(\u001b[0m\u001b[0;36m1400\u001b[0m\u001b[0;34m,\u001b[0m \u001b[0;36m900\u001b[0m\u001b[0;34m)\u001b[0m\u001b[0;34m)\u001b[0m\u001b[0;34m\u001b[0m\u001b[0;34m\u001b[0m\u001b[0m\n\u001b[0m\u001b[1;32m      8\u001b[0m \u001b[0mdisplay\u001b[0m\u001b[0;34m.\u001b[0m\u001b[0mstart\u001b[0m\u001b[0;34m(\u001b[0m\u001b[0;34m)\u001b[0m\u001b[0;34m\u001b[0m\u001b[0;34m\u001b[0m\u001b[0m\n",
            "\u001b[0;32m/usr/local/lib/python3.6/dist-packages/pyvirtualdisplay/display.py\u001b[0m in \u001b[0;36m__init__\u001b[0;34m(self, backend, visible, size, color_depth, bgcolor, use_xauth, check_startup, randomizer, **kwargs)\u001b[0m\n\u001b[1;32m     32\u001b[0m                 \u001b[0mself\u001b[0m\u001b[0;34m.\u001b[0m\u001b[0mbackend\u001b[0m \u001b[0;34m=\u001b[0m \u001b[0;34m'xvfb'\u001b[0m\u001b[0;34m\u001b[0m\u001b[0;34m\u001b[0m\u001b[0m\n\u001b[1;32m     33\u001b[0m \u001b[0;34m\u001b[0m\u001b[0m\n\u001b[0;32m---> 34\u001b[0;31m         self._obj = self.display_class(\n\u001b[0m\u001b[1;32m     35\u001b[0m             \u001b[0msize\u001b[0m\u001b[0;34m=\u001b[0m\u001b[0msize\u001b[0m\u001b[0;34m,\u001b[0m\u001b[0;34m\u001b[0m\u001b[0;34m\u001b[0m\u001b[0m\n\u001b[1;32m     36\u001b[0m             \u001b[0mcolor_depth\u001b[0m\u001b[0;34m=\u001b[0m\u001b[0mcolor_depth\u001b[0m\u001b[0;34m,\u001b[0m\u001b[0;34m\u001b[0m\u001b[0;34m\u001b[0m\u001b[0m\n",
            "\u001b[0;32m/usr/local/lib/python3.6/dist-packages/pyvirtualdisplay/display.py\u001b[0m in \u001b[0;36mdisplay_class\u001b[0;34m(self)\u001b[0m\n\u001b[1;32m     51\u001b[0m \u001b[0;34m\u001b[0m\u001b[0m\n\u001b[1;32m     52\u001b[0m         \u001b[0;31m# TODO: check only once\u001b[0m\u001b[0;34m\u001b[0m\u001b[0;34m\u001b[0m\u001b[0;34m\u001b[0m\u001b[0m\n\u001b[0;32m---> 53\u001b[0;31m         \u001b[0mcls\u001b[0m\u001b[0;34m.\u001b[0m\u001b[0mcheck_installed\u001b[0m\u001b[0;34m(\u001b[0m\u001b[0;34m)\u001b[0m\u001b[0;34m\u001b[0m\u001b[0;34m\u001b[0m\u001b[0m\n\u001b[0m\u001b[1;32m     54\u001b[0m \u001b[0;34m\u001b[0m\u001b[0m\n\u001b[1;32m     55\u001b[0m         \u001b[0;32mreturn\u001b[0m \u001b[0mcls\u001b[0m\u001b[0;34m\u001b[0m\u001b[0;34m\u001b[0m\u001b[0m\n",
            "\u001b[0;32m/usr/local/lib/python3.6/dist-packages/pyvirtualdisplay/xvfb.py\u001b[0m in \u001b[0;36mcheck_installed\u001b[0;34m(cls)\u001b[0m\n\u001b[1;32m     38\u001b[0m         \u001b[0mp\u001b[0m\u001b[0;34m.\u001b[0m\u001b[0menable_stdout_log\u001b[0m \u001b[0;34m=\u001b[0m \u001b[0;32mFalse\u001b[0m\u001b[0;34m\u001b[0m\u001b[0;34m\u001b[0m\u001b[0m\n\u001b[1;32m     39\u001b[0m         \u001b[0mp\u001b[0m\u001b[0;34m.\u001b[0m\u001b[0menable_stderr_log\u001b[0m \u001b[0;34m=\u001b[0m \u001b[0;32mFalse\u001b[0m\u001b[0;34m\u001b[0m\u001b[0;34m\u001b[0m\u001b[0m\n\u001b[0;32m---> 40\u001b[0;31m         \u001b[0mp\u001b[0m\u001b[0;34m.\u001b[0m\u001b[0mcall\u001b[0m\u001b[0;34m(\u001b[0m\u001b[0;34m)\u001b[0m\u001b[0;34m\u001b[0m\u001b[0;34m\u001b[0m\u001b[0m\n\u001b[0m\u001b[1;32m     41\u001b[0m \u001b[0;34m\u001b[0m\u001b[0m\n\u001b[1;32m     42\u001b[0m     \u001b[0;34m@\u001b[0m\u001b[0mproperty\u001b[0m\u001b[0;34m\u001b[0m\u001b[0;34m\u001b[0m\u001b[0m\n",
            "\u001b[0;32m/usr/local/lib/python3.6/dist-packages/easyprocess/__init__.py\u001b[0m in \u001b[0;36mcall\u001b[0;34m(self, timeout)\u001b[0m\n\u001b[1;32m    201\u001b[0m \u001b[0;34m\u001b[0m\u001b[0m\n\u001b[1;32m    202\u001b[0m         \"\"\"\n\u001b[0;32m--> 203\u001b[0;31m         \u001b[0mself\u001b[0m\u001b[0;34m.\u001b[0m\u001b[0mstart\u001b[0m\u001b[0;34m(\u001b[0m\u001b[0;34m)\u001b[0m\u001b[0;34m.\u001b[0m\u001b[0mwait\u001b[0m\u001b[0;34m(\u001b[0m\u001b[0mtimeout\u001b[0m\u001b[0;34m=\u001b[0m\u001b[0mtimeout\u001b[0m\u001b[0;34m)\u001b[0m\u001b[0;34m\u001b[0m\u001b[0;34m\u001b[0m\u001b[0m\n\u001b[0m\u001b[1;32m    204\u001b[0m         \u001b[0;32mif\u001b[0m \u001b[0mself\u001b[0m\u001b[0;34m.\u001b[0m\u001b[0mis_alive\u001b[0m\u001b[0;34m(\u001b[0m\u001b[0;34m)\u001b[0m\u001b[0;34m:\u001b[0m\u001b[0;34m\u001b[0m\u001b[0;34m\u001b[0m\u001b[0m\n\u001b[1;32m    205\u001b[0m             \u001b[0mself\u001b[0m\u001b[0;34m.\u001b[0m\u001b[0mstop\u001b[0m\u001b[0;34m(\u001b[0m\u001b[0;34m)\u001b[0m\u001b[0;34m\u001b[0m\u001b[0;34m\u001b[0m\u001b[0m\n",
            "\u001b[0;32m/usr/local/lib/python3.6/dist-packages/easyprocess/__init__.py\u001b[0m in \u001b[0;36mstart\u001b[0;34m(self)\u001b[0m\n\u001b[1;32m    234\u001b[0m             \u001b[0mlog\u001b[0m\u001b[0;34m.\u001b[0m\u001b[0mdebug\u001b[0m\u001b[0;34m(\u001b[0m\u001b[0;34m\"OSError exception: %s\"\u001b[0m\u001b[0;34m,\u001b[0m \u001b[0moserror\u001b[0m\u001b[0;34m)\u001b[0m\u001b[0;34m\u001b[0m\u001b[0;34m\u001b[0m\u001b[0m\n\u001b[1;32m    235\u001b[0m             \u001b[0mself\u001b[0m\u001b[0;34m.\u001b[0m\u001b[0moserror\u001b[0m \u001b[0;34m=\u001b[0m \u001b[0moserror\u001b[0m\u001b[0;34m\u001b[0m\u001b[0;34m\u001b[0m\u001b[0m\n\u001b[0;32m--> 236\u001b[0;31m             \u001b[0;32mraise\u001b[0m \u001b[0mEasyProcessError\u001b[0m\u001b[0;34m(\u001b[0m\u001b[0mself\u001b[0m\u001b[0;34m,\u001b[0m \u001b[0;34m\"start error\"\u001b[0m\u001b[0;34m)\u001b[0m\u001b[0;34m\u001b[0m\u001b[0;34m\u001b[0m\u001b[0m\n\u001b[0m\u001b[1;32m    237\u001b[0m         \u001b[0mself\u001b[0m\u001b[0;34m.\u001b[0m\u001b[0mis_started\u001b[0m \u001b[0;34m=\u001b[0m \u001b[0;32mTrue\u001b[0m\u001b[0;34m\u001b[0m\u001b[0;34m\u001b[0m\u001b[0m\n\u001b[1;32m    238\u001b[0m         \u001b[0mlog\u001b[0m\u001b[0;34m.\u001b[0m\u001b[0mdebug\u001b[0m\u001b[0;34m(\u001b[0m\u001b[0;34m\"process was started (pid=%s)\"\u001b[0m\u001b[0;34m,\u001b[0m \u001b[0mself\u001b[0m\u001b[0;34m.\u001b[0m\u001b[0mpid\u001b[0m\u001b[0;34m)\u001b[0m\u001b[0;34m\u001b[0m\u001b[0;34m\u001b[0m\u001b[0m\n",
            "\u001b[0;31mEasyProcessError\u001b[0m: start error <EasyProcess cmd_param=['Xvfb', '-help'] cmd=['Xvfb', '-help'] oserror=[Errno 2] No such file or directory: 'Xvfb': 'Xvfb' return_code=None stdout=\"None\" stderr=\"None\" timeout_happened=False>"
          ]
        }
      ]
    },
    {
      "cell_type": "code",
      "metadata": {
        "id": "NayWEglQq138",
        "colab_type": "code",
        "colab": {
          "base_uri": "https://localhost:8080/",
          "height": 52
        },
        "outputId": "47f1d9f2-bc27-4701-d4e6-cb749c39e244"
      },
      "source": [
        "import numpy as np\n",
        "import matplotlib.pyplot as plt\n",
        "%matplotlib inline\n",
        "\n",
        "# This code creates a virtual display to draw game images on. \n",
        "# If you are running locally, just ignore it\n",
        "import os\n",
        "if type(os.environ.get(\"DISPLAY\")) is not str or len(os.environ.get(\"DISPLAY\"))==0:\n",
        "    !bash ../xvfb start\n",
        "    %env DISPLAY=:1"
      ],
      "execution_count": 1,
      "outputs": [
        {
          "output_type": "stream",
          "text": [
            "bash: ../xvfb: No such file or directory\n",
            "env: DISPLAY=:1\n"
          ],
          "name": "stdout"
        }
      ]
    },
    {
      "cell_type": "code",
      "metadata": {
        "id": "kEOKDF_kq_tx",
        "colab_type": "code",
        "colab": {
          "base_uri": "https://localhost:8080/",
          "height": 52
        },
        "outputId": "7f22e4bf-f4ba-48cb-b81c-5909656159c8"
      },
      "source": [
        "import gym\n",
        "env = gym.make(\"CartPole-v0\")\n",
        "\n",
        "import torch\n",
        "import torch.nn as n\n",
        "import torch.optim as op\n",
        "import torch.nn.functional as f"
      ],
      "execution_count": 2,
      "outputs": [
        {
          "output_type": "stream",
          "text": [
            "/usr/local/lib/python3.6/dist-packages/gym/logger.py:30: UserWarning: \u001b[33mWARN: Box bound precision lowered by casting to float32\u001b[0m\n",
            "  warnings.warn(colorize('%s: %s'%('WARN', msg % args), 'yellow'))\n"
          ],
          "name": "stderr"
        }
      ]
    },
    {
      "cell_type": "code",
      "metadata": {
        "id": "qZmx4EOdrHcg",
        "colab_type": "code",
        "colab": {
          "base_uri": "https://localhost:8080/",
          "height": 52
        },
        "outputId": "46438b2e-381c-458b-cc2d-fedf7cdae272"
      },
      "source": [
        "env.observation_space.high"
      ],
      "execution_count": 3,
      "outputs": [
        {
          "output_type": "execute_result",
          "data": {
            "text/plain": [
              "array([4.8000002e+00, 3.4028235e+38, 4.1887903e-01, 3.4028235e+38],\n",
              "      dtype=float32)"
            ]
          },
          "metadata": {
            "tags": []
          },
          "execution_count": 3
        }
      ]
    },
    {
      "cell_type": "code",
      "metadata": {
        "id": "35eTQlKyrXnn",
        "colab_type": "code",
        "colab": {
          "base_uri": "https://localhost:8080/",
          "height": 52
        },
        "outputId": "421089d8-550d-48eb-cf09-29024c1ea467"
      },
      "source": [
        "env.observation_space.low"
      ],
      "execution_count": 4,
      "outputs": [
        {
          "output_type": "execute_result",
          "data": {
            "text/plain": [
              "array([-4.8000002e+00, -3.4028235e+38, -4.1887903e-01, -3.4028235e+38],\n",
              "      dtype=float32)"
            ]
          },
          "metadata": {
            "tags": []
          },
          "execution_count": 4
        }
      ]
    },
    {
      "cell_type": "code",
      "metadata": {
        "id": "NPtO0Z8mTSuD",
        "colab_type": "code",
        "colab": {
          "base_uri": "https://localhost:8080/",
          "height": 35
        },
        "outputId": "edf88509-6a4e-4742-c43d-32763796ac2d"
      },
      "source": [
        "env.action_space.n"
      ],
      "execution_count": 5,
      "outputs": [
        {
          "output_type": "execute_result",
          "data": {
            "text/plain": [
              "2"
            ]
          },
          "metadata": {
            "tags": []
          },
          "execution_count": 5
        }
      ]
    },
    {
      "cell_type": "code",
      "metadata": {
        "id": "qiTFJI6Vra84",
        "colab_type": "code",
        "colab": {
          "base_uri": "https://localhost:8080/",
          "height": 35
        },
        "outputId": "1654ad1b-8355-41f5-84b6-18c91af5d8cc"
      },
      "source": [
        "env.observation_space.shape"
      ],
      "execution_count": 6,
      "outputs": [
        {
          "output_type": "execute_result",
          "data": {
            "text/plain": [
              "(4,)"
            ]
          },
          "metadata": {
            "tags": []
          },
          "execution_count": 6
        }
      ]
    },
    {
      "cell_type": "code",
      "metadata": {
        "id": "oJu53mYfr_xi",
        "colab_type": "code",
        "colab": {}
      },
      "source": [
        "hiddensize=128\n",
        "batchsize=32\n",
        "percent=70\n",
        "from collections import namedtuple"
      ],
      "execution_count": 0,
      "outputs": []
    },
    {
      "cell_type": "code",
      "metadata": {
        "id": "SZ59o3hsuOGJ",
        "colab_type": "code",
        "colab": {}
      },
      "source": [
        "class net(n.Module):\n",
        "  def __init__(self,indim,hiddensize,actionsize):\n",
        "    super().__init__()\n",
        "    self.fc1=n.Linear(4,hiddensize)\n",
        "    self.fc2=n.Linear(hiddensize,actionsize)\n",
        "\n",
        "  def forward(self,x):\n",
        "    out=f.relu(self.fc1(x))\n",
        "    out=self.fc2(out)\n",
        "    return out\n",
        "\n"
      ],
      "execution_count": 0,
      "outputs": []
    },
    {
      "cell_type": "code",
      "metadata": {
        "id": "GsOEpxoAS_oi",
        "colab_type": "code",
        "colab": {}
      },
      "source": [
        "model1=net(4,128,2)"
      ],
      "execution_count": 0,
      "outputs": []
    },
    {
      "cell_type": "code",
      "metadata": {
        "id": "I4R9N7UcTXwg",
        "colab_type": "code",
        "colab": {
          "base_uri": "https://localhost:8080/",
          "height": 87
        },
        "outputId": "b5f6d184-b916-4102-f9df-c49cc07dfcdc"
      },
      "source": [
        "model1"
      ],
      "execution_count": 10,
      "outputs": [
        {
          "output_type": "execute_result",
          "data": {
            "text/plain": [
              "net(\n",
              "  (fc1): Linear(in_features=4, out_features=128, bias=True)\n",
              "  (fc2): Linear(in_features=128, out_features=2, bias=True)\n",
              ")"
            ]
          },
          "metadata": {
            "tags": []
          },
          "execution_count": 10
        }
      ]
    },
    {
      "cell_type": "code",
      "metadata": {
        "id": "L2lGpBYvTZRo",
        "colab_type": "code",
        "colab": {}
      },
      "source": [
        "#named tuple\n",
        "episode=namedtuple(\"episode\",field_names=['reward','steps'])\n",
        "episodestep=namedtuple(\"episodestep\",field_names=['observation','action'])"
      ],
      "execution_count": 0,
      "outputs": []
    },
    {
      "cell_type": "code",
      "metadata": {
        "id": "hdCUq_9oVc8Q",
        "colab_type": "code",
        "colab": {}
      },
      "source": [
        "def iterate_batches(env,net,batchsize):\n",
        "  batch=[]\n",
        "  episodereward=0.0\n",
        "  episodesteps=[]\n",
        "  obs=env.reset()\n",
        "  sm=n.Softmax(dim=1)\n",
        "  while True:\n",
        "    obs=torch.FloatTensor(obs).view(1,-1)\n",
        "    #print(obs.shape)\n",
        "    actionprobs=sm(net.forward(obs))\n",
        "    actionprobs=actionprobs.data.numpy()[0]\n",
        "    action=np.random.choice(len(actionprobs),p=actionprobs)\n",
        "    nextobs,reward,isdone,_=env.step(action)\n",
        "    episodereward+=reward\n",
        "    episodesteps.append(episodestep(observation=obs,action=action))\n",
        "    if isdone:\n",
        "      batch.append(episode(reward=episodereward,steps=episodesteps))\n",
        "      episodereward=0\n",
        "      episodesteps=[]\n",
        "      nextobs=env.reset()\n",
        "      if len(batch)==batchsize:\n",
        "        yield batch\n",
        "        batch=[]\n",
        "    obs=nextobs\n"
      ],
      "execution_count": 0,
      "outputs": []
    },
    {
      "cell_type": "code",
      "metadata": {
        "id": "Dr1-gCvsdbIn",
        "colab_type": "code",
        "colab": {}
      },
      "source": [
        "def filterbatches(batch,percentile):\n",
        "  rewards=list(map(lambda x:x.reward,batch))\n",
        "  rewards_bound=np.percentile(rewards,percentile)\n",
        "  rewards_mean=float(np.mean(rewards))\n",
        "\n",
        "  trainobs=[]\n",
        "  trainact=[]\n",
        "  for example in batch:\n",
        "    if example.reward<rewards_bound:\n",
        "      continue\n",
        "    #print(example)\n",
        "    #print(list(map(lambda x:x.observation,example.steps)))\n",
        "    trainobs.extend(map(lambda x:x.observation,example.steps))\n",
        "    trainact.extend(map(lambda x:x.action,example.steps))\n",
        "  \n",
        "  # print(trainobs[0].shape)\n",
        "  # print(trainact)\n",
        "  trainobs=torch.cat(trainobs,axis=0)\n",
        "  # print(trainobs.shape)\n",
        "  trainact=torch.LongTensor(trainact)\n",
        "  return trainobs,trainact,rewards_bound,rewards_mean"
      ],
      "execution_count": 0,
      "outputs": []
    },
    {
      "cell_type": "code",
      "metadata": {
        "id": "ad-Zurthoqx1",
        "colab_type": "code",
        "colab": {
          "base_uri": "https://localhost:8080/",
          "height": 52
        },
        "outputId": "13757e9a-dd11-497f-9a8a-eb19bc6722e3"
      },
      "source": [
        "env=gym.make(\"CartPole-v0\")"
      ],
      "execution_count": 14,
      "outputs": [
        {
          "output_type": "stream",
          "text": [
            "/usr/local/lib/python3.6/dist-packages/gym/logger.py:30: UserWarning: \u001b[33mWARN: Box bound precision lowered by casting to float32\u001b[0m\n",
            "  warnings.warn(colorize('%s: %s'%('WARN', msg % args), 'yellow'))\n"
          ],
          "name": "stderr"
        }
      ]
    },
    {
      "cell_type": "code",
      "metadata": {
        "id": "t4Frd8Tmo198",
        "colab_type": "code",
        "colab": {}
      },
      "source": [
        "model1=net(4,128,2)"
      ],
      "execution_count": 0,
      "outputs": []
    },
    {
      "cell_type": "code",
      "metadata": {
        "id": "TSHKR_YdrBf-",
        "colab_type": "code",
        "colab": {}
      },
      "source": [
        "import torch.optim as op"
      ],
      "execution_count": 0,
      "outputs": []
    },
    {
      "cell_type": "code",
      "metadata": {
        "id": "oHa7YGZYq5AP",
        "colab_type": "code",
        "colab": {}
      },
      "source": [
        "loss=n.CrossEntropyLoss()\n",
        "optim=op.Adam(model1.parameters(),lr=0.001)"
      ],
      "execution_count": 0,
      "outputs": []
    },
    {
      "cell_type": "code",
      "metadata": {
        "id": "r9mOT0GirIab",
        "colab_type": "code",
        "colab": {
          "base_uri": "https://localhost:8080/",
          "height": 1000
        },
        "outputId": "cdf0808a-48ab-4040-d53a-e520f24e0523"
      },
      "source": [
        "count=0\n",
        "trainloss=[]\n",
        "trainrew=[]\n",
        "for i,batch in enumerate(iterate_batches(env,model1,32)):\n",
        "  obsv,actv,rewb,rewm=filterbatches(batch,70)\n",
        "  optim.zero_grad()\n",
        "  #print(obsv.shape)\n",
        "  actionscores=model1(obsv)\n",
        "  loss1=loss(actionscores,actv)\n",
        "  loss1.backward()\n",
        "  optim.step()\n",
        "  if count==200:\n",
        "    break\n",
        "  if count%20==0:\n",
        "    print(rewm)\n",
        "  trainrew.append(rewm)\n",
        "  \n",
        "  print(loss1.item())\n",
        "  trainloss.append(loss1.item())\n",
        "  count+=1"
      ],
      "execution_count": 25,
      "outputs": [
        {
          "output_type": "stream",
          "text": [
            "20.09375\n",
            "0.7053145170211792\n",
            "0.6952887773513794\n",
            "0.69708651304245\n",
            "0.6932874321937561\n",
            "0.7010416984558105\n",
            "0.6969593167304993\n",
            "0.6863564252853394\n",
            "0.6953634023666382\n",
            "0.6902880072593689\n",
            "0.6903993487358093\n",
            "0.6925050020217896\n",
            "0.6831102967262268\n",
            "0.6837946176528931\n",
            "0.6798494458198547\n",
            "0.6815687417984009\n",
            "0.6785727739334106\n",
            "0.6836498975753784\n",
            "0.679235577583313\n",
            "0.6745783090591431\n",
            "0.6774551272392273\n",
            "31.90625\n",
            "0.6772982478141785\n",
            "0.6724597811698914\n",
            "0.6790080070495605\n",
            "0.6656894087791443\n",
            "0.6673390865325928\n",
            "0.660250186920166\n",
            "0.6678304672241211\n",
            "0.6559325456619263\n",
            "0.6644954085350037\n",
            "0.6563671827316284\n",
            "0.6745412349700928\n",
            "0.6621286869049072\n",
            "0.654480516910553\n",
            "0.6589086651802063\n",
            "0.6506784558296204\n",
            "0.6507044434547424\n",
            "0.6505603790283203\n",
            "0.6533043384552002\n",
            "0.65505450963974\n",
            "0.6468669772148132\n",
            "44.03125\n",
            "0.6544153690338135\n",
            "0.6432048082351685\n",
            "0.645086944103241\n",
            "0.6476896405220032\n",
            "0.6492089629173279\n",
            "0.6412388682365417\n",
            "0.6434876322746277\n",
            "0.6435195207595825\n",
            "0.6482123732566833\n",
            "0.6511869430541992\n",
            "0.6472002267837524\n",
            "0.64347904920578\n",
            "0.6359972357749939\n",
            "0.6397358775138855\n",
            "0.6399742960929871\n",
            "0.6413577198982239\n",
            "0.6418220400810242\n",
            "0.6460283994674683\n",
            "0.6336376070976257\n",
            "0.6259325742721558\n",
            "56.53125\n",
            "0.6349719762802124\n",
            "0.6287916302680969\n",
            "0.6303629279136658\n",
            "0.6308350563049316\n",
            "0.6321617960929871\n",
            "0.6318225860595703\n",
            "0.6478146314620972\n",
            "0.6295851469039917\n",
            "0.6226792931556702\n",
            "0.6239897012710571\n",
            "0.6291409134864807\n",
            "0.625951886177063\n",
            "0.6281219720840454\n",
            "0.6250660419464111\n",
            "0.6188592314720154\n",
            "0.6207759976387024\n",
            "0.6334952116012573\n",
            "0.6181344985961914\n",
            "0.6190330982208252\n",
            "0.617694616317749\n",
            "49.09375\n",
            "0.6168628334999084\n",
            "0.6111246347427368\n",
            "0.6171630024909973\n",
            "0.6285331845283508\n",
            "0.6151995062828064\n",
            "0.6322401762008667\n",
            "0.6205441951751709\n",
            "0.6132862567901611\n",
            "0.6107668876647949\n",
            "0.614964485168457\n",
            "0.6143584847450256\n",
            "0.6114672422409058\n",
            "0.6197044253349304\n",
            "0.6148543953895569\n",
            "0.6117501854896545\n",
            "0.6125953197479248\n",
            "0.6169055104255676\n",
            "0.6163598895072937\n",
            "0.6010064482688904\n",
            "0.6178357005119324\n",
            "60.03125\n",
            "0.6142045259475708\n",
            "0.6285015344619751\n",
            "0.6077851057052612\n",
            "0.620755672454834\n",
            "0.609841525554657\n",
            "0.6118236184120178\n",
            "0.6227285265922546\n",
            "0.6036869883537292\n",
            "0.5972709059715271\n",
            "0.613204300403595\n",
            "0.6006558537483215\n",
            "0.6030973196029663\n",
            "0.6028077602386475\n",
            "0.6064600944519043\n",
            "0.6061356663703918\n",
            "0.5971285700798035\n",
            "0.6122204661369324\n",
            "0.611687421798706\n",
            "0.6197325587272644\n",
            "0.6089524626731873\n",
            "61.8125\n",
            "0.6108160018920898\n",
            "0.5979310274124146\n",
            "0.5972301363945007\n",
            "0.6032900214195251\n",
            "0.6037363409996033\n",
            "0.5999335050582886\n",
            "0.6035412549972534\n",
            "0.5913340449333191\n",
            "0.597533106803894\n",
            "0.600365161895752\n",
            "0.5972564816474915\n",
            "0.6038380265235901\n",
            "0.6031443476676941\n",
            "0.600859522819519\n",
            "0.6033006906509399\n",
            "0.608364999294281\n",
            "0.5979406833648682\n",
            "0.5971701145172119\n",
            "0.6004541516304016\n",
            "0.6021800637245178\n",
            "110.03125\n",
            "0.5927326679229736\n",
            "0.5972753763198853\n",
            "0.6011999249458313\n",
            "0.6012665033340454\n",
            "0.5985772013664246\n",
            "0.6043378710746765\n",
            "0.5950595140457153\n",
            "0.5998388528823853\n",
            "0.5972037315368652\n",
            "0.5945315361022949\n",
            "0.601301372051239\n",
            "0.5919517278671265\n",
            "0.5941596627235413\n",
            "0.5941502451896667\n",
            "0.6010347604751587\n",
            "0.5897270441055298\n",
            "0.5935125946998596\n",
            "0.5959509015083313\n",
            "0.5906328558921814\n",
            "0.6007329225540161\n",
            "121.21875\n",
            "0.5968466997146606\n",
            "0.5882071852684021\n",
            "0.6029720306396484\n",
            "0.603558361530304\n",
            "0.5886549949645996\n",
            "0.5940868854522705\n",
            "0.5876412391662598\n",
            "0.5947679281234741\n",
            "0.5953009128570557\n",
            "0.591866672039032\n",
            "0.5965442061424255\n",
            "0.5882046222686768\n",
            "0.5964363217353821\n",
            "0.5881452560424805\n",
            "0.5890112519264221\n",
            "0.594648003578186\n",
            "0.587843656539917\n",
            "0.5930054187774658\n",
            "0.5821920037269592\n",
            "0.589484691619873\n",
            "127.3125\n",
            "0.5880517363548279\n",
            "0.5838478803634644\n",
            "0.5987855195999146\n",
            "0.5857480764389038\n",
            "0.5875435471534729\n",
            "0.5881752371788025\n",
            "0.5792832970619202\n",
            "0.5791529417037964\n",
            "0.5838625431060791\n",
            "0.5861522555351257\n",
            "0.5843256711959839\n",
            "0.5895107984542847\n",
            "0.5902742743492126\n",
            "0.5844081044197083\n",
            "0.5797930955886841\n",
            "0.5802567601203918\n",
            "0.5792934894561768\n",
            "0.5811731219291687\n",
            "0.5872746109962463\n",
            "0.5827983021736145\n"
          ],
          "name": "stdout"
        }
      ]
    },
    {
      "cell_type": "code",
      "metadata": {
        "id": "J8t2DtP-u08M",
        "colab_type": "code",
        "colab": {
          "base_uri": "https://localhost:8080/",
          "height": 35
        },
        "outputId": "a9f88d9d-17dc-42ca-81c7-7a093886cc31"
      },
      "source": [
        "trainloss[0]"
      ],
      "execution_count": 26,
      "outputs": [
        {
          "output_type": "execute_result",
          "data": {
            "text/plain": [
              "0.7053145170211792"
            ]
          },
          "metadata": {
            "tags": []
          },
          "execution_count": 26
        }
      ]
    },
    {
      "cell_type": "code",
      "metadata": {
        "id": "RzajhllzzZjg",
        "colab_type": "code",
        "colab": {
          "base_uri": "https://localhost:8080/",
          "height": 283
        },
        "outputId": "e4d682db-c1c1-47f6-f3cc-a247d80403dc"
      },
      "source": [
        "plt.plot(trainloss)"
      ],
      "execution_count": 27,
      "outputs": [
        {
          "output_type": "execute_result",
          "data": {
            "text/plain": [
              "[<matplotlib.lines.Line2D at 0x7f9ba1260198>]"
            ]
          },
          "metadata": {
            "tags": []
          },
          "execution_count": 27
        },
        {
          "output_type": "display_data",
          "data": {
            "image/png": "[encoded data removed]",
            "text/plain": [
              "<Figure size 432x288 with 1 Axes>"
            ]
          },
          "metadata": {
            "tags": []
          }
        }
      ]
    },
    {
      "cell_type": "code",
      "metadata": {
        "id": "LvX13m3SP2eA",
        "colab_type": "code",
        "colab": {
          "base_uri": "https://localhost:8080/",
          "height": 283
        },
        "outputId": "317b9e2b-9774-4b45-c875-b12731d57be2"
      },
      "source": [
        "plt.plot(trainrew)"
      ],
      "execution_count": 29,
      "outputs": [
        {
          "output_type": "execute_result",
          "data": {
            "text/plain": [
              "[<matplotlib.lines.Line2D at 0x7f9ba124bda0>]"
            ]
          },
          "metadata": {
            "tags": []
          },
          "execution_count": 29
        },
        {
          "output_type": "display_data",
          "data": {
            "image/png": "[encoded data removed]",
            "text/plain": [
              "<Figure size 432x288 with 1 Axes>"
            ]
          },
          "metadata": {
            "tags": []
          }
        }
      ]
    },
    {
      "cell_type": "code",
      "metadata": {
        "id": "16DtqG2bXEwY",
        "colab_type": "code",
        "colab": {}
      },
      "source": [
        ""
      ],
      "execution_count": 0,
      "outputs": []
    }
  ]
}