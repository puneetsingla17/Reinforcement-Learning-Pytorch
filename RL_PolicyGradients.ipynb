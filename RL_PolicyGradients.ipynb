{
  "nbformat": 4,
  "nbformat_minor": 0,
  "metadata": {
    "colab": {
      "name": "RL-PolicyGradients.ipynb",
      "provenance": [],
      "collapsed_sections": []
    },
    "kernelspec": {
      "name": "python3",
      "display_name": "Python 3"
    }
  },
  "cells": [
    {
      "cell_type": "code",
      "metadata": {
        "id": "4GbddRaBqp_Z",
        "colab_type": "code",
        "outputId": "26b719ad-c1bb-4311-86ea-fb9a5817716e",
        "colab": {
          "base_uri": "https://localhost:8080/",
          "height": 1000
        }
      },
      "source": [
        "!pip install gym\n",
        "!apt-get install python-opengl -y\n",
        "!apt install xvfb -y\n",
        "!pip install pyvirtualdisplay\n",
        "!pip install piglet\n",
        "from pyvirtualdisplay import Display\n",
        "display = Display(visible=0, size=(1400, 900))\n",
        "display.start()"
      ],
      "execution_count": 0,
      "outputs": [
        {
          "output_type": "stream",
          "text": [
            "Requirement already satisfied: gym in /usr/local/lib/python3.6/dist-packages (0.15.6)\n",
            "Requirement already satisfied: scipy in /usr/local/lib/python3.6/dist-packages (from gym) (1.4.1)\n",
            "Requirement already satisfied: six in /usr/local/lib/python3.6/dist-packages (from gym) (1.12.0)\n",
            "Requirement already satisfied: cloudpickle~=1.2.0 in /usr/local/lib/python3.6/dist-packages (from gym) (1.2.2)\n",
            "Requirement already satisfied: numpy>=1.10.4 in /usr/local/lib/python3.6/dist-packages (from gym) (1.17.5)\n",
            "Requirement already satisfied: pyglet<=1.5.0,>=1.4.0 in /usr/local/lib/python3.6/dist-packages (from gym) (1.4.10)\n",
            "Requirement already satisfied: future in /usr/local/lib/python3.6/dist-packages (from pyglet<=1.5.0,>=1.4.0->gym) (0.16.0)\n",
            "Reading package lists... Done\n",
            "Building dependency tree       \n",
            "Reading state information... Done\n",
            "Suggested packages:\n",
            "  libgle3\n",
            "The following NEW packages will be installed:\n",
            "  python-opengl\n",
            "0 upgraded, 1 newly installed, 0 to remove and 25 not upgraded.\n",
            "Need to get 496 kB of archives.\n",
            "After this operation, 5,416 kB of additional disk space will be used.\n",
            "Get:1 http://archive.ubuntu.com/ubuntu bionic/universe amd64 python-opengl all 3.1.0+dfsg-1 [496 kB]\n",
            "Fetched 496 kB in 1s (496 kB/s)\n",
            "Selecting previously unselected package python-opengl.\n",
            "(Reading database ... 134448 files and directories currently installed.)\n",
            "Preparing to unpack .../python-opengl_3.1.0+dfsg-1_all.deb ...\n",
            "Unpacking python-opengl (3.1.0+dfsg-1) ...\n",
            "Setting up python-opengl (3.1.0+dfsg-1) ...\n",
            "Reading package lists... Done\n",
            "Building dependency tree       \n",
            "Reading state information... Done\n",
            "The following NEW packages will be installed:\n",
            "  xvfb\n",
            "0 upgraded, 1 newly installed, 0 to remove and 25 not upgraded.\n",
            "Need to get 784 kB of archives.\n",
            "After this operation, 2,266 kB of additional disk space will be used.\n",
            "Get:1 http://archive.ubuntu.com/ubuntu bionic-updates/universe amd64 xvfb amd64 2:1.19.6-1ubuntu4.4 [784 kB]\n",
            "Fetched 784 kB in 1s (710 kB/s)\n",
            "Selecting previously unselected package xvfb.\n",
            "(Reading database ... 136803 files and directories currently installed.)\n",
            "Preparing to unpack .../xvfb_2%3a1.19.6-1ubuntu4.4_amd64.deb ...\n",
            "Unpacking xvfb (2:1.19.6-1ubuntu4.4) ...\n",
            "Setting up xvfb (2:1.19.6-1ubuntu4.4) ...\n",
            "Processing triggers for man-db (2.8.3-2ubuntu0.1) ...\n",
            "Collecting pyvirtualdisplay\n",
            "  Downloading https://files.pythonhosted.org/packages/69/ec/8221a07850d69fa3c57c02e526edd23d18c7c05d58ed103e3b19172757c1/PyVirtualDisplay-0.2.5-py2.py3-none-any.whl\n",
            "Collecting EasyProcess\n",
            "  Downloading https://files.pythonhosted.org/packages/32/8f/88d636f1da22a3c573259e44cfefb46a117d3f9432e2c98b1ab4a21372ad/EasyProcess-0.2.10-py2.py3-none-any.whl\n",
            "Installing collected packages: EasyProcess, pyvirtualdisplay\n",
            "Successfully installed EasyProcess-0.2.10 pyvirtualdisplay-0.2.5\n",
            "Collecting piglet\n",
            "  Downloading https://files.pythonhosted.org/packages/11/56/6840e5f45626dc7eb7cd5dff57d11880b3113723b3b7b1fb1fa537855b75/piglet-1.0.0-py2.py3-none-any.whl\n",
            "Collecting piglet-templates\n",
            "\u001b[?25l  Downloading https://files.pythonhosted.org/packages/ed/02/8ff42edafaa1bdff3563f2bd5acb0f1cdc400ab0743f8cc71c463ea9bf9a/piglet_templates-0.5.1-py2.py3-none-any.whl (63kB)\n",
            "\u001b[K     |████████████████████████████████| 71kB 3.6MB/s \n",
            "\u001b[?25hRequirement already satisfied: markupsafe in /usr/local/lib/python3.6/dist-packages (from piglet-templates->piglet) (1.1.1)\n",
            "Collecting astunparse\n",
            "  Downloading https://files.pythonhosted.org/packages/2b/03/13dde6512ad7b4557eb792fbcf0c653af6076b81e5941d36ec61f7ce6028/astunparse-1.6.3-py2.py3-none-any.whl\n",
            "Requirement already satisfied: attrs in /usr/local/lib/python3.6/dist-packages (from piglet-templates->piglet) (19.3.0)\n",
            "Collecting Parsley\n",
            "\u001b[?25l  Downloading https://files.pythonhosted.org/packages/2b/d6/4fed8d65e28a970e1c5cb33ce9c7e22e3de745e1b2ae37af051ef16aea3b/Parsley-1.3-py2.py3-none-any.whl (88kB)\n",
            "\u001b[K     |████████████████████████████████| 92kB 7.5MB/s \n",
            "\u001b[?25hRequirement already satisfied: six<2.0,>=1.6.1 in /usr/local/lib/python3.6/dist-packages (from astunparse->piglet-templates->piglet) (1.12.0)\n",
            "Requirement already satisfied: wheel<1.0,>=0.23.0 in /usr/local/lib/python3.6/dist-packages (from astunparse->piglet-templates->piglet) (0.34.2)\n",
            "Installing collected packages: astunparse, Parsley, piglet-templates, piglet\n",
            "Successfully installed Parsley-1.3 astunparse-1.6.3 piglet-1.0.0 piglet-templates-0.5.1\n"
          ],
          "name": "stdout"
        },
        {
          "output_type": "stream",
          "text": [
            "xdpyinfo was not found, X start can not be checked! Please install xdpyinfo!\n"
          ],
          "name": "stderr"
        },
        {
          "output_type": "execute_result",
          "data": {
            "text/plain": [
              "<Display cmd_param=['Xvfb', '-br', '-nolisten', 'tcp', '-screen', '0', '1400x900x24', ':1001'] cmd=['Xvfb', '-br', '-nolisten', 'tcp', '-screen', '0', '1400x900x24', ':1001'] oserror=None return_code=None stdout=\"None\" stderr=\"None\" timeout_happened=False>"
            ]
          },
          "metadata": {
            "tags": []
          },
          "execution_count": 1
        }
      ]
    },
    {
      "cell_type": "code",
      "metadata": {
        "id": "niL4rLWFsMrd",
        "colab_type": "code",
        "outputId": "0095fd71-cee4-4f9b-dcf1-91cfae28615d",
        "colab": {
          "base_uri": "https://localhost:8080/",
          "height": 547
        }
      },
      "source": [
        "!pip install ptan"
      ],
      "execution_count": 0,
      "outputs": [
        {
          "output_type": "stream",
          "text": [
            "Collecting ptan\n",
            "  Downloading https://files.pythonhosted.org/packages/91/cb/57f6d86625f2b24c008b0524ca29559683aa75d00afa38b6b44d7fcad25b/ptan-0.6.tar.gz\n",
            "Collecting torch==1.3.0\n",
            "\u001b[?25l  Downloading https://files.pythonhosted.org/packages/ae/05/50a05de5337f7a924bb8bd70c6936230642233e424d6a9747ef1cfbde353/torch-1.3.0-cp36-cp36m-manylinux1_x86_64.whl (773.1MB)\n",
            "\u001b[K     |████████████████████████████████| 773.1MB 21kB/s \n",
            "\u001b[?25hRequirement already satisfied: gym in /usr/local/lib/python3.6/dist-packages (from ptan) (0.15.6)\n",
            "Requirement already satisfied: atari-py in /usr/local/lib/python3.6/dist-packages (from ptan) (0.2.6)\n",
            "Requirement already satisfied: numpy in /usr/local/lib/python3.6/dist-packages (from ptan) (1.17.5)\n",
            "Requirement already satisfied: opencv-python in /usr/local/lib/python3.6/dist-packages (from ptan) (4.1.2.30)\n",
            "Requirement already satisfied: six in /usr/local/lib/python3.6/dist-packages (from gym->ptan) (1.12.0)\n",
            "Requirement already satisfied: scipy in /usr/local/lib/python3.6/dist-packages (from gym->ptan) (1.4.1)\n",
            "Requirement already satisfied: cloudpickle~=1.2.0 in /usr/local/lib/python3.6/dist-packages (from gym->ptan) (1.2.2)\n",
            "Requirement already satisfied: pyglet<=1.5.0,>=1.4.0 in /usr/local/lib/python3.6/dist-packages (from gym->ptan) (1.4.10)\n",
            "Requirement already satisfied: future in /usr/local/lib/python3.6/dist-packages (from pyglet<=1.5.0,>=1.4.0->gym->ptan) (0.16.0)\n",
            "Building wheels for collected packages: ptan\n",
            "  Building wheel for ptan (setup.py) ... \u001b[?25l\u001b[?25hdone\n",
            "  Created wheel for ptan: filename=ptan-0.6-cp36-none-any.whl size=23502 sha256=b6059c446df6e98f63394e0d40f0a95b8120eb5c6aab2002ccd3679ed2335917\n",
            "  Stored in directory: /root/.cache/pip/wheels/f0/4b/2f/9a45fd39b0a614a2716bc6128a7f1adb4647f323a2d90783f2\n",
            "Successfully built ptan\n",
            "\u001b[31mERROR: torchvision 0.5.0 has requirement torch==1.4.0, but you'll have torch 1.3.0 which is incompatible.\u001b[0m\n",
            "Installing collected packages: torch, ptan\n",
            "  Found existing installation: torch 1.4.0\n",
            "    Uninstalling torch-1.4.0:\n",
            "      Successfully uninstalled torch-1.4.0\n",
            "Successfully installed ptan-0.6 torch-1.3.0\n"
          ],
          "name": "stdout"
        },
        {
          "output_type": "display_data",
          "data": {
            "application/vnd.colab-display-data+json": {
              "pip_warning": {
                "packages": [
                  "torch"
                ]
              }
            }
          },
          "metadata": {
            "tags": []
          }
        }
      ]
    },
    {
      "cell_type": "code",
      "metadata": {
        "id": "ChURJ6U3rvU7",
        "colab_type": "code",
        "colab": {}
      },
      "source": [
        "import numpy as np\n",
        "import matplotlib.pyplot as plt\n",
        "%matplotlib inline\n",
        "\n",
        "# This code creates a virtual display to draw game images on. \n",
        "# If you are running locally, just ignore it\n",
        "import os\n",
        "if type(os.environ.get(\"DISPLAY\")) is not str or len(os.environ.get(\"DISPLAY\"))==0:\n",
        "    !bash ../xvfb start\n",
        "    %env DISPLAY=:1"
      ],
      "execution_count": 0,
      "outputs": []
    },
    {
      "cell_type": "code",
      "metadata": {
        "id": "zqr7CJhGr0he",
        "colab_type": "code",
        "colab": {}
      },
      "source": [
        "import torch\n",
        "import torch.nn as n\n",
        "import torch.nn.functional as f\n",
        "import matplotlib.pyplot as plt\n",
        "import numpy as np\n",
        "import torch.optim as op\n",
        "import gym\n",
        "import ptan"
      ],
      "execution_count": 0,
      "outputs": []
    },
    {
      "cell_type": "code",
      "metadata": {
        "id": "YZgum9KZsDsw",
        "colab_type": "code",
        "outputId": "b32d3b9a-3601-4293-a860-77606105024e",
        "colab": {
          "base_uri": "https://localhost:8080/",
          "height": 51
        }
      },
      "source": [
        "env=gym.make(\"CartPole-v0\")"
      ],
      "execution_count": 0,
      "outputs": [
        {
          "output_type": "stream",
          "text": [
            "/usr/local/lib/python3.6/dist-packages/gym/logger.py:30: UserWarning: \u001b[33mWARN: Box bound precision lowered by casting to float32\u001b[0m\n",
            "  warnings.warn(colorize('%s: %s'%('WARN', msg % args), 'yellow'))\n"
          ],
          "name": "stderr"
        }
      ]
    },
    {
      "cell_type": "code",
      "metadata": {
        "id": "LmkAPAYRsviE",
        "colab_type": "code",
        "colab": {}
      },
      "source": [
        "nactions=env.action_space.n"
      ],
      "execution_count": 0,
      "outputs": []
    },
    {
      "cell_type": "code",
      "metadata": {
        "id": "jKO-z7kQs0op",
        "colab_type": "code",
        "colab": {}
      },
      "source": [
        "obssize=env.observation_space.shape[0]"
      ],
      "execution_count": 0,
      "outputs": []
    },
    {
      "cell_type": "code",
      "metadata": {
        "id": "RD_30IrCs68o",
        "colab_type": "code",
        "colab": {}
      },
      "source": [
        "class net(n.Module):\n",
        "  def __init__(self,indim,middim,nactions):\n",
        "    super().__init__()\n",
        "    self.fc1=n.Linear(indim,middim)\n",
        "    self.fc2=n.Linear(middim,nactions)\n",
        "\n",
        "  def forward(self,x):\n",
        "    out=f.relu(self.fc1(x))\n",
        "    return self.fc2(out)"
      ],
      "execution_count": 0,
      "outputs": []
    },
    {
      "cell_type": "code",
      "metadata": {
        "id": "W0QgjifatyNs",
        "colab_type": "code",
        "colab": {}
      },
      "source": [
        "gamma=0.9"
      ],
      "execution_count": 0,
      "outputs": []
    },
    {
      "cell_type": "code",
      "metadata": {
        "id": "wZzXUlEztfum",
        "colab_type": "code",
        "colab": {}
      },
      "source": [
        "def calc_qvals(rew):\n",
        "  qval=[]\n",
        "  startrew=0\n",
        "  for i in reversed(rew):\n",
        "    startrew*=gamma\n",
        "    startrew+=i\n",
        "    qval.append(startrew)\n",
        "  return list(reversed(qval))"
      ],
      "execution_count": 0,
      "outputs": []
    },
    {
      "cell_type": "code",
      "metadata": {
        "id": "tfyKLCL9uj6X",
        "colab_type": "code",
        "colab": {}
      },
      "source": [
        "net1=net(obssize,128,nactions)"
      ],
      "execution_count": 0,
      "outputs": []
    },
    {
      "cell_type": "code",
      "metadata": {
        "id": "mXUhtvWRuoKJ",
        "colab_type": "code",
        "colab": {}
      },
      "source": [
        "agent1=ptan.agent.PolicyAgent(net1,preprocessor=ptan.agent.float32_preprocessor,apply_softmax=True)"
      ],
      "execution_count": 0,
      "outputs": []
    },
    {
      "cell_type": "code",
      "metadata": {
        "id": "0w52TXxMwBTB",
        "colab_type": "code",
        "colab": {}
      },
      "source": [
        "expsource=ptan.experience.ExperienceSourceFirstLast(env,agent1,gamma=0.0,steps_count=1)"
      ],
      "execution_count": 0,
      "outputs": []
    },
    {
      "cell_type": "code",
      "metadata": {
        "id": "-JVILjeFyB6k",
        "colab_type": "code",
        "colab": {}
      },
      "source": [
        "opt=op.Adam(net1.parameters(),lr=0.0001)"
      ],
      "execution_count": 0,
      "outputs": []
    },
    {
      "cell_type": "code",
      "metadata": {
        "id": "SMf-BZ5ax5nw",
        "colab_type": "code",
        "outputId": "e28e13d2-6f32-4010-851a-3e03a340631e",
        "colab": {
          "base_uri": "https://localhost:8080/",
          "height": 122
        }
      },
      "source": [
        "t=0\n",
        "for i in expsource:\n",
        "  print(i)\n",
        "  t+=1\n",
        "  if t==5:\n",
        "    break"
      ],
      "execution_count": 0,
      "outputs": [
        {
          "output_type": "stream",
          "text": [
            "ExperienceFirstLast(state=array([-0.00492767,  0.0449467 , -0.01098882,  0.04703487]), action=0, reward=1.0, last_state=array([-0.00402874, -0.15001597, -0.01004813,  0.33623056]))\n",
            "ExperienceFirstLast(state=array([-0.00402874, -0.15001597, -0.01004813,  0.33623056]), action=0, reward=1.0, last_state=array([-0.00702906, -0.34499349, -0.00332352,  0.62572799]))\n",
            "ExperienceFirstLast(state=array([-0.00702906, -0.34499349, -0.00332352,  0.62572799]), action=0, reward=1.0, last_state=array([-0.01392893, -0.54006889,  0.00919104,  0.91736236]))\n",
            "ExperienceFirstLast(state=array([-0.01392893, -0.54006889,  0.00919104,  0.91736236]), action=0, reward=1.0, last_state=array([-0.0247303 , -0.7353139 ,  0.02753829,  1.21291962]))\n",
            "ExperienceFirstLast(state=array([-0.0247303 , -0.7353139 ,  0.02753829,  1.21291962]), action=0, reward=1.0, last_state=array([-0.03943658, -0.93078022,  0.05179668,  1.51410318]))\n"
          ],
          "name": "stdout"
        }
      ]
    },
    {
      "cell_type": "code",
      "metadata": {
        "id": "bn9vnsL94kGK",
        "colab_type": "code",
        "colab": {}
      },
      "source": [
        "totalrewards=[]\n",
        "doneepisodes=0\n",
        "batchepisodes=[]\n",
        "batchreward=0\n",
        "batchqval=[]\n",
        "batchactions=[]\n",
        "batchstates=[]\n",
        "currewards=[]"
      ],
      "execution_count": 0,
      "outputs": []
    },
    {
      "cell_type": "code",
      "metadata": {
        "id": "zLx3lZVsVdOd",
        "colab_type": "code",
        "outputId": "afa54280-436e-417b-a23a-d875f2b99978",
        "colab": {
          "base_uri": "https://localhost:8080/",
          "height": 85
        }
      },
      "source": [
        "t=0\n",
        "for step,exp in enumerate(expsource):\n",
        "  batchstates.append(exp.state)\n",
        "  batchactions.append(exp.action)\n",
        "  currewards.append(exp.reward)\n",
        "  if exp.last_state is None:\n",
        "    batchqval.extend(calc_qvals(currewards))\n",
        "    currewards.clear()\n",
        "    batchreward+=1   #one episode done\n",
        "  \n",
        "  new_rewards=expsource.pop_total_rewards()\n",
        "\n",
        "  if new_rewards:\n",
        "    t+=1\n",
        "    if t==5:\n",
        "      break\n",
        "      \n",
        "    doneepisodes+=1\n",
        "    reward=new_rewards[0]\n",
        "    totalrewards.append(reward)\n",
        "    meanrewards=float(np.mean(totalrewards[-100:]))\n",
        "    print(meanrewards,step)\n",
        "    if meanrewards>195:\n",
        "      break"
      ],
      "execution_count": 0,
      "outputs": [
        {
          "output_type": "stream",
          "text": [
            "21.42 10\n",
            "21.44 36\n",
            "21.38 45\n",
            "21.47 63\n"
          ],
          "name": "stdout"
        }
      ]
    },
    {
      "cell_type": "code",
      "metadata": {
        "id": "wcTX2OXTWtGS",
        "colab_type": "code",
        "outputId": "6a0113a5-0645-43c0-b6d8-75967cf16cb5",
        "colab": {
          "base_uri": "https://localhost:8080/",
          "height": 377
        }
      },
      "source": [
        "t=0\n",
        "for i in expsource:\n",
        "  print(i)\n",
        "  t+=1\n",
        "  if t==20:\n",
        "    break"
      ],
      "execution_count": 0,
      "outputs": [
        {
          "output_type": "stream",
          "text": [
            "ExperienceFirstLast(state=array([-0.023885  ,  0.02987247,  0.04482912, -0.03882423]), action=1, reward=1.0, last_state=array([-0.02328755,  0.22432386,  0.04405263, -0.31703293]))\n",
            "ExperienceFirstLast(state=array([-0.02328755,  0.22432386,  0.04405263, -0.31703293]), action=1, reward=1.0, last_state=array([-0.01880108,  0.41879157,  0.03771197, -0.59550422]))\n",
            "ExperienceFirstLast(state=array([-0.01880108,  0.41879157,  0.03771197, -0.59550422]), action=0, reward=1.0, last_state=array([-0.01042525,  0.22316268,  0.02580189, -0.29118483]))\n",
            "ExperienceFirstLast(state=array([-0.01042525,  0.22316268,  0.02580189, -0.29118483]), action=0, reward=1.0, last_state=array([-0.00596199,  0.02768251,  0.01997819,  0.00952274]))\n",
            "ExperienceFirstLast(state=array([-0.00596199,  0.02768251,  0.01997819,  0.00952274]), action=0, reward=1.0, last_state=array([-0.00540834, -0.16772018,  0.02016865,  0.30844148]))\n",
            "ExperienceFirstLast(state=array([-0.00540834, -0.16772018,  0.02016865,  0.30844148]), action=0, reward=1.0, last_state=array([-0.00876275, -0.36312361,  0.02633748,  0.60741619]))\n",
            "ExperienceFirstLast(state=array([-0.00876275, -0.36312361,  0.02633748,  0.60741619]), action=0, reward=1.0, last_state=array([-0.01602522, -0.55860371,  0.0384858 ,  0.90827697]))\n",
            "ExperienceFirstLast(state=array([-0.01602522, -0.55860371,  0.0384858 ,  0.90827697]), action=0, reward=1.0, last_state=array([-0.02719729, -0.7542249 ,  0.05665134,  1.21280351]))\n",
            "ExperienceFirstLast(state=array([-0.02719729, -0.7542249 ,  0.05665134,  1.21280351]), action=1, reward=1.0, last_state=array([-0.04228179, -0.55987801,  0.08090741,  0.93839744]))\n",
            "ExperienceFirstLast(state=array([-0.04228179, -0.55987801,  0.08090741,  0.93839744]), action=1, reward=1.0, last_state=array([-0.05347935, -0.36593459,  0.09967536,  0.67219479]))\n",
            "ExperienceFirstLast(state=array([-0.05347935, -0.36593459,  0.09967536,  0.67219479]), action=1, reward=1.0, last_state=array([-0.06079804, -0.17232909,  0.11311926,  0.41248404]))\n",
            "ExperienceFirstLast(state=array([-0.06079804, -0.17232909,  0.11311926,  0.41248404]), action=1, reward=1.0, last_state=array([-0.06424462,  0.02102284,  0.12136894,  0.15749593]))\n",
            "ExperienceFirstLast(state=array([-0.06424462,  0.02102284,  0.12136894,  0.15749593]), action=1, reward=1.0, last_state=array([-0.06382417,  0.21421694,  0.12451886, -0.09456854]))\n",
            "ExperienceFirstLast(state=array([-0.06382417,  0.21421694,  0.12451886, -0.09456854]), action=1, reward=1.0, last_state=array([-0.05953983,  0.40735461,  0.12262748, -0.34551799]))\n",
            "ExperienceFirstLast(state=array([-0.05953983,  0.40735461,  0.12262748, -0.34551799]), action=1, reward=1.0, last_state=array([-0.05139274,  0.60053823,  0.11571713, -0.59715521]))\n",
            "ExperienceFirstLast(state=array([-0.05139274,  0.60053823,  0.11571713, -0.59715521]), action=1, reward=1.0, last_state=array([-0.03938197,  0.793867  ,  0.10377402, -0.85126399]))\n",
            "ExperienceFirstLast(state=array([-0.03938197,  0.793867  ,  0.10377402, -0.85126399]), action=1, reward=1.0, last_state=array([-0.02350463,  0.98743259,  0.08674874, -1.10959557]))\n",
            "ExperienceFirstLast(state=array([-0.02350463,  0.98743259,  0.08674874, -1.10959557]), action=1, reward=1.0, last_state=array([-0.00375598,  1.18131425,  0.06455683, -1.37385232]))\n",
            "ExperienceFirstLast(state=array([-0.00375598,  1.18131425,  0.06455683, -1.37385232]), action=0, reward=1.0, last_state=array([ 0.01987031,  0.98544747,  0.03707978, -1.06169763]))\n",
            "ExperienceFirstLast(state=array([ 0.01987031,  0.98544747,  0.03707978, -1.06169763]), action=1, reward=1.0, last_state=array([ 0.03957926,  1.18005933,  0.01584583, -1.3425158 ]))\n"
          ],
          "name": "stdout"
        }
      ]
    },
    {
      "cell_type": "code",
      "metadata": {
        "id": "4ZYZHHswWtDl",
        "colab_type": "code",
        "outputId": "1795a55e-5bc0-46a6-e808-54093fb3b48c",
        "colab": {
          "base_uri": "https://localhost:8080/",
          "height": 34
        }
      },
      "source": [
        "expsource.total_rewards"
      ],
      "execution_count": 0,
      "outputs": [
        {
          "output_type": "execute_result",
          "data": {
            "text/plain": [
              "[]"
            ]
          },
          "metadata": {
            "tags": []
          },
          "execution_count": 66
        }
      ]
    },
    {
      "cell_type": "code",
      "metadata": {
        "id": "G_jTXBq6W9j2",
        "colab_type": "code",
        "outputId": "daebb98b-ed06-43b8-b6b6-91c1dc189505",
        "colab": {
          "base_uri": "https://localhost:8080/",
          "height": 34
        }
      },
      "source": [
        "expsource.pop_total_rewards()"
      ],
      "execution_count": 0,
      "outputs": [
        {
          "output_type": "execute_result",
          "data": {
            "text/plain": [
              "[]"
            ]
          },
          "metadata": {
            "tags": []
          },
          "execution_count": 70
        }
      ]
    },
    {
      "cell_type": "code",
      "metadata": {
        "id": "XyFQ8OYYXKBg",
        "colab_type": "code",
        "colab": {}
      },
      "source": [
        ""
      ],
      "execution_count": 0,
      "outputs": []
    }
  ]
}