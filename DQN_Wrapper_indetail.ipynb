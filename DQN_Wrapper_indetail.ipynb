{
  "nbformat": 4,
  "nbformat_minor": 0,
  "metadata": {
    "colab": {
      "name": "DQN-Wrapper-indetail.ipynb",
      "provenance": [],
      "collapsed_sections": []
    },
    "kernelspec": {
      "name": "python3",
      "display_name": "Python 3"
    }
  },
  "cells": [
    {
      "cell_type": "code",
      "metadata": {
        "id": "8OE7k4h-Ngnz",
        "colab_type": "code",
        "outputId": "acea6f76-48af-4850-f5fa-efa160747bb7",
        "colab": {
          "base_uri": "https://localhost:8080/",
          "height": 1000
        }
      },
      "source": [
        "!pip install gym\n",
        "!apt-get install python-opengl -y\n",
        "!apt install xvfb -y\n",
        "!pip install pyvirtualdisplay\n",
        "!pip install piglet\n",
        "from pyvirtualdisplay import Display\n",
        "display = Display(visible=0, size=(1400, 900))\n",
        "display.start()\n"
      ],
      "execution_count": 0,
      "outputs": [
        {
          "output_type": "stream",
          "text": [
            "Requirement already satisfied: gym in /usr/local/lib/python3.6/dist-packages (0.15.6)\n",
            "Requirement already satisfied: cloudpickle~=1.2.0 in /usr/local/lib/python3.6/dist-packages (from gym) (1.2.2)\n",
            "Requirement already satisfied: pyglet<=1.5.0,>=1.4.0 in /usr/local/lib/python3.6/dist-packages (from gym) (1.4.10)\n",
            "Requirement already satisfied: numpy>=1.10.4 in /usr/local/lib/python3.6/dist-packages (from gym) (1.17.5)\n",
            "Requirement already satisfied: scipy in /usr/local/lib/python3.6/dist-packages (from gym) (1.4.1)\n",
            "Requirement already satisfied: six in /usr/local/lib/python3.6/dist-packages (from gym) (1.12.0)\n",
            "Requirement already satisfied: future in /usr/local/lib/python3.6/dist-packages (from pyglet<=1.5.0,>=1.4.0->gym) (0.16.0)\n",
            "Reading package lists... Done\n",
            "Building dependency tree       \n",
            "Reading state information... Done\n",
            "Suggested packages:\n",
            "  libgle3\n",
            "The following NEW packages will be installed:\n",
            "  python-opengl\n",
            "0 upgraded, 1 newly installed, 0 to remove and 25 not upgraded.\n",
            "Need to get 496 kB of archives.\n",
            "After this operation, 5,416 kB of additional disk space will be used.\n",
            "Get:1 http://archive.ubuntu.com/ubuntu bionic/universe amd64 python-opengl all 3.1.0+dfsg-1 [496 kB]\n",
            "Fetched 496 kB in 2s (213 kB/s)\n",
            "Selecting previously unselected package python-opengl.\n",
            "(Reading database ... 134448 files and directories currently installed.)\n",
            "Preparing to unpack .../python-opengl_3.1.0+dfsg-1_all.deb ...\n",
            "Unpacking python-opengl (3.1.0+dfsg-1) ...\n",
            "Setting up python-opengl (3.1.0+dfsg-1) ...\n",
            "Reading package lists... Done\n",
            "Building dependency tree       \n",
            "Reading state information... Done\n",
            "The following NEW packages will be installed:\n",
            "  xvfb\n",
            "0 upgraded, 1 newly installed, 0 to remove and 25 not upgraded.\n",
            "Need to get 784 kB of archives.\n",
            "After this operation, 2,266 kB of additional disk space will be used.\n",
            "Get:1 http://archive.ubuntu.com/ubuntu bionic-updates/universe amd64 xvfb amd64 2:1.19.6-1ubuntu4.4 [784 kB]\n",
            "Fetched 784 kB in 2s (330 kB/s)\n",
            "Selecting previously unselected package xvfb.\n",
            "(Reading database ... 136803 files and directories currently installed.)\n",
            "Preparing to unpack .../xvfb_2%3a1.19.6-1ubuntu4.4_amd64.deb ...\n",
            "Unpacking xvfb (2:1.19.6-1ubuntu4.4) ...\n",
            "Setting up xvfb (2:1.19.6-1ubuntu4.4) ...\n",
            "Processing triggers for man-db (2.8.3-2ubuntu0.1) ...\n",
            "Collecting pyvirtualdisplay\n",
            "  Downloading https://files.pythonhosted.org/packages/69/ec/8221a07850d69fa3c57c02e526edd23d18c7c05d58ed103e3b19172757c1/PyVirtualDisplay-0.2.5-py2.py3-none-any.whl\n",
            "Collecting EasyProcess\n",
            "  Downloading https://files.pythonhosted.org/packages/32/8f/88d636f1da22a3c573259e44cfefb46a117d3f9432e2c98b1ab4a21372ad/EasyProcess-0.2.10-py2.py3-none-any.whl\n",
            "Installing collected packages: EasyProcess, pyvirtualdisplay\n",
            "Successfully installed EasyProcess-0.2.10 pyvirtualdisplay-0.2.5\n",
            "Collecting piglet\n",
            "  Downloading https://files.pythonhosted.org/packages/11/56/6840e5f45626dc7eb7cd5dff57d11880b3113723b3b7b1fb1fa537855b75/piglet-1.0.0-py2.py3-none-any.whl\n",
            "Collecting piglet-templates\n",
            "\u001b[?25l  Downloading https://files.pythonhosted.org/packages/ed/02/8ff42edafaa1bdff3563f2bd5acb0f1cdc400ab0743f8cc71c463ea9bf9a/piglet_templates-0.5.1-py2.py3-none-any.whl (63kB)\n",
            "\u001b[K     |████████████████████████████████| 71kB 2.3MB/s \n",
            "\u001b[?25hRequirement already satisfied: markupsafe in /usr/local/lib/python3.6/dist-packages (from piglet-templates->piglet) (1.1.1)\n",
            "Collecting Parsley\n",
            "\u001b[?25l  Downloading https://files.pythonhosted.org/packages/2b/d6/4fed8d65e28a970e1c5cb33ce9c7e22e3de745e1b2ae37af051ef16aea3b/Parsley-1.3-py2.py3-none-any.whl (88kB)\n",
            "\u001b[K     |████████████████████████████████| 92kB 4.7MB/s \n",
            "\u001b[?25hRequirement already satisfied: attrs in /usr/local/lib/python3.6/dist-packages (from piglet-templates->piglet) (19.3.0)\n",
            "Collecting astunparse\n",
            "  Downloading https://files.pythonhosted.org/packages/2b/03/13dde6512ad7b4557eb792fbcf0c653af6076b81e5941d36ec61f7ce6028/astunparse-1.6.3-py2.py3-none-any.whl\n",
            "Requirement already satisfied: six<2.0,>=1.6.1 in /usr/local/lib/python3.6/dist-packages (from astunparse->piglet-templates->piglet) (1.12.0)\n",
            "Requirement already satisfied: wheel<1.0,>=0.23.0 in /usr/local/lib/python3.6/dist-packages (from astunparse->piglet-templates->piglet) (0.34.2)\n",
            "Installing collected packages: Parsley, astunparse, piglet-templates, piglet\n",
            "Successfully installed Parsley-1.3 astunparse-1.6.3 piglet-1.0.0 piglet-templates-0.5.1\n"
          ],
          "name": "stdout"
        },
        {
          "output_type": "stream",
          "text": [
            "xdpyinfo was not found, X start can not be checked! Please install xdpyinfo!\n"
          ],
          "name": "stderr"
        },
        {
          "output_type": "execute_result",
          "data": {
            "text/plain": [
              "<Display cmd_param=['Xvfb', '-br', '-nolisten', 'tcp', '-screen', '0', '1400x900x24', ':1001'] cmd=['Xvfb', '-br', '-nolisten', 'tcp', '-screen', '0', '1400x900x24', ':1001'] oserror=None return_code=None stdout=\"None\" stderr=\"None\" timeout_happened=False>"
            ]
          },
          "metadata": {
            "tags": []
          },
          "execution_count": 3
        }
      ]
    },
    {
      "cell_type": "code",
      "metadata": {
        "id": "rsnh-6hWUvmw",
        "colab_type": "code",
        "colab": {}
      },
      "source": [
        "import numpy as np\n",
        "import matplotlib.pyplot as plt\n",
        "%matplotlib inline\n",
        "\n",
        "# This code creates a virtual display to draw game images on. \n",
        "# If you are running locally, just ignore it\n",
        "import os\n",
        "if type(os.environ.get(\"DISPLAY\")) is not str or len(os.environ.get(\"DISPLAY\"))==0:\n",
        "    !bash ../xvfb start\n",
        "    %env DISPLAY=:1"
      ],
      "execution_count": 0,
      "outputs": []
    },
    {
      "cell_type": "code",
      "metadata": {
        "id": "3UzI_e-3U15C",
        "colab_type": "code",
        "outputId": "65664688-56be-4b77-a938-b4da5e8191f5",
        "colab": {
          "base_uri": "https://localhost:8080/",
          "height": 51
        }
      },
      "source": [
        "import gym\n",
        "env = gym.make(\"CartPole-v0\")\n",
        "import collections\n",
        "import torch\n",
        "import torch.nn as n\n",
        "import torch.optim as op\n",
        "import torch.nn.functional as f\n",
        "import cv2"
      ],
      "execution_count": 0,
      "outputs": [
        {
          "output_type": "stream",
          "text": [
            "/usr/local/lib/python3.6/dist-packages/gym/logger.py:30: UserWarning: \u001b[33mWARN: Box bound precision lowered by casting to float32\u001b[0m\n",
            "  warnings.warn(colorize('%s: %s'%('WARN', msg % args), 'yellow'))\n"
          ],
          "name": "stderr"
        }
      ]
    },
    {
      "cell_type": "code",
      "metadata": {
        "id": "gsgwjwSDU5vZ",
        "colab_type": "code",
        "colab": {}
      },
      "source": [
        "class fireresetwrapper(gym.Wrapper):\n",
        "  def __init__(self,env):\n",
        "    super().__init__(env)\n",
        "    self.env=env\n",
        "\n",
        "  def step(self,action):\n",
        "    return self.env.step(action)\n",
        "  \n",
        "  def reset(self):\n",
        "    print(\"a\")\n",
        "    self.env.reset()\n",
        "    obs,_,isdone,_=self.env.step(1)\n",
        "\n",
        "    if isdone:\n",
        "      self.env.reset()\n",
        "    \n",
        "    obs,_,isdone,_=self.env.step(2)\n",
        "\n",
        "    if isdone:\n",
        "      self.env.reset()\n",
        "    return obs"
      ],
      "execution_count": 0,
      "outputs": []
    },
    {
      "cell_type": "code",
      "metadata": {
        "id": "E1L6_UKTa_io",
        "colab_type": "code",
        "colab": {}
      },
      "source": [
        "class maxandskipenv(gym.Wrapper):\n",
        "  def __init__(self,env,skip=4):\n",
        "    super().__init__(env)\n",
        "    self.env=env\n",
        "    self.skip=skip\n",
        "    self.buffer=collections.deque(maxlen=2)\n",
        "  \n",
        "\n",
        "  def step(self,action):\n",
        "    totalreward=0\n",
        "    done=None\n",
        "\n",
        "    for _ in range(self.skip):\n",
        "      obs,rew,isdone,info=self.env.step(action)\n",
        "      totalreward+=rew\n",
        "      self.buffer.append(obs)\n",
        "      if isdone:\n",
        "        break\n",
        "\n",
        "    obs=np.max(np.stack(self.buffer),axis=0)\n",
        "    return obs,totalreward,isdone,info\n",
        "    \n",
        "  def reset(self):\n",
        "    print(\"b\")\n",
        "    self.buffer.clear()\n",
        "    obs=self.env.reset()\n",
        "    self.buffer.append(obs)\n",
        "    return obs\n"
      ],
      "execution_count": 0,
      "outputs": []
    },
    {
      "cell_type": "code",
      "metadata": {
        "id": "k9Sd0hoCgh4x",
        "colab_type": "code",
        "colab": {}
      },
      "source": [
        "class processimage84(gym.ObservationWrapper):\n",
        "  def __init__(self,env):\n",
        "    super().__init__(env)\n",
        "    self.env=env\n",
        "    \n",
        "  def observation(self,x):\n",
        "    print(\"1\")\n",
        "    return processimage84.process(x)\n",
        "\n",
        "  @staticmethod\n",
        "  def process(ob):\n",
        "    img=np.reshape(ob,[210,160,3]).astype(np.float32)\n",
        "    img=img[:,:,0]*0.299+img[:,:,1]*0.587+img[:,:,2]*0.114\n",
        "    resizedimg=cv2.resize(img,(84,110),interpolation=cv2.INTER_AREA)\n",
        "    xt=resizedimg[18:102,:]\n",
        "    xt=np.reshape(xt,(84,84,1))\n",
        "    return xt.astype(np.uint8)"
      ],
      "execution_count": 0,
      "outputs": []
    },
    {
      "cell_type": "code",
      "metadata": {
        "id": "wCNvYmHEKg76",
        "colab_type": "code",
        "colab": {}
      },
      "source": [
        "class bufferwrapper(gym.ObservationWrapper):\n",
        "  def __init__(self,env,nstep,dtype=np.float32):\n",
        "    super().__init__(env)\n",
        "    self.dtype=dtype\n",
        "    oldspace=env.observation_space\n",
        "    self.observation_space=gym.spaces.Box(low=0,high=255,shape=[nstep,84,84],dtype=dtype)\n",
        "    self.env=env\n",
        "\n",
        "  def reset(self):\n",
        "    print(\"c\")\n",
        "    #arr1=np.stack(np.array_split(self.observation_space.low,4,axis=0),axis=0)\n",
        "    self.buffer=np.zeros_like(self.observation_space.low,dtype=self.dtype)\n",
        "    return self.observation(self.env.reset())  # within self.env.reset() previous wrapper with reset is called\n",
        "  \n",
        "  def observation(self,obs):\n",
        "    print(\"2\")\n",
        "    print(obs.shape)\n",
        "\n",
        "    self.buffer[:-1]=self.buffer[1:]\n",
        "    self.buffer[:-1]=obs\n",
        "    print(self.buffer.shape)\n",
        "    return self.buffer\n"
      ],
      "execution_count": 0,
      "outputs": []
    },
    {
      "cell_type": "code",
      "metadata": {
        "id": "rqSyWgQOfNdU",
        "colab_type": "code",
        "colab": {}
      },
      "source": [
        "# change HWC to CHW\n",
        "class imagetopytorch(gym.ObservationWrapper):\n",
        "  def __init__(self,env):\n",
        "    super().__init__(env)\n",
        "    self.env=env\n",
        "    oldshape=self.observation_space.shape\n",
        "    self.observation_space=gym.spaces.Box(0,1,shape=(oldshape[-1],oldshape[0],oldshape[1]),dtype=np.float32)\n",
        "\n",
        "  def observation(self,x):\n",
        "    print(\"3\")\n",
        "    return np.moveaxis(x,2,0)"
      ],
      "execution_count": 0,
      "outputs": []
    },
    {
      "cell_type": "code",
      "metadata": {
        "id": "6MuW6SPVhKys",
        "colab_type": "code",
        "colab": {}
      },
      "source": [
        "class scaledfloatframe(gym.ObservationWrapper):\n",
        "  def  __init__(self,env):\n",
        "    super().__init__(env)\n",
        "    self.env=env\n",
        "    \n",
        "  def observation(self,obs):\n",
        "    print(\"4\")\n",
        "    return np.array(obs).astype(np.float32)/255.0"
      ],
      "execution_count": 0,
      "outputs": []
    },
    {
      "cell_type": "code",
      "metadata": {
        "id": "AQbgB1ihijYk",
        "colab_type": "code",
        "colab": {}
      },
      "source": [
        "env1=gym.make(\"PongNoFrameskip-v4\")"
      ],
      "execution_count": 0,
      "outputs": []
    },
    {
      "cell_type": "code",
      "metadata": {
        "id": "hyVxJKNUipZZ",
        "colab_type": "code",
        "outputId": "f9c10f32-bc66-4ff4-819d-ba5cc2df7c5f",
        "colab": {
          "base_uri": "https://localhost:8080/",
          "height": 51
        }
      },
      "source": [
        "env1=maxandskipenv(env1)       # obs    #reset   #  b\n",
        "env1=fireresetwrapper(env1)                      #  a\n",
        "env1=processimage84(env1)      # 1               \n",
        "env1=imagetopytorch(env1)      # 3\n",
        "env1=bufferwrapper(env1,4)     # 2               #  c\n",
        "env1=scaledfloatframe(env1)    # 4"
      ],
      "execution_count": 0,
      "outputs": [
        {
          "output_type": "stream",
          "text": [
            "/usr/local/lib/python3.6/dist-packages/gym/logger.py:30: UserWarning: \u001b[33mWARN: Box bound precision lowered by casting to float32\u001b[0m\n",
            "  warnings.warn(colorize('%s: %s'%('WARN', msg % args), 'yellow'))\n"
          ],
          "name": "stderr"
        }
      ]
    },
    {
      "cell_type": "code",
      "metadata": {
        "id": "IVBj6Mv-rwTi",
        "colab_type": "code",
        "outputId": "05c879da-92ec-49f2-808a-cc4a2f979dca",
        "colab": {
          "base_uri": "https://localhost:8080/",
          "height": 1000
        }
      },
      "source": [
        "env1.reset()"
      ],
      "execution_count": 0,
      "outputs": [
        {
          "output_type": "stream",
          "text": [
            "c\n",
            "a\n",
            "b\n",
            "1\n",
            "3\n",
            "2\n",
            "(1, 84, 84)\n",
            "(4, 84, 84)\n",
            "4\n"
          ],
          "name": "stdout"
        },
        {
          "output_type": "execute_result",
          "data": {
            "text/plain": [
              "array([[[0.34117648, 0.34117648, 0.34117648, ..., 0.34117648,\n",
              "         0.34117648, 0.34117648],\n",
              "        [0.34117648, 0.34117648, 0.34117648, ..., 0.34117648,\n",
              "         0.34117648, 0.34117648],\n",
              "        [0.34117648, 0.34117648, 0.34117648, ..., 0.34117648,\n",
              "         0.34117648, 0.34117648],\n",
              "        ...,\n",
              "        [0.34117648, 0.34117648, 0.34117648, ..., 0.34117648,\n",
              "         0.34117648, 0.34117648],\n",
              "        [0.34117648, 0.34117648, 0.34117648, ..., 0.34117648,\n",
              "         0.34117648, 0.34117648],\n",
              "        [0.56078434, 0.56078434, 0.56078434, ..., 0.56078434,\n",
              "         0.56078434, 0.56078434]],\n",
              "\n",
              "       [[0.34117648, 0.34117648, 0.34117648, ..., 0.34117648,\n",
              "         0.34117648, 0.34117648],\n",
              "        [0.34117648, 0.34117648, 0.34117648, ..., 0.34117648,\n",
              "         0.34117648, 0.34117648],\n",
              "        [0.34117648, 0.34117648, 0.34117648, ..., 0.34117648,\n",
              "         0.34117648, 0.34117648],\n",
              "        ...,\n",
              "        [0.34117648, 0.34117648, 0.34117648, ..., 0.34117648,\n",
              "         0.34117648, 0.34117648],\n",
              "        [0.34117648, 0.34117648, 0.34117648, ..., 0.34117648,\n",
              "         0.34117648, 0.34117648],\n",
              "        [0.56078434, 0.56078434, 0.56078434, ..., 0.56078434,\n",
              "         0.56078434, 0.56078434]],\n",
              "\n",
              "       [[0.34117648, 0.34117648, 0.34117648, ..., 0.34117648,\n",
              "         0.34117648, 0.34117648],\n",
              "        [0.34117648, 0.34117648, 0.34117648, ..., 0.34117648,\n",
              "         0.34117648, 0.34117648],\n",
              "        [0.34117648, 0.34117648, 0.34117648, ..., 0.34117648,\n",
              "         0.34117648, 0.34117648],\n",
              "        ...,\n",
              "        [0.34117648, 0.34117648, 0.34117648, ..., 0.34117648,\n",
              "         0.34117648, 0.34117648],\n",
              "        [0.34117648, 0.34117648, 0.34117648, ..., 0.34117648,\n",
              "         0.34117648, 0.34117648],\n",
              "        [0.56078434, 0.56078434, 0.56078434, ..., 0.56078434,\n",
              "         0.56078434, 0.56078434]],\n",
              "\n",
              "       [[0.        , 0.        , 0.        , ..., 0.        ,\n",
              "         0.        , 0.        ],\n",
              "        [0.        , 0.        , 0.        , ..., 0.        ,\n",
              "         0.        , 0.        ],\n",
              "        [0.        , 0.        , 0.        , ..., 0.        ,\n",
              "         0.        , 0.        ],\n",
              "        ...,\n",
              "        [0.        , 0.        , 0.        , ..., 0.        ,\n",
              "         0.        , 0.        ],\n",
              "        [0.        , 0.        , 0.        , ..., 0.        ,\n",
              "         0.        , 0.        ],\n",
              "        [0.        , 0.        , 0.        , ..., 0.        ,\n",
              "         0.        , 0.        ]]], dtype=float32)"
            ]
          },
          "metadata": {
            "tags": []
          },
          "execution_count": 250
        }
      ]
    },
    {
      "cell_type": "code",
      "metadata": {
        "id": "K-DileJTf-SS",
        "colab_type": "code",
        "outputId": "15093dab-3a7e-48f0-9a3e-1125431566e6",
        "colab": {
          "base_uri": "https://localhost:8080/",
          "height": 119
        }
      },
      "source": [
        "a=env1.step(3)"
      ],
      "execution_count": 0,
      "outputs": [
        {
          "output_type": "stream",
          "text": [
            "1\n",
            "3\n",
            "2\n",
            "(1, 84, 84)\n",
            "(4, 84, 84)\n",
            "4\n"
          ],
          "name": "stdout"
        }
      ]
    },
    {
      "cell_type": "code",
      "metadata": {
        "id": "r6pXx5I8f-PL",
        "colab_type": "code",
        "outputId": "26dfb1b0-2191-4990-e082-1568fea7709f",
        "colab": {
          "base_uri": "https://localhost:8080/",
          "height": 285
        }
      },
      "source": [
        "plt.imshow(a[0][0].squeeze())"
      ],
      "execution_count": 0,
      "outputs": [
        {
          "output_type": "execute_result",
          "data": {
            "text/plain": [
              "<matplotlib.image.AxesImage at 0x7f3ff841d320>"
            ]
          },
          "metadata": {
            "tags": []
          },
          "execution_count": 206
        },
        {
          "output_type": "display_data",
          "data": {
            "image/png": "[encoded data removed]",
            "text/plain": [
              "<Figure size 432x288 with 1 Axes>"
            ]
          },
          "metadata": {
            "tags": []
          }
        }
      ]
    },
    {
      "cell_type": "code",
      "metadata": {
        "id": "rmKk49HCd7C7",
        "colab_type": "code",
        "outputId": "07b4b5ec-d218-4b1b-8926-0fb9cc77f74e",
        "colab": {
          "base_uri": "https://localhost:8080/",
          "height": 374
        }
      },
      "source": [
        "# from self.env.reset() in last wrapper with reset in it . previous wrapper is called with reset() function inside it and so on\n",
        "# for observation when last wrapper is called then observation is called from the first wrapper in order"
      ],
      "execution_count": 0,
      "outputs": [
        {
          "output_type": "stream",
          "text": [
            "3\n",
            "t\n",
            "i\n",
            "(1, 84, 84)\n"
          ],
          "name": "stdout"
        },
        {
          "output_type": "error",
          "ename": "ValueError",
          "evalue": "ignored",
          "traceback": [
            "\u001b[0;31m---------------------------------------------------------------------------\u001b[0m",
            "\u001b[0;31mValueError\u001b[0m                                Traceback (most recent call last)",
            "\u001b[0;32m<ipython-input-163-fa11083838d3>\u001b[0m in \u001b[0;36m<module>\u001b[0;34m()\u001b[0m\n\u001b[0;32m----> 1\u001b[0;31m \u001b[0ma\u001b[0m\u001b[0;34m=\u001b[0m\u001b[0menv1\u001b[0m\u001b[0;34m.\u001b[0m\u001b[0mstep\u001b[0m\u001b[0;34m(\u001b[0m\u001b[0;36m2\u001b[0m\u001b[0;34m)\u001b[0m\u001b[0;34m\u001b[0m\u001b[0;34m\u001b[0m\u001b[0m\n\u001b[0m",
            "\u001b[0;32m/usr/local/lib/python3.6/dist-packages/gym/core.py\u001b[0m in \u001b[0;36mstep\u001b[0;34m(self, action)\u001b[0m\n\u001b[1;32m    261\u001b[0m \u001b[0;34m\u001b[0m\u001b[0m\n\u001b[1;32m    262\u001b[0m     \u001b[0;32mdef\u001b[0m \u001b[0mstep\u001b[0m\u001b[0;34m(\u001b[0m\u001b[0mself\u001b[0m\u001b[0;34m,\u001b[0m \u001b[0maction\u001b[0m\u001b[0;34m)\u001b[0m\u001b[0;34m:\u001b[0m\u001b[0;34m\u001b[0m\u001b[0;34m\u001b[0m\u001b[0m\n\u001b[0;32m--> 263\u001b[0;31m         \u001b[0mobservation\u001b[0m\u001b[0;34m,\u001b[0m \u001b[0mreward\u001b[0m\u001b[0;34m,\u001b[0m \u001b[0mdone\u001b[0m\u001b[0;34m,\u001b[0m \u001b[0minfo\u001b[0m \u001b[0;34m=\u001b[0m \u001b[0mself\u001b[0m\u001b[0;34m.\u001b[0m\u001b[0menv\u001b[0m\u001b[0;34m.\u001b[0m\u001b[0mstep\u001b[0m\u001b[0;34m(\u001b[0m\u001b[0maction\u001b[0m\u001b[0;34m)\u001b[0m\u001b[0;34m\u001b[0m\u001b[0;34m\u001b[0m\u001b[0m\n\u001b[0m\u001b[1;32m    264\u001b[0m         \u001b[0;32mreturn\u001b[0m \u001b[0mself\u001b[0m\u001b[0;34m.\u001b[0m\u001b[0mobservation\u001b[0m\u001b[0;34m(\u001b[0m\u001b[0mobservation\u001b[0m\u001b[0;34m)\u001b[0m\u001b[0;34m,\u001b[0m \u001b[0mreward\u001b[0m\u001b[0;34m,\u001b[0m \u001b[0mdone\u001b[0m\u001b[0;34m,\u001b[0m \u001b[0minfo\u001b[0m\u001b[0;34m\u001b[0m\u001b[0;34m\u001b[0m\u001b[0m\n\u001b[1;32m    265\u001b[0m \u001b[0;34m\u001b[0m\u001b[0m\n",
            "\u001b[0;32m/usr/local/lib/python3.6/dist-packages/gym/core.py\u001b[0m in \u001b[0;36mstep\u001b[0;34m(self, action)\u001b[0m\n\u001b[1;32m    262\u001b[0m     \u001b[0;32mdef\u001b[0m \u001b[0mstep\u001b[0m\u001b[0;34m(\u001b[0m\u001b[0mself\u001b[0m\u001b[0;34m,\u001b[0m \u001b[0maction\u001b[0m\u001b[0;34m)\u001b[0m\u001b[0;34m:\u001b[0m\u001b[0;34m\u001b[0m\u001b[0;34m\u001b[0m\u001b[0m\n\u001b[1;32m    263\u001b[0m         \u001b[0mobservation\u001b[0m\u001b[0;34m,\u001b[0m \u001b[0mreward\u001b[0m\u001b[0;34m,\u001b[0m \u001b[0mdone\u001b[0m\u001b[0;34m,\u001b[0m \u001b[0minfo\u001b[0m \u001b[0;34m=\u001b[0m \u001b[0mself\u001b[0m\u001b[0;34m.\u001b[0m\u001b[0menv\u001b[0m\u001b[0;34m.\u001b[0m\u001b[0mstep\u001b[0m\u001b[0;34m(\u001b[0m\u001b[0maction\u001b[0m\u001b[0;34m)\u001b[0m\u001b[0;34m\u001b[0m\u001b[0;34m\u001b[0m\u001b[0m\n\u001b[0;32m--> 264\u001b[0;31m         \u001b[0;32mreturn\u001b[0m \u001b[0mself\u001b[0m\u001b[0;34m.\u001b[0m\u001b[0mobservation\u001b[0m\u001b[0;34m(\u001b[0m\u001b[0mobservation\u001b[0m\u001b[0;34m)\u001b[0m\u001b[0;34m,\u001b[0m \u001b[0mreward\u001b[0m\u001b[0;34m,\u001b[0m \u001b[0mdone\u001b[0m\u001b[0;34m,\u001b[0m \u001b[0minfo\u001b[0m\u001b[0;34m\u001b[0m\u001b[0;34m\u001b[0m\u001b[0m\n\u001b[0m\u001b[1;32m    265\u001b[0m \u001b[0;34m\u001b[0m\u001b[0m\n\u001b[1;32m    266\u001b[0m     \u001b[0;32mdef\u001b[0m \u001b[0mobservation\u001b[0m\u001b[0;34m(\u001b[0m\u001b[0mself\u001b[0m\u001b[0;34m,\u001b[0m \u001b[0mobservation\u001b[0m\u001b[0;34m)\u001b[0m\u001b[0;34m:\u001b[0m\u001b[0;34m\u001b[0m\u001b[0;34m\u001b[0m\u001b[0m\n",
            "\u001b[0;32m<ipython-input-156-d1c6effa2bd7>\u001b[0m in \u001b[0;36mobservation\u001b[0;34m(self, obs)\u001b[0m\n\u001b[1;32m     18\u001b[0m     \u001b[0mprint\u001b[0m\u001b[0;34m(\u001b[0m\u001b[0mobs\u001b[0m\u001b[0;34m.\u001b[0m\u001b[0mshape\u001b[0m\u001b[0;34m)\u001b[0m\u001b[0;34m\u001b[0m\u001b[0;34m\u001b[0m\u001b[0m\n\u001b[1;32m     19\u001b[0m     \u001b[0mself\u001b[0m\u001b[0;34m.\u001b[0m\u001b[0mbuffer\u001b[0m\u001b[0;34m[\u001b[0m\u001b[0;34m:\u001b[0m\u001b[0;34m-\u001b[0m\u001b[0;36m3\u001b[0m\u001b[0;34m]\u001b[0m\u001b[0;34m=\u001b[0m\u001b[0mself\u001b[0m\u001b[0;34m.\u001b[0m\u001b[0mbuffer\u001b[0m\u001b[0;34m[\u001b[0m\u001b[0;36m3\u001b[0m\u001b[0;34m:\u001b[0m\u001b[0;34m]\u001b[0m\u001b[0;34m\u001b[0m\u001b[0;34m\u001b[0m\u001b[0m\n\u001b[0;32m---> 20\u001b[0;31m     \u001b[0mself\u001b[0m\u001b[0;34m.\u001b[0m\u001b[0mbuffer\u001b[0m\u001b[0;34m[\u001b[0m\u001b[0;34m:\u001b[0m\u001b[0;34m-\u001b[0m\u001b[0;36m3\u001b[0m\u001b[0;34m]\u001b[0m\u001b[0;34m=\u001b[0m\u001b[0mobs\u001b[0m\u001b[0;34m\u001b[0m\u001b[0;34m\u001b[0m\u001b[0m\n\u001b[0m\u001b[1;32m     21\u001b[0m     \u001b[0mprint\u001b[0m\u001b[0;34m(\u001b[0m\u001b[0mself\u001b[0m\u001b[0;34m.\u001b[0m\u001b[0mbuffer\u001b[0m\u001b[0;34m.\u001b[0m\u001b[0mshape\u001b[0m\u001b[0;34m)\u001b[0m\u001b[0;34m\u001b[0m\u001b[0;34m\u001b[0m\u001b[0m\n\u001b[1;32m     22\u001b[0m     \u001b[0;32mreturn\u001b[0m \u001b[0mself\u001b[0m\u001b[0;34m.\u001b[0m\u001b[0mbuffer\u001b[0m\u001b[0;34m\u001b[0m\u001b[0;34m\u001b[0m\u001b[0m\n",
            "\u001b[0;31mValueError\u001b[0m: could not broadcast input array from shape (1,84,84) into shape (9,210,160)"
          ]
        }
      ]
    },
    {
      "cell_type": "code",
      "metadata": {
        "id": "B0ReL7Q1fZjC",
        "colab_type": "code",
        "outputId": "17886cd2-b53e-41e3-fc4a-e8f4adcdbe56",
        "colab": {
          "base_uri": "https://localhost:8080/",
          "height": 34
        }
      },
      "source": [
        "a[0].shape"
      ],
      "execution_count": 0,
      "outputs": [
        {
          "output_type": "execute_result",
          "data": {
            "text/plain": [
              "(210, 160, 3)"
            ]
          },
          "metadata": {
            "tags": []
          },
          "execution_count": 91
        }
      ]
    },
    {
      "cell_type": "code",
      "metadata": {
        "id": "d8p1aFEDr_nq",
        "colab_type": "code",
        "colab": {}
      },
      "source": [
        "# fire >max skip > observation >"
      ],
      "execution_count": 0,
      "outputs": []
    },
    {
      "cell_type": "code",
      "metadata": {
        "id": "bPlrTittWsJT",
        "colab_type": "code",
        "colab": {}
      },
      "source": [
        "# within the wrapper reset act first then observation function"
      ],
      "execution_count": 0,
      "outputs": []
    },
    {
      "cell_type": "code",
      "metadata": {
        "id": "Wi7Pa_WuZp1s",
        "colab_type": "code",
        "colab": {}
      },
      "source": [
        "arr1=np.random.randint(0,16,(6,3,3))"
      ],
      "execution_count": 0,
      "outputs": []
    },
    {
      "cell_type": "code",
      "metadata": {
        "id": "ZlsOnd9SZp4V",
        "colab_type": "code",
        "colab": {}
      },
      "source": [
        "l=np.array_split(arr1,3,axis=0)"
      ],
      "execution_count": 0,
      "outputs": []
    },
    {
      "cell_type": "code",
      "metadata": {
        "id": "3Vq5EH5hZp60",
        "colab_type": "code",
        "outputId": "da0f9bdc-5b89-4b90-8132-8f87dc94c714",
        "colab": {
          "base_uri": "https://localhost:8080/",
          "height": 34
        }
      },
      "source": [
        "np.stack(l,axis=0).shape"
      ],
      "execution_count": 0,
      "outputs": [
        {
          "output_type": "execute_result",
          "data": {
            "text/plain": [
              "(3, 2, 3, 3)"
            ]
          },
          "metadata": {
            "tags": []
          },
          "execution_count": 39
        }
      ]
    },
    {
      "cell_type": "code",
      "metadata": {
        "id": "-U6jahj5Zp8w",
        "colab_type": "code",
        "outputId": "822b4619-3e64-4230-b0ff-b678213861dc",
        "colab": {
          "base_uri": "https://localhost:8080/",
          "height": 136
        }
      },
      "source": [
        "arr1[:2]"
      ],
      "execution_count": 0,
      "outputs": [
        {
          "output_type": "execute_result",
          "data": {
            "text/plain": [
              "array([[[10,  5,  8],\n",
              "        [14,  2, 11],\n",
              "        [ 5, 10, 14]],\n",
              "\n",
              "       [[11, 12, 15],\n",
              "        [ 6, 10,  9],\n",
              "        [12,  9,  9]]])"
            ]
          },
          "metadata": {
            "tags": []
          },
          "execution_count": 37
        }
      ]
    },
    {
      "cell_type": "code",
      "metadata": {
        "id": "Js3NRRsZaGfo",
        "colab_type": "code",
        "colab": {}
      },
      "source": [
        ""
      ],
      "execution_count": 0,
      "outputs": []
    }
  ]
}