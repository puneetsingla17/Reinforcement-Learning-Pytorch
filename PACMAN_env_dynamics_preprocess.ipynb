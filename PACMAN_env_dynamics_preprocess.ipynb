{
  "nbformat": 4,
  "nbformat_minor": 0,
  "metadata": {
    "colab": {
      "name": "PACMAN_env_dynamics_preprocess.ipynb",
      "provenance": [],
      "collapsed_sections": [],
      "authorship_tag": "ABX9TyPLa8/363wLQHtyYMqobIJr",
      "include_colab_link": true
    },
    "kernelspec": {
      "name": "python3",
      "display_name": "Python 3"
    }
  },
  "cells": [
    {
      "cell_type": "markdown",
      "metadata": {
        "id": "view-in-github",
        "colab_type": "text"
      },
      "source": [
        "<a href=\"https://colab.research.google.com/github/puneetsingla17/Reinforcement-Learning-Pytorch/blob/master/PACMAN_env_dynamics_preprocess.ipynb\" target=\"_parent\"><img src=\"https://colab.research.google.com/assets/colab-badge.svg\" alt=\"Open In Colab\"/></a>"
      ]
    },
    {
      "cell_type": "code",
      "metadata": {
        "id": "YLCmJjbAkcB6",
        "colab_type": "code",
        "colab": {
          "base_uri": "https://localhost:8080/",
          "height": 221
        },
        "outputId": "3d3c1a04-424d-479d-db2b-9e3dc130b2b1"
      },
      "source": [
        "!pip3 install pybullet --upgrade\n",
        "!pip install ptan\n",
        "import pybullet_envs\n",
        "import ptan\n",
        "import math\n",
        "import gym\n",
        "import numpy as np\n",
        "import matplotlib.pyplot as plt\n",
        "import torch\n",
        "import torch.nn as nn\n",
        "import torch.nn.functional as f\n",
        "import torch.optim as op"
      ],
      "execution_count": 1,
      "outputs": [
        {
          "output_type": "stream",
          "text": [
            "Requirement already up-to-date: pybullet in /usr/local/lib/python3.6/dist-packages (2.8.4)\n",
            "Requirement already satisfied: ptan in /usr/local/lib/python3.6/dist-packages (0.6)\n",
            "Requirement already satisfied: atari-py in /usr/local/lib/python3.6/dist-packages (from ptan) (0.2.6)\n",
            "Requirement already satisfied: torch==1.3.0 in /usr/local/lib/python3.6/dist-packages (from ptan) (1.3.0)\n",
            "Requirement already satisfied: opencv-python in /usr/local/lib/python3.6/dist-packages (from ptan) (4.1.2.30)\n",
            "Requirement already satisfied: gym in /usr/local/lib/python3.6/dist-packages (from ptan) (0.17.2)\n",
            "Requirement already satisfied: numpy in /usr/local/lib/python3.6/dist-packages (from ptan) (1.18.5)\n",
            "Requirement already satisfied: six in /usr/local/lib/python3.6/dist-packages (from atari-py->ptan) (1.12.0)\n",
            "Requirement already satisfied: pyglet<=1.5.0,>=1.4.0 in /usr/local/lib/python3.6/dist-packages (from gym->ptan) (1.5.0)\n",
            "Requirement already satisfied: scipy in /usr/local/lib/python3.6/dist-packages (from gym->ptan) (1.4.1)\n",
            "Requirement already satisfied: cloudpickle<1.4.0,>=1.2.0 in /usr/local/lib/python3.6/dist-packages (from gym->ptan) (1.3.0)\n",
            "Requirement already satisfied: future in /usr/local/lib/python3.6/dist-packages (from pyglet<=1.5.0,>=1.4.0->gym->ptan) (0.16.0)\n"
          ],
          "name": "stdout"
        }
      ]
    },
    {
      "cell_type": "code",
      "metadata": {
        "id": "ZCifzOrskiZx",
        "colab_type": "code",
        "colab": {}
      },
      "source": [
        "import cv2\n",
        "from collections import deque,namedtuple\n",
        "import random\n",
        "from ptan.common.wrappers import ImageToPyTorch,ScaledFloatFrame,MaxAndSkipEnv,FrameStack,LazyFrames\n",
        "from gym import spaces\n",
        "import numpy as np"
      ],
      "execution_count": 70,
      "outputs": []
    },
    {
      "cell_type": "code",
      "metadata": {
        "id": "j-SgCuRKqrdO",
        "colab_type": "code",
        "colab": {}
      },
      "source": [
        "env=gym.make(\"MsPacmanNoFrameskip-v0\")"
      ],
      "execution_count": 38,
      "outputs": []
    },
    {
      "cell_type": "code",
      "metadata": {
        "id": "S6O4b0RmRXDA",
        "colab_type": "code",
        "colab": {
          "base_uri": "https://localhost:8080/",
          "height": 51
        },
        "outputId": "7ab8cec6-d3ec-402d-8373-681bc3d6b330"
      },
      "source": [
        "#Description regarding environment space and action space\n",
        "print(env.action_space)\n",
        "print(env.observation_space)"
      ],
      "execution_count": 4,
      "outputs": [
        {
          "output_type": "stream",
          "text": [
            "Discrete(9)\n",
            "Box(210, 160, 3)\n"
          ],
          "name": "stdout"
        }
      ]
    },
    {
      "cell_type": "code",
      "metadata": {
        "id": "F28cDbLVa9xq",
        "colab_type": "code",
        "colab": {
          "base_uri": "https://localhost:8080/",
          "height": 170
        },
        "outputId": "f5da5847-a734-4228-c26c-46aca99bbb70"
      },
      "source": [
        "#action means\n",
        "env.unwrapped.get_action_meanings()"
      ],
      "execution_count": 5,
      "outputs": [
        {
          "output_type": "execute_result",
          "data": {
            "text/plain": [
              "['NOOP',\n",
              " 'UP',\n",
              " 'RIGHT',\n",
              " 'LEFT',\n",
              " 'DOWN',\n",
              " 'UPRIGHT',\n",
              " 'UPLEFT',\n",
              " 'DOWNRIGHT',\n",
              " 'DOWNLEFT']"
            ]
          },
          "metadata": {
            "tags": []
          },
          "execution_count": 5
        }
      ]
    },
    {
      "cell_type": "code",
      "metadata": {
        "id": "HvhLoFQBZZLP",
        "colab_type": "code",
        "colab": {}
      },
      "source": [
        "#Hyperparameters Dictionary\n",
        "hyper={\"maxskip\":3,\n",
        "       \"nstack\":4,\n",
        "       }"
      ],
      "execution_count": 6,
      "outputs": []
    },
    {
      "cell_type": "code",
      "metadata": {
        "id": "RaM0TGZub3xL",
        "colab_type": "code",
        "colab": {}
      },
      "source": [
        "class scaleframe(gym.ObservationWrapper):\n",
        "  def __init__(self,env):\n",
        "    super().__init__(env)\n",
        "    self.env=env\n",
        "    \n",
        "  def observation(self,obs):\n",
        "    return np.array(obs).astype(np.float32)/255.0"
      ],
      "execution_count": 7,
      "outputs": []
    },
    {
      "cell_type": "code",
      "metadata": {
        "id": "gfYigRVxdAUN",
        "colab_type": "code",
        "colab": {}
      },
      "source": [
        "class ProcessFrame84(gym.ObservationWrapper):\n",
        "  def __init__(self,env):\n",
        "    super().__init__(env)\n",
        "    self.env=env\n",
        "    \n",
        "  def observation(self,x):\n",
        "    return ProcessFrame84.process(x)\n",
        "\n",
        "  @staticmethod\n",
        "  def process(ob):\n",
        "    img=np.reshape(ob,[210,160,3]).astype(np.float32)\n",
        "    img=img[:,:,0]*0.299+img[:,:,1]*0.587+img[:,:,2]*0.114\n",
        "    resizedimg=cv2.resize(img,(84,110),interpolation=cv2.INTER_AREA)\n",
        "    xt=resizedimg[18:102,:]\n",
        "    xt=np.reshape(xt,(84,84,1))\n",
        "    return xt.astype(np.uint8)"
      ],
      "execution_count": 8,
      "outputs": []
    },
    {
      "cell_type": "code",
      "metadata": {
        "id": "lf-J6RWXiWyh",
        "colab_type": "code",
        "colab": {}
      },
      "source": [
        "class FrameStack(gym.Wrapper):\n",
        "    def __init__(self, env, k):\n",
        "        \"\"\"Stack k last frames.\n",
        "        Returns lazy array, which is much more memory efficient.\n",
        "        See Also\n",
        "        --------\n",
        "        baselines.common.atari_wrappers.LazyFrames\n",
        "        \"\"\"\n",
        "        gym.Wrapper.__init__(self, env)\n",
        "        self.k = k\n",
        "        self.frames = deque([], maxlen=k)\n",
        "        shp = (1,84,84)\n",
        "        self.observation_space = spaces.Box(low=0, high=255, shape=(shp[0]*k, shp[1], shp[2]), dtype=np.float32)\n",
        "        print(self.observation_space)\n",
        "\n",
        "    def reset(self):\n",
        "        ob = self.env.reset()\n",
        "        for _ in range(self.k):\n",
        "            self.frames.append(ob.reshape(1,84,84))\n",
        "        return np.concatenate(self.frames,axis=0)\n",
        "\n",
        "    def step(self, action):\n",
        "        ob, reward, done, info = self.env.step(action)\n",
        "        self.frames.append(ob.reshape(1,84,84))\n",
        "        return np.concatenate(self.frames,axis=0), reward, done, info\n"
      ],
      "execution_count": 86,
      "outputs": []
    },
    {
      "cell_type": "code",
      "metadata": {
        "id": "A7PBSEjnSHhk",
        "colab_type": "code",
        "colab": {
          "base_uri": "https://localhost:8080/",
          "height": 34
        },
        "outputId": "cd682e7f-1182-4912-db19-b82cab1f65a2"
      },
      "source": [
        "# Preprocessing the environment \n",
        "# Normalizing scale of env values\n",
        "# Concatenate multiple frames together to get environment dynamics\n",
        "# Applying action for k consecutive frames and getting total reward out with obs as max of last two frames > maxandskipenv\n",
        "# resizing to 84 84 1\n",
        "env=gym.make(\"MsPacmanNoFrameskip-v0\")\n",
        "env=MaxAndSkipEnv(env,skip=hyper['maxskip'])\n",
        "env=ProcessFrame84(env)\n",
        "env=FrameStack(env,hyper['nstack'])\n",
        "env=scaleframe(env)\n",
        "env=ImageToPyTorch(env)"
      ],
      "execution_count": 87,
      "outputs": [
        {
          "output_type": "stream",
          "text": [
            "Box(4, 84, 84)\n"
          ],
          "name": "stdout"
        }
      ]
    },
    {
      "cell_type": "code",
      "metadata": {
        "id": "N6AdBIqLqFdz",
        "colab_type": "code",
        "colab": {
          "base_uri": "https://localhost:8080/",
          "height": 34
        },
        "outputId": "d51a95bf-444c-49f3-b436-a582d6700d45"
      },
      "source": [
        "env.reset().shape"
      ],
      "execution_count": 88,
      "outputs": [
        {
          "output_type": "execute_result",
          "data": {
            "text/plain": [
              "(84, 84, 4)"
            ]
          },
          "metadata": {
            "tags": []
          },
          "execution_count": 88
        }
      ]
    },
    {
      "cell_type": "code",
      "metadata": {
        "id": "YzY3i88VTCW4",
        "colab_type": "code",
        "colab": {
          "base_uri": "https://localhost:8080/",
          "height": 34
        },
        "outputId": "e0b1d1dd-a81b-4575-aef1-416c4b40acb3"
      },
      "source": [
        "env.step(1)[0].shape"
      ],
      "execution_count": 90,
      "outputs": [
        {
          "output_type": "execute_result",
          "data": {
            "text/plain": [
              "(84, 84, 4)"
            ]
          },
          "metadata": {
            "tags": []
          },
          "execution_count": 90
        }
      ]
    },
    {
      "cell_type": "code",
      "metadata": {
        "id": "mkiKhE_qciFQ",
        "colab_type": "code",
        "colab": {}
      },
      "source": [
        ""
      ],
      "execution_count": 90,
      "outputs": []
    },
    {
      "cell_type": "code",
      "metadata": {
        "id": "OfKkE6yIcp8-",
        "colab_type": "code",
        "colab": {}
      },
      "source": [
        ""
      ],
      "execution_count": null,
      "outputs": []
    }
  ]
}