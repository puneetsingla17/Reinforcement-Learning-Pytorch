{
  "nbformat": 4,
  "nbformat_minor": 0,
  "metadata": {
    "colab": {
      "name": "DQN-ptan.ipynb",
      "provenance": [],
      "collapsed_sections": []
    },
    "kernelspec": {
      "name": "python3",
      "display_name": "Python 3"
    }
  },
  "cells": [
    {
      "cell_type": "code",
      "metadata": {
        "id": "B1yZ-VIl6Ech",
        "colab_type": "code",
        "colab": {}
      },
      "source": [
        "import gym\n",
        "import numpy as np\n",
        "import matplotlib.pyplot as plt\n",
        "import torch\n",
        "import torch.nn as n\n",
        "import torch.nn.functional as f"
      ],
      "execution_count": 0,
      "outputs": []
    },
    {
      "cell_type": "code",
      "metadata": {
        "id": "euzpjysj6MUO",
        "colab_type": "code",
        "outputId": "e2ed552e-b740-4017-e765-41cef17cf81f",
        "colab": {
          "base_uri": "https://localhost:8080/",
          "height": 204
        }
      },
      "source": [
        "!pip install ptan"
      ],
      "execution_count": 0,
      "outputs": [
        {
          "output_type": "stream",
          "text": [
            "Requirement already satisfied: ptan in /usr/local/lib/python3.6/dist-packages (0.6)\n",
            "Requirement already satisfied: gym in /usr/local/lib/python3.6/dist-packages (from ptan) (0.17.1)\n",
            "Requirement already satisfied: torch==1.3.0 in /usr/local/lib/python3.6/dist-packages (from ptan) (1.3.0)\n",
            "Requirement already satisfied: atari-py in /usr/local/lib/python3.6/dist-packages (from ptan) (0.2.6)\n",
            "Requirement already satisfied: opencv-python in /usr/local/lib/python3.6/dist-packages (from ptan) (4.1.2.30)\n",
            "Requirement already satisfied: numpy in /usr/local/lib/python3.6/dist-packages (from ptan) (1.18.2)\n",
            "Requirement already satisfied: six in /usr/local/lib/python3.6/dist-packages (from gym->ptan) (1.12.0)\n",
            "Requirement already satisfied: cloudpickle<1.4.0,>=1.2.0 in /usr/local/lib/python3.6/dist-packages (from gym->ptan) (1.3.0)\n",
            "Requirement already satisfied: scipy in /usr/local/lib/python3.6/dist-packages (from gym->ptan) (1.4.1)\n",
            "Requirement already satisfied: pyglet<=1.5.0,>=1.4.0 in /usr/local/lib/python3.6/dist-packages (from gym->ptan) (1.5.0)\n",
            "Requirement already satisfied: future in /usr/local/lib/python3.6/dist-packages (from pyglet<=1.5.0,>=1.4.0->gym->ptan) (0.16.0)\n"
          ],
          "name": "stdout"
        }
      ]
    },
    {
      "cell_type": "code",
      "metadata": {
        "id": "8RgB6ylr6Obk",
        "colab_type": "code",
        "colab": {}
      },
      "source": [
        "env=gym.make(\"CartPole-v0\")"
      ],
      "execution_count": 0,
      "outputs": []
    },
    {
      "cell_type": "code",
      "metadata": {
        "id": "kuGx9nTL6iMe",
        "colab_type": "code",
        "colab": {}
      },
      "source": [
        "import ptan\n",
        "import torch.optim as op"
      ],
      "execution_count": 0,
      "outputs": []
    },
    {
      "cell_type": "code",
      "metadata": {
        "id": "onV7ubdq68yd",
        "colab_type": "code",
        "colab": {}
      },
      "source": [
        "obsdim=env.observation_space.shape[0]\n",
        "nactions=env.action_space.n"
      ],
      "execution_count": 0,
      "outputs": []
    },
    {
      "cell_type": "code",
      "metadata": {
        "id": "bsLTLX6Y60IK",
        "colab_type": "code",
        "colab": {}
      },
      "source": [
        "class model(n.Module):\n",
        "  def __init__(self,obsdim,nactions):\n",
        "    super().__init__()\n",
        "    self.fc1=n.Linear(obsdim,128)\n",
        "    self.fc2=n.Linear(128,nactions)\n",
        "  \n",
        "  def forward(self,x):\n",
        "    x=x.float()\n",
        "    out=f.relu(self.fc1(x))\n",
        "    return self.fc2(out)\n",
        "\n",
        "# en  "
      ],
      "execution_count": 0,
      "outputs": []
    },
    {
      "cell_type": "code",
      "metadata": {
        "id": "90mwNYxC75Bm",
        "colab_type": "code",
        "colab": {}
      },
      "source": [
        "net=model(obsdim,nactions)"
      ],
      "execution_count": 0,
      "outputs": []
    },
    {
      "cell_type": "code",
      "metadata": {
        "id": "0B11YoIG8wpV",
        "colab_type": "code",
        "outputId": "ce7325ee-00bf-4020-a8da-fb14327d72af",
        "colab": {
          "base_uri": "https://localhost:8080/",
          "height": 180
        }
      },
      "source": [
        "# Test epsilongreedyactionselector\n",
        "a=torch.randn((8,4))\n",
        "agent(a)￼￼\n",
        "￼\n",
        "￼"
      ],
      "execution_count": 0,
      "outputs": [
        {
          "output_type": "error",
          "ename": "NameError",
          "evalue": "ignored",
          "traceback": [
            "\u001b[0;31m---------------------------------------------------------------------------\u001b[0m",
            "\u001b[0;31mNameError\u001b[0m                                 Traceback (most recent call last)",
            "\u001b[0;32m<ipython-input-33-25e67cb340a0>\u001b[0m in \u001b[0;36m<module>\u001b[0;34m()\u001b[0m\n\u001b[1;32m      1\u001b[0m \u001b[0ma\u001b[0m\u001b[0;34m=\u001b[0m\u001b[0mtorch\u001b[0m\u001b[0;34m.\u001b[0m\u001b[0mrandn\u001b[0m\u001b[0;34m(\u001b[0m\u001b[0;34m(\u001b[0m\u001b[0;36m8\u001b[0m\u001b[0;34m,\u001b[0m\u001b[0;36m4\u001b[0m\u001b[0;34m)\u001b[0m\u001b[0;34m)\u001b[0m\u001b[0;34m\u001b[0m\u001b[0;34m\u001b[0m\u001b[0m\n\u001b[0;32m----> 2\u001b[0;31m \u001b[0magent\u001b[0m\u001b[0;34m(\u001b[0m\u001b[0ma\u001b[0m\u001b[0;34m)\u001b[0m\u001b[0;34m\u001b[0m\u001b[0;34m\u001b[0m\u001b[0m\n\u001b[0m",
            "\u001b[0;31mNameError\u001b[0m: name 'agent' is not defined"
          ]
        }
      ]
    },
    {
      "cell_type": "code",
      "metadata": {
        "id": "Mg0ke4MwA1cY",
        "colab_type": "code",
        "outputId": "b05e13b4-627e-4642-fbd8-bb9af31ae7f8",
        "colab": {
          "base_uri": "https://localhost:8080/",
          "height": 180
        }
      },
      "source": [
        "expsource=ptan.experience.ExperienceSourceFirstLast(env,agent,gamma=0.99,steps_count=2) \n",
        "# s1 a1 r1 s2 a2 r2 s3 a3 r3 s4     will give  s1 a1  r1 +gamma*r2  s3"
      ],
      "execution_count": 0,
      "outputs": [
        {
          "output_type": "error",
          "ename": "NameError",
          "evalue": "ignored",
          "traceback": [
            "\u001b[0;31m---------------------------------------------------------------------------\u001b[0m",
            "\u001b[0;31mNameError\u001b[0m                                 Traceback (most recent call last)",
            "\u001b[0;32m<ipython-input-34-6af8b4514149>\u001b[0m in \u001b[0;36m<module>\u001b[0;34m()\u001b[0m\n\u001b[0;32m----> 1\u001b[0;31m \u001b[0mexpsource\u001b[0m\u001b[0;34m=\u001b[0m\u001b[0mptan\u001b[0m\u001b[0;34m.\u001b[0m\u001b[0mexperience\u001b[0m\u001b[0;34m.\u001b[0m\u001b[0mExperienceSourceFirstLast\u001b[0m\u001b[0;34m(\u001b[0m\u001b[0menv\u001b[0m\u001b[0;34m,\u001b[0m\u001b[0magent\u001b[0m\u001b[0;34m,\u001b[0m\u001b[0mgamma\u001b[0m\u001b[0;34m=\u001b[0m\u001b[0;36m0.99\u001b[0m\u001b[0;34m,\u001b[0m\u001b[0msteps_count\u001b[0m\u001b[0;34m=\u001b[0m\u001b[0;36m2\u001b[0m\u001b[0;34m)\u001b[0m\u001b[0;34m\u001b[0m\u001b[0;34m\u001b[0m\u001b[0m\n\u001b[0m\u001b[1;32m      2\u001b[0m \u001b[0;31m# s1 a1 r1 s2 a2 r2 s3 a3 r3 s4     will give  s1 a1  r1 +gamma*r2  s3\u001b[0m\u001b[0;34m\u001b[0m\u001b[0;34m\u001b[0m\u001b[0;34m\u001b[0m\u001b[0m\n",
            "\u001b[0;31mNameError\u001b[0m: name 'agent' is not defined"
          ]
        }
      ]
    },
    {
      "cell_type": "code",
      "metadata": {
        "id": "pDO2F7hJemPm",
        "colab_type": "code",
        "colab": {}
      },
      "source": [
        "it=iter(expsource)"
      ],
      "execution_count": 0,
      "outputs": []
    },
    {
      "cell_type": "code",
      "metadata": {
        "id": "aJii0XGEembh",
        "colab_type": "code",
        "colab": {}
      },
      "source": [
        "next(it)"
      ],
      "execution_count": 0,
      "outputs": []
    },
    {
      "cell_type": "code",
      "metadata": {
        "id": "kfkAb2QLA2Ee",
        "colab_type": "code",
        "colab": {}
      },
      "source": [
        "count=0\n",
        "for i in expsource:\n",
        "  print(i)\n",
        "  count+=1\n",
        "  if count==6:\n",
        "    break"
      ],
      "execution_count": 0,
      "outputs": []
    },
    {
      "cell_type": "code",
      "metadata": {
        "id": "5b6tkGcYeMlt",
        "colab_type": "code",
        "outputId": "bcf860e6-fe52-44f7-f7c0-c1afde8f21e8",
        "colab": {
          "base_uri": "https://localhost:8080/",
          "height": 163
        }
      },
      "source": [
        "buffer=ptan.experience.ExperienceReplayBuffer(expsource,buffer_size=10000)"
      ],
      "execution_count": 0,
      "outputs": [
        {
          "output_type": "error",
          "ename": "NameError",
          "evalue": "ignored",
          "traceback": [
            "\u001b[0;31m---------------------------------------------------------------------------\u001b[0m",
            "\u001b[0;31mNameError\u001b[0m                                 Traceback (most recent call last)",
            "\u001b[0;32m<ipython-input-35-5f3530995553>\u001b[0m in \u001b[0;36m<module>\u001b[0;34m()\u001b[0m\n\u001b[0;32m----> 1\u001b[0;31m \u001b[0mbuffer\u001b[0m\u001b[0;34m=\u001b[0m\u001b[0mptan\u001b[0m\u001b[0;34m.\u001b[0m\u001b[0mexperience\u001b[0m\u001b[0;34m.\u001b[0m\u001b[0mExperienceReplayBuffer\u001b[0m\u001b[0;34m(\u001b[0m\u001b[0mexpsource\u001b[0m\u001b[0;34m,\u001b[0m\u001b[0mbuffer_size\u001b[0m\u001b[0;34m=\u001b[0m\u001b[0;36m10000\u001b[0m\u001b[0;34m)\u001b[0m\u001b[0;34m\u001b[0m\u001b[0;34m\u001b[0m\u001b[0m\n\u001b[0m",
            "\u001b[0;31mNameError\u001b[0m: name 'expsource' is not defined"
          ]
        }
      ]
    },
    {
      "cell_type": "code",
      "metadata": {
        "id": "vD9ZseMpwG3J",
        "colab_type": "code",
        "colab": {}
      },
      "source": [
        "optimizer=op.Adam(net.parameters(),lr=0.001,)"
      ],
      "execution_count": 0,
      "outputs": []
    },
    {
      "cell_type": "code",
      "metadata": {
        "id": "SjCcywZkwdnK",
        "colab_type": "code",
        "colab": {}
      },
      "source": [
        "frameidx=0"
      ],
      "execution_count": 0,
      "outputs": []
    },
    {
      "cell_type": "code",
      "metadata": {
        "id": "C6HzS3n-xFbB",
        "colab_type": "code",
        "outputId": "6243b103-07e9-46dd-eecc-69be03688cf8",
        "colab": {
          "base_uri": "https://localhost:8080/",
          "height": 163
        }
      },
      "source": [
        "buffer.populate(5)"
      ],
      "execution_count": 0,
      "outputs": [
        {
          "output_type": "error",
          "ename": "NameError",
          "evalue": "ignored",
          "traceback": [
            "\u001b[0;31m---------------------------------------------------------------------------\u001b[0m",
            "\u001b[0;31mNameError\u001b[0m                                 Traceback (most recent call last)",
            "\u001b[0;32m<ipython-input-38-fdb2b383a728>\u001b[0m in \u001b[0;36m<module>\u001b[0;34m()\u001b[0m\n\u001b[0;32m----> 1\u001b[0;31m \u001b[0mbuffer\u001b[0m\u001b[0;34m.\u001b[0m\u001b[0mpopulate\u001b[0m\u001b[0;34m(\u001b[0m\u001b[0;36m5\u001b[0m\u001b[0;34m)\u001b[0m\u001b[0;34m\u001b[0m\u001b[0;34m\u001b[0m\u001b[0m\n\u001b[0m",
            "\u001b[0;31mNameError\u001b[0m: name 'buffer' is not defined"
          ]
        }
      ]
    },
    {
      "cell_type": "code",
      "metadata": {
        "id": "8FJtSssYxFYQ",
        "colab_type": "code",
        "outputId": "9dc403f5-ffc6-4073-e5f6-457e4070bc80",
        "colab": {
          "base_uri": "https://localhost:8080/",
          "height": 163
        }
      },
      "source": [
        "buffer.buffer     # gives the s a r s values and stores them in the buffer"
      ],
      "execution_count": 0,
      "outputs": [
        {
          "output_type": "error",
          "ename": "NameError",
          "evalue": "ignored",
          "traceback": [
            "\u001b[0;31m---------------------------------------------------------------------------\u001b[0m",
            "\u001b[0;31mNameError\u001b[0m                                 Traceback (most recent call last)",
            "\u001b[0;32m<ipython-input-39-559d696403b0>\u001b[0m in \u001b[0;36m<module>\u001b[0;34m()\u001b[0m\n\u001b[0;32m----> 1\u001b[0;31m \u001b[0mbuffer\u001b[0m\u001b[0;34m.\u001b[0m\u001b[0mbuffer\u001b[0m     \u001b[0;31m# gives the s a r s values and stores them in the buffer\u001b[0m\u001b[0;34m\u001b[0m\u001b[0;34m\u001b[0m\u001b[0m\n\u001b[0m",
            "\u001b[0;31mNameError\u001b[0m: name 'buffer' is not defined"
          ]
        }
      ]
    },
    {
      "cell_type": "code",
      "metadata": {
        "id": "r0N7oQnRxFUi",
        "colab_type": "code",
        "colab": {}
      },
      "source": [
        "tgtnet=ptan.agent.TargetNet(net)"
      ],
      "execution_count": 0,
      "outputs": []
    },
    {
      "cell_type": "code",
      "metadata": {
        "id": "1h00JQTowf9k",
        "colab_type": "code",
        "colab": {}
      },
      "source": [
        "class epsilontracker:\n",
        "  def __init__(self,selector,epsstart,epsfinal,epsframes):\n",
        "    self.selector=selector\n",
        "    self.epsstart=epsstart\n",
        "    self.epsfinal=epsfinal\n",
        "    self.epsframes=epsframes\n",
        "    self.frame(0)\n",
        "  \n",
        "  def frame(self,frame):\n",
        "    self.selector.epsilon=max(self.epsfinal,self.epsstart-frame/self.epsframes)"
      ],
      "execution_count": 0,
      "outputs": []
    },
    {
      "cell_type": "code",
      "metadata": {
        "id": "NOXDfX_o5N-6",
        "colab_type": "code",
        "colab": {}
      },
      "source": [
        "epsstart=1.0"
      ],
      "execution_count": 0,
      "outputs": []
    },
    {
      "cell_type": "code",
      "metadata": {
        "id": "5zfWtI5M0wEW",
        "colab_type": "code",
        "colab": {}
      },
      "source": [
        "actionselector=ptan.actions.EpsilonGreedyActionSelector(epsstart)  # epsilongreedyactionselector is given qvalues\n",
        "epsilontracker=epsilontracker(actionselector,1,0.1,100000)"
      ],
      "execution_count": 0,
      "outputs": []
    },
    {
      "cell_type": "code",
      "metadata": {
        "id": "DYDH8Zxj3zLv",
        "colab_type": "code",
        "colab": {}
      },
      "source": [
        "agent=ptan.agent.DQNAgent(net,actionselector)"
      ],
      "execution_count": 0,
      "outputs": []
    },
    {
      "cell_type": "code",
      "metadata": {
        "id": "bh5ClGrF0fhf",
        "colab_type": "code",
        "colab": {}
      },
      "source": [
        "tgtnet=ptan.agent.TargetNet(net)"
      ],
      "execution_count": 0,
      "outputs": []
    },
    {
      "cell_type": "code",
      "metadata": {
        "id": "61_FgyJR3_if",
        "colab_type": "code",
        "colab": {}
      },
      "source": [
        "expsource=ptan.experience.ExperienceSourceFirstLast(env,agent,gamma=0.99,steps_count=1)\n",
        "buffer=ptan.experience.ExperienceReplayBuffer(expsource,10000)"
      ],
      "execution_count": 0,
      "outputs": []
    },
    {
      "cell_type": "code",
      "metadata": {
        "id": "s4QAa1kG9PEY",
        "colab_type": "code",
        "colab": {}
      },
      "source": [
        "class rewardtracker:\n",
        "  def __init__(self,stopreward):\n",
        "    self.stopreward=stopreward\n",
        "    self.totalreward=[]\n",
        "  \n",
        "  def reward(self,reward1,frame,epsilon=None):\n",
        "    self.totalreward.append(reward1)\n",
        "    meanreward=np.mean(self.totalreward[-100:])\n",
        "\n",
        "    if meanreward>self.stopreward:\n",
        "      print(\"Solved\")\n",
        "      return True  \n",
        "    return False"
      ],
      "execution_count": 0,
      "outputs": []
    },
    {
      "cell_type": "code",
      "metadata": {
        "id": "SEALLQFh9PKF",
        "colab_type": "code",
        "colab": {}
      },
      "source": [
        "stopreward=100\n",
        "rt=rewardtracker(stopreward)"
      ],
      "execution_count": 0,
      "outputs": []
    },
    {
      "cell_type": "code",
      "metadata": {
        "id": "NrJW1uaRiBZJ",
        "colab_type": "code",
        "colab": {}
      },
      "source": [
        "def unpackbatch(batch):\n",
        "  states,actions,rewards,dones,last_states=[],[],[],[],[]\n",
        "  for exp in batch:\n",
        "    state=np.array(exp.state,copy=False)\n",
        "    states.append(state)\n",
        "    actions.append(exp.action)\n",
        "    rewards.append(exp.reward)\n",
        "    dones.append(exp.last_state is None)\n",
        "    if exp.last_state is None:\n",
        "      last_states.append(state)\n",
        "    else:\n",
        "      last_states.append(exp.last_state)\n",
        "    return np.array(states,copy=False),np.array(actions,copy=False),np.array(rewards,dtype=np.float32), \\\n",
        "           np.array(dones,dtype=np.uint8) , np.array(last_states,copy=False)"
      ],
      "execution_count": 0,
      "outputs": []
    },
    {
      "cell_type": "code",
      "metadata": {
        "id": "7nMp5PvqmyO2",
        "colab_type": "code",
        "outputId": "ab07bd5f-c0bc-46c3-dd67-3300464ae762",
        "colab": {
          "base_uri": "https://localhost:8080/",
          "height": 34
        }
      },
      "source": [
        "#Experiment\n",
        "dones=[True,False,True]\n",
        "torch.ByteTensor(np.array(dones,dtype=np.uint8))"
      ],
      "execution_count": 0,
      "outputs": [
        {
          "output_type": "execute_result",
          "data": {
            "text/plain": [
              "tensor([1, 0, 1], dtype=torch.uint8)"
            ]
          },
          "metadata": {
            "tags": []
          },
          "execution_count": 76
        }
      ]
    },
    {
      "cell_type": "code",
      "metadata": {
        "id": "zFjDcmqchrlA",
        "colab_type": "code",
        "colab": {}
      },
      "source": [
        "def calclossdqn(batch,net,tgtnet,gamma,device='cpu'):\n",
        "  states,actions,rewards,dones,laststate=unpackbatch(batch)\n",
        "  # states bs x statedims  # actions=bs x actionsdims\n",
        "  # laststate= bs x statedims\n",
        "\n",
        "  statesv=torch.tensor(states).to(device)\n",
        "  nextstatesv=torch.tensor(laststate).to(device)\n",
        "  actionsv=torch.tensor(actions).to(device)\n",
        "  rewardsv=torch.tensor(rewards).to(device)\n",
        "  donemask=torch.ByteTensor(dones).to(device)\n",
        "\n",
        "  stateactionvalues=net(statesv).gather(1,actionsv.unsqueeze(-1)).squeeze(-1)\n",
        "  nextstatevalues=tgtnet(nextstatesv).max(1)[0] # actionvalues from next state\n",
        "  nextstatevalues[donemask]=0.0   #   for terminal state experience we want next state action values to be zero\n",
        "  expectedstate_actval=nextstatevalues.detach()*gamma + rewardsv\n",
        "  return n.MSELoss()(stateactionvalues,expectedstate_actval)"
      ],
      "execution_count": 0,
      "outputs": []
    },
    {
      "cell_type": "code",
      "metadata": {
        "id": "qdhdHKM3rEof",
        "colab_type": "code",
        "colab": {}
      },
      "source": [
        "# Experiment gather \n",
        "a=torch.randint(0,10,(4,3))"
      ],
      "execution_count": 0,
      "outputs": []
    },
    {
      "cell_type": "code",
      "metadata": {
        "id": "xrYGvAUqrlSF",
        "colab_type": "code",
        "colab": {}
      },
      "source": [
        "actions=torch.tensor([1,2,0,1])  #   of shape (4,)"
      ],
      "execution_count": 0,
      "outputs": []
    },
    {
      "cell_type": "code",
      "metadata": {
        "id": "E3YKp0J4rlPv",
        "colab_type": "code",
        "outputId": "f51861f9-0758-4fcd-9e41-6f56547db010",
        "colab": {
          "base_uri": "https://localhost:8080/",
          "height": 34
        }
      },
      "source": [
        "actions.unsqueeze(-1).shape"
      ],
      "execution_count": 0,
      "outputs": [
        {
          "output_type": "execute_result",
          "data": {
            "text/plain": [
              "torch.Size([4, 1])"
            ]
          },
          "metadata": {
            "tags": []
          },
          "execution_count": 96
        }
      ]
    },
    {
      "cell_type": "code",
      "metadata": {
        "id": "pYT3_q_hsDY3",
        "colab_type": "code",
        "outputId": "e49a613b-b841-4eae-cbe4-5afca38b1d79",
        "colab": {
          "base_uri": "https://localhost:8080/",
          "height": 85
        }
      },
      "source": [
        "a.gather(1,actions.unsqueeze(-1))"
      ],
      "execution_count": 0,
      "outputs": [
        {
          "output_type": "execute_result",
          "data": {
            "text/plain": [
              "tensor([[3],\n",
              "        [8],\n",
              "        [9],\n",
              "        [8]])"
            ]
          },
          "metadata": {
            "tags": []
          },
          "execution_count": 97
        }
      ]
    },
    {
      "cell_type": "code",
      "metadata": {
        "id": "kZg6VyrTsRbW",
        "colab_type": "code",
        "outputId": "e17ccec4-8e01-4847-8f87-b8521612447a",
        "colab": {
          "base_uri": "https://localhost:8080/",
          "height": 85
        }
      },
      "source": [
        "a"
      ],
      "execution_count": 0,
      "outputs": [
        {
          "output_type": "execute_result",
          "data": {
            "text/plain": [
              "tensor([[0, 3, 6],\n",
              "        [6, 4, 8],\n",
              "        [9, 4, 0],\n",
              "        [3, 8, 7]])"
            ]
          },
          "metadata": {
            "tags": []
          },
          "execution_count": 98
        }
      ]
    },
    {
      "cell_type": "code",
      "metadata": {
        "id": "AbaukJReyUg6",
        "colab_type": "code",
        "colab": {}
      },
      "source": [
        "gamma=0.99\n",
        "device=torch.device(\"cuda\" if torch.cuda.is_available() else \"cpu\")"
      ],
      "execution_count": 0,
      "outputs": []
    },
    {
      "cell_type": "code",
      "metadata": {
        "id": "OW213rI22gi-",
        "colab_type": "code",
        "colab": {}
      },
      "source": [
        "targetnetsync=500"
      ],
      "execution_count": 0,
      "outputs": []
    },
    {
      "cell_type": "code",
      "metadata": {
        "id": "4HflUKMe7TSl",
        "colab_type": "code",
        "outputId": "a092c767-638c-434b-9737-c994f576561a",
        "colab": {
          "base_uri": "https://localhost:8080/",
          "height": 867
        }
      },
      "source": [
        "i=0\n",
        "for e in expsource:\n",
        "  print(e.reward,\"---\",e.last_state,\"---\",expsource.pop_total_rewards())\n",
        "   # expsource will gives an empty list if terminal state is not achieved\n",
        "  i+=1                                   # else if terminal state is reached then expsource will give reward\n",
        "  if i==50:\n",
        "    break"
      ],
      "execution_count": 0,
      "outputs": [
        {
          "output_type": "stream",
          "text": [
            "1.0 --- [-0.00223253 -0.22156729 -0.01998906  0.2964656 ] --- []\n",
            "1.0 --- [-0.00666388 -0.41639866 -0.01405975  0.58277789] --- []\n",
            "1.0 --- [-0.01499185 -0.22108258 -0.00240419  0.28569929] --- []\n",
            "1.0 --- [-0.0194135  -0.02592643  0.0033098  -0.00774093] --- []\n",
            "1.0 --- [-0.01993203 -0.22109569  0.00315498  0.28598444] --- []\n",
            "1.0 --- [-0.02435394 -0.02601887  0.00887467 -0.00570176] --- []\n",
            "1.0 --- [-0.02487432  0.16897468  0.00876063 -0.29557146] --- []\n",
            "1.0 --- [-0.02149483  0.36397065  0.0028492  -0.5854786 ] --- []\n",
            "1.0 --- [-0.01421541  0.16880891 -0.00886037 -0.29189951] --- []\n",
            "1.0 --- [-0.01083924  0.36405607 -0.01469836 -0.58736366] --- []\n",
            "1.0 --- [-0.00355811  0.55938075 -0.02644563 -0.8846402 ] --- []\n",
            "1.0 --- [ 0.0076295   0.7548516  -0.04413844 -1.18551807] --- []\n",
            "1.0 --- [ 0.02272653  0.56032905 -0.0678488  -0.90699091] --- []\n",
            "1.0 --- [ 0.03393311  0.36618805 -0.08598862 -0.63638168] --- []\n",
            "1.0 --- [ 0.04125687  0.56239731 -0.09871625 -0.95485767] --- []\n",
            "1.0 --- [ 0.05250482  0.36873189 -0.1178134  -0.69474929] --- []\n",
            "1.0 --- [ 0.05987946  0.56527383 -0.13170839 -1.02207563] --- []\n",
            "1.0 --- [ 0.07118494  0.76188094 -0.1521499  -1.35304249] --- []\n",
            "1.0 --- [ 0.08642255  0.95855015 -0.17921075 -1.68919796] --- []\n",
            "1.0 --- None --- []\n",
            "1.0 --- [ 0.04124984  0.23677277 -0.0310566  -0.25610818] --- [20.0]\n",
            "1.0 --- [ 0.04598529  0.04210768 -0.03617876  0.02661948] --- []\n",
            "1.0 --- [ 0.04682745  0.23772928 -0.03564637 -0.27725515] --- []\n",
            "1.0 --- [ 0.05158203  0.04313353 -0.04119148  0.00397524] --- []\n",
            "1.0 --- [ 0.0524447  -0.15137421 -0.04111197  0.28338249] --- []\n",
            "1.0 --- [ 0.04941722 -0.3458864  -0.03544432  0.56282072] --- []\n",
            "1.0 --- [ 0.04249949 -0.54049352 -0.02418791  0.84412961] --- []\n",
            "1.0 --- [ 0.03168962 -0.34504999 -0.00730531  0.54393952] --- []\n",
            "1.0 --- [ 0.02478862 -0.14982615  0.00357348  0.24896382] --- []\n",
            "1.0 --- [ 0.0217921   0.04524459  0.00855275 -0.04258981] --- []\n",
            "1.0 --- [ 0.02269699  0.24024286  0.00770096 -0.33256204] --- []\n",
            "1.0 --- [ 0.02750185  0.43525435  0.00104971 -0.62280656] --- []\n",
            "1.0 --- [ 0.03620693  0.24011776 -0.01140642 -0.32979321] --- []\n",
            "1.0 --- [ 0.04100929  0.04516003 -0.01800228 -0.04072905] --- []\n",
            "1.0 --- [ 0.04191249  0.24053544 -0.01881686 -0.33903706] --- []\n",
            "1.0 --- [ 0.0467232   0.43592002 -0.0255976  -0.63759388] --- []\n",
            "1.0 --- [ 0.0554416   0.2411642  -0.03834948 -0.35308072] --- []\n",
            "1.0 --- [ 0.06026488  0.04660796 -0.04541109 -0.07273292] --- []\n",
            "1.0 --- [ 0.06119704 -0.14783454 -0.04686575  0.20528388] --- []\n",
            "1.0 --- [ 0.05824035  0.04792518 -0.04276008 -0.10180678] --- []\n",
            "1.0 --- [ 0.05919885 -0.1465587  -0.04479621  0.17708475] --- []\n",
            "1.0 --- [ 0.05626768  0.04917474 -0.04125452 -0.12938656] --- []\n",
            "1.0 --- [ 0.05725118 -0.14533269 -0.04384225  0.15000096] --- []\n",
            "1.0 --- [ 0.05434452  0.05038874 -0.04084223 -0.15618457] --- []\n",
            "1.0 --- [ 0.0553523   0.24607094 -0.04396592 -0.46146737] --- []\n",
            "1.0 --- [ 0.06027371  0.05159707 -0.05319527 -0.18296027] --- []\n",
            "1.0 --- [ 0.06130566 -0.14272496 -0.05685447  0.09247843] --- []\n",
            "1.0 --- [ 0.05845116 -0.33698787 -0.0550049   0.36669575] --- []\n",
            "1.0 --- [ 0.0517114  -0.5312868  -0.04767099  0.64154008] --- []\n",
            "1.0 --- [ 0.04108566 -0.33553388 -0.03484019  0.3342343 ] --- []\n"
          ],
          "name": "stdout"
        }
      ]
    },
    {
      "cell_type": "code",
      "metadata": {
        "id": "j45IMr6I7Tdn",
        "colab_type": "code",
        "colab": {}
      },
      "source": [
        ""
      ],
      "execution_count": 0,
      "outputs": []
    },
    {
      "cell_type": "code",
      "metadata": {
        "id": "CqXhG3na006z",
        "colab_type": "code",
        "colab": {}
      },
      "source": [
        "frameidx=0\n",
        "while True:\n",
        "  frameidx+=1\n",
        "  buffer.populate(1)\n",
        "  epsilontracker.frame(frameidx)\n",
        "  newrewards=expsource.pop_total_rewards()"
      ],
      "execution_count": 0,
      "outputs": []
    }
  ]
}