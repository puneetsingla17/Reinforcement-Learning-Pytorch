{
  "nbformat": 4,
  "nbformat_minor": 0,
  "metadata": {
    "colab": {
      "name": "Timepilot_env_exploration.ipynb",
      "provenance": [],
      "collapsed_sections": [],
      "authorship_tag": "ABX9TyP40GsYkWBKjBYSuJ66lksl",
      "include_colab_link": true
    },
    "kernelspec": {
      "name": "python3",
      "display_name": "Python 3"
    }
  },
  "cells": [
    {
      "cell_type": "markdown",
      "metadata": {
        "id": "view-in-github",
        "colab_type": "text"
      },
      "source": [
        "<a href=\"https://colab.research.google.com/github/puneetsingla17/Reinforcement-Learning-Pytorch/blob/master/Timepilot_env_exploration.ipynb\" target=\"_parent\"><img src=\"https://colab.research.google.com/assets/colab-badge.svg\" alt=\"Open In Colab\"/></a>"
      ]
    },
    {
      "cell_type": "code",
      "metadata": {
        "id": "iv9TPyKhFcco",
        "colab_type": "code",
        "colab": {
          "base_uri": "https://localhost:8080/",
          "height": 221
        },
        "outputId": "ad7dcb27-e05e-4bd7-c2e4-b28cfeb375e8"
      },
      "source": [
        "!pip3 install pybullet --upgrade\n",
        "!pip install ptan\n",
        "import pybullet_envs\n",
        "import ptan\n",
        "import math\n",
        "import gym\n",
        "import numpy as np\n",
        "import matplotlib.pyplot as plt\n",
        "import torch\n",
        "import torch.nn as nn\n",
        "import torch.nn.functional as f\n",
        "import torch.optim as op"
      ],
      "execution_count": null,
      "outputs": [
        {
          "output_type": "stream",
          "text": [
            "Requirement already up-to-date: pybullet in /usr/local/lib/python3.6/dist-packages (2.8.1)\n",
            "Requirement already satisfied: ptan in /usr/local/lib/python3.6/dist-packages (0.6)\n",
            "Requirement already satisfied: numpy in /usr/local/lib/python3.6/dist-packages (from ptan) (1.18.4)\n",
            "Requirement already satisfied: atari-py in /usr/local/lib/python3.6/dist-packages (from ptan) (0.2.6)\n",
            "Requirement already satisfied: torch==1.3.0 in /usr/local/lib/python3.6/dist-packages (from ptan) (1.3.0)\n",
            "Requirement already satisfied: opencv-python in /usr/local/lib/python3.6/dist-packages (from ptan) (4.1.2.30)\n",
            "Requirement already satisfied: gym in /usr/local/lib/python3.6/dist-packages (from ptan) (0.17.2)\n",
            "Requirement already satisfied: six in /usr/local/lib/python3.6/dist-packages (from atari-py->ptan) (1.12.0)\n",
            "Requirement already satisfied: scipy in /usr/local/lib/python3.6/dist-packages (from gym->ptan) (1.4.1)\n",
            "Requirement already satisfied: pyglet<=1.5.0,>=1.4.0 in /usr/local/lib/python3.6/dist-packages (from gym->ptan) (1.5.0)\n",
            "Requirement already satisfied: cloudpickle<1.4.0,>=1.2.0 in /usr/local/lib/python3.6/dist-packages (from gym->ptan) (1.3.0)\n",
            "Requirement already satisfied: future in /usr/local/lib/python3.6/dist-packages (from pyglet<=1.5.0,>=1.4.0->gym->ptan) (0.16.0)\n"
          ],
          "name": "stdout"
        }
      ]
    },
    {
      "cell_type": "code",
      "metadata": {
        "id": "tzvh1Qv_Uyh9",
        "colab_type": "code",
        "colab": {}
      },
      "source": [
        "import pybullet_envs\n",
        "import ptan\n",
        "import math"
      ],
      "execution_count": null,
      "outputs": []
    },
    {
      "cell_type": "code",
      "metadata": {
        "id": "awQY_EGlU3_2",
        "colab_type": "code",
        "colab": {}
      },
      "source": [
        "from pybullet_envs.gym_pendulum_envs import InvertedDoublePendulumBulletEnv"
      ],
      "execution_count": null,
      "outputs": []
    },
    {
      "cell_type": "code",
      "metadata": {
        "id": "eAHJjUEWXuu4",
        "colab_type": "code",
        "colab": {}
      },
      "source": [
        "import gym\n",
        "import numpy as np\n",
        "import matplotlib.pyplot as plt\n",
        "import torch\n",
        "import torch.nn as nn\n",
        "import torch.nn.functional as f\n",
        "import torch.optim as op"
      ],
      "execution_count": null,
      "outputs": []
    },
    {
      "cell_type": "code",
      "metadata": {
        "id": "yS4MSILAXyV8",
        "colab_type": "code",
        "colab": {}
      },
      "source": [
        "env=gym.make(\"TimePilot-v0\")"
      ],
      "execution_count": null,
      "outputs": []
    },
    {
      "cell_type": "code",
      "metadata": {
        "id": "8PZVcf3UX52s",
        "colab_type": "code",
        "colab": {
          "base_uri": "https://localhost:8080/",
          "height": 850
        },
        "outputId": "1c3b843c-3212-4cd5-81bb-d064ef6585b5"
      },
      "source": [
        "env.reset()"
      ],
      "execution_count": null,
      "outputs": [
        {
          "output_type": "execute_result",
          "data": {
            "text/plain": [
              "array([[[  0,   0,   0],\n",
              "        [  0,   0,   0],\n",
              "        [  0,   0,   0],\n",
              "        ...,\n",
              "        [  0,   0,   0],\n",
              "        [  0,   0,   0],\n",
              "        [  0,   0,   0]],\n",
              "\n",
              "       [[214, 214, 214],\n",
              "        [214, 214, 214],\n",
              "        [214, 214, 214],\n",
              "        ...,\n",
              "        [214, 214, 214],\n",
              "        [214, 214, 214],\n",
              "        [214, 214, 214]],\n",
              "\n",
              "       [[  0,   0,   0],\n",
              "        [  0,   0,   0],\n",
              "        [  0,   0,   0],\n",
              "        ...,\n",
              "        [195, 144,  61],\n",
              "        [195, 144,  61],\n",
              "        [195, 144,  61]],\n",
              "\n",
              "       ...,\n",
              "\n",
              "       [[  0,   0,   0],\n",
              "        [  0,   0,   0],\n",
              "        [  0,   0,   0],\n",
              "        ...,\n",
              "        [  0,   0,   0],\n",
              "        [  0,   0,   0],\n",
              "        [  0,   0,   0]],\n",
              "\n",
              "       [[  0,   0,   0],\n",
              "        [  0,   0,   0],\n",
              "        [  0,   0,   0],\n",
              "        ...,\n",
              "        [  0,   0,   0],\n",
              "        [  0,   0,   0],\n",
              "        [  0,   0,   0]],\n",
              "\n",
              "       [[  0,   0,   0],\n",
              "        [  0,   0,   0],\n",
              "        [  0,   0,   0],\n",
              "        ...,\n",
              "        [  0,   0,   0],\n",
              "        [  0,   0,   0],\n",
              "        [  0,   0,   0]]], dtype=uint8)"
            ]
          },
          "metadata": {
            "tags": []
          },
          "execution_count": 31
        }
      ]
    },
    {
      "cell_type": "code",
      "metadata": {
        "id": "UZYxo1caYuCb",
        "colab_type": "code",
        "colab": {
          "base_uri": "https://localhost:8080/",
          "height": 286
        },
        "outputId": "3815eba0-043b-4c7d-d9c9-b60b185961eb"
      },
      "source": [
        "plt.imshow(env.render(\"rgb_array\"))"
      ],
      "execution_count": null,
      "outputs": [
        {
          "output_type": "execute_result",
          "data": {
            "text/plain": [
              "<matplotlib.image.AxesImage at 0x7fa1eb917278>"
            ]
          },
          "metadata": {
            "tags": []
          },
          "execution_count": 32
        },
        {
          "output_type": "display_data",
          "data": {
            "image/png": "[encoded data removed]",
            "text/plain": [
              "<Figure size 432x288 with 1 Axes>"
            ]
          },
          "metadata": {
            "tags": [],
            "needs_background": "light"
          }
        }
      ]
    },
    {
      "cell_type": "code",
      "metadata": {
        "id": "HWCCNw-iYwTP",
        "colab_type": "code",
        "colab": {
          "base_uri": "https://localhost:8080/",
          "height": 34
        },
        "outputId": "8d7c0502-0feb-4947-d6c8-da50007ba364"
      },
      "source": [
        "env.action_space"
      ],
      "execution_count": null,
      "outputs": [
        {
          "output_type": "execute_result",
          "data": {
            "text/plain": [
              "Discrete(10)"
            ]
          },
          "metadata": {
            "tags": []
          },
          "execution_count": 33
        }
      ]
    },
    {
      "cell_type": "code",
      "metadata": {
        "id": "YeFt4uYkd8vu",
        "colab_type": "code",
        "colab": {
          "base_uri": "https://localhost:8080/",
          "height": 34
        },
        "outputId": "7b683713-7e2b-4713-8656-288f5c20fe30"
      },
      "source": [
        "env.observation_space"
      ],
      "execution_count": null,
      "outputs": [
        {
          "output_type": "execute_result",
          "data": {
            "text/plain": [
              "Box(210, 160, 3)"
            ]
          },
          "metadata": {
            "tags": []
          },
          "execution_count": 34
        }
      ]
    },
    {
      "cell_type": "code",
      "metadata": {
        "id": "yFQtSw6JJme_",
        "colab_type": "code",
        "colab": {
          "base_uri": "https://localhost:8080/",
          "height": 850
        },
        "outputId": "f2103dca-663d-4cc5-86fe-d78f237680ec"
      },
      "source": [
        "env.observation_space.low"
      ],
      "execution_count": null,
      "outputs": [
        {
          "output_type": "execute_result",
          "data": {
            "text/plain": [
              "array([[[0, 0, 0],\n",
              "        [0, 0, 0],\n",
              "        [0, 0, 0],\n",
              "        ...,\n",
              "        [0, 0, 0],\n",
              "        [0, 0, 0],\n",
              "        [0, 0, 0]],\n",
              "\n",
              "       [[0, 0, 0],\n",
              "        [0, 0, 0],\n",
              "        [0, 0, 0],\n",
              "        ...,\n",
              "        [0, 0, 0],\n",
              "        [0, 0, 0],\n",
              "        [0, 0, 0]],\n",
              "\n",
              "       [[0, 0, 0],\n",
              "        [0, 0, 0],\n",
              "        [0, 0, 0],\n",
              "        ...,\n",
              "        [0, 0, 0],\n",
              "        [0, 0, 0],\n",
              "        [0, 0, 0]],\n",
              "\n",
              "       ...,\n",
              "\n",
              "       [[0, 0, 0],\n",
              "        [0, 0, 0],\n",
              "        [0, 0, 0],\n",
              "        ...,\n",
              "        [0, 0, 0],\n",
              "        [0, 0, 0],\n",
              "        [0, 0, 0]],\n",
              "\n",
              "       [[0, 0, 0],\n",
              "        [0, 0, 0],\n",
              "        [0, 0, 0],\n",
              "        ...,\n",
              "        [0, 0, 0],\n",
              "        [0, 0, 0],\n",
              "        [0, 0, 0]],\n",
              "\n",
              "       [[0, 0, 0],\n",
              "        [0, 0, 0],\n",
              "        [0, 0, 0],\n",
              "        ...,\n",
              "        [0, 0, 0],\n",
              "        [0, 0, 0],\n",
              "        [0, 0, 0]]], dtype=uint8)"
            ]
          },
          "metadata": {
            "tags": []
          },
          "execution_count": 35
        }
      ]
    },
    {
      "cell_type": "code",
      "metadata": {
        "id": "bbrDk1NRJmn1",
        "colab_type": "code",
        "colab": {
          "base_uri": "https://localhost:8080/",
          "height": 34
        },
        "outputId": "2b7ad63d-4a7b-4e18-b053-13557fbc09de"
      },
      "source": [
        "env.observation_space.high.shape"
      ],
      "execution_count": null,
      "outputs": [
        {
          "output_type": "execute_result",
          "data": {
            "text/plain": [
              "(210, 160, 3)"
            ]
          },
          "metadata": {
            "tags": []
          },
          "execution_count": 51
        }
      ]
    },
    {
      "cell_type": "code",
      "metadata": {
        "id": "WO-ZiHCVM0Kd",
        "colab_type": "code",
        "colab": {
          "base_uri": "https://localhost:8080/",
          "height": 850
        },
        "outputId": "efb105e5-ad49-4240-969a-2b7d411a4af7"
      },
      "source": [
        "env.step(2)"
      ],
      "execution_count": null,
      "outputs": [
        {
          "output_type": "execute_result",
          "data": {
            "text/plain": [
              "(array([[[  0,   0,   0],\n",
              "         [  0,   0,   0],\n",
              "         [  0,   0,   0],\n",
              "         ...,\n",
              "         [  0,   0,   0],\n",
              "         [  0,   0,   0],\n",
              "         [  0,   0,   0]],\n",
              " \n",
              "        [[214, 214, 214],\n",
              "         [214, 214, 214],\n",
              "         [214, 214, 214],\n",
              "         ...,\n",
              "         [214, 214, 214],\n",
              "         [214, 214, 214],\n",
              "         [214, 214, 214]],\n",
              " \n",
              "        [[  0,   0,   0],\n",
              "         [  0,   0,   0],\n",
              "         [  0,   0,   0],\n",
              "         ...,\n",
              "         [195, 144,  61],\n",
              "         [195, 144,  61],\n",
              "         [195, 144,  61]],\n",
              " \n",
              "        ...,\n",
              " \n",
              "        [[  0,   0,   0],\n",
              "         [  0,   0,   0],\n",
              "         [  0,   0,   0],\n",
              "         ...,\n",
              "         [  0,   0,   0],\n",
              "         [  0,   0,   0],\n",
              "         [  0,   0,   0]],\n",
              " \n",
              "        [[  0,   0,   0],\n",
              "         [  0,   0,   0],\n",
              "         [  0,   0,   0],\n",
              "         ...,\n",
              "         [  0,   0,   0],\n",
              "         [  0,   0,   0],\n",
              "         [  0,   0,   0]],\n",
              " \n",
              "        [[  0,   0,   0],\n",
              "         [  0,   0,   0],\n",
              "         [  0,   0,   0],\n",
              "         ...,\n",
              "         [  0,   0,   0],\n",
              "         [  0,   0,   0],\n",
              "         [  0,   0,   0]]], dtype=uint8), 0.0, False, {'ale.lives': 5})"
            ]
          },
          "metadata": {
            "tags": []
          },
          "execution_count": 37
        }
      ]
    },
    {
      "cell_type": "code",
      "metadata": {
        "id": "U3ljCp3oM0NU",
        "colab_type": "code",
        "colab": {}
      },
      "source": [
        "!pip install gym pyvirtualdisplay > /dev/null 2>&1\n",
        "!apt-get install -y xvfb python-opengl ffmpeg > /dev/null 2>&1"
      ],
      "execution_count": null,
      "outputs": []
    },
    {
      "cell_type": "code",
      "metadata": {
        "id": "iLbLiJoJM0SM",
        "colab_type": "code",
        "colab": {}
      },
      "source": [
        "import gym\n",
        "from gym import logger as gymlogger\n",
        "from gym.wrappers import Monitor\n",
        "gymlogger.set_level(40) # error only\n",
        "import tensorflow as tf\n",
        "import numpy as np\n",
        "import random\n",
        "import matplotlib\n",
        "import matplotlib.pyplot as plt\n",
        "%matplotlib inline\n",
        "import math\n",
        "import glob\n",
        "import io\n",
        "import base64\n",
        "from IPython.display import HTML\n",
        "\n",
        "from IPython import display as ipythondisplay"
      ],
      "execution_count": null,
      "outputs": []
    },
    {
      "cell_type": "code",
      "metadata": {
        "id": "qKzAXNnPM0bD",
        "colab_type": "code",
        "colab": {
          "base_uri": "https://localhost:8080/",
          "height": 34
        },
        "outputId": "eb2d60f3-3e1a-4c09-db2c-697eee7268ce"
      },
      "source": [
        "from pyvirtualdisplay import Display\n",
        "display = Display(visible=0, size=(1400, 900))\n",
        "display.start()"
      ],
      "execution_count": null,
      "outputs": [
        {
          "output_type": "execute_result",
          "data": {
            "text/plain": [
              "<pyvirtualdisplay.display.Display at 0x7fa23c0e4518>"
            ]
          },
          "metadata": {
            "tags": []
          },
          "execution_count": 40
        }
      ]
    },
    {
      "cell_type": "code",
      "metadata": {
        "id": "YB-WVdTKM0mQ",
        "colab_type": "code",
        "colab": {}
      },
      "source": [
        "def show_video():\n",
        "  mp4list = glob.glob('video/*.mp4')\n",
        "  if len(mp4list) > 0:\n",
        "    mp4 = mp4list[0]\n",
        "    video = io.open(mp4, 'r+b').read()\n",
        "    encoded = base64.b64encode(video)\n",
        "    ipythondisplay.display(HTML(data='''<video alt=\"test\" autoplay \n",
        "                loop controls style=\"height: 400px;\">\n",
        "                <source src=\"data:video/mp4;base64,{0}\" type=\"video/mp4\" />\n",
        "             </video>'''.format(encoded.decode('ascii'))))\n",
        "  else: \n",
        "    print(\"Could not find video\")"
      ],
      "execution_count": null,
      "outputs": []
    },
    {
      "cell_type": "code",
      "metadata": {
        "id": "VRIgnSpHM0qB",
        "colab_type": "code",
        "colab": {}
      },
      "source": [
        "def wrap_env(env):\n",
        "  env = Monitor(env, './video', force=True)\n",
        "  return env"
      ],
      "execution_count": null,
      "outputs": []
    },
    {
      "cell_type": "code",
      "metadata": {
        "id": "tpIpXf6hd_4z",
        "colab_type": "code",
        "colab": {}
      },
      "source": [
        "env = wrap_env(gym.make(\"TimePilot-v0\"))"
      ],
      "execution_count": null,
      "outputs": []
    },
    {
      "cell_type": "code",
      "metadata": {
        "id": "M2MhRWkAQ-4Z",
        "colab_type": "code",
        "colab": {
          "base_uri": "https://localhost:8080/",
          "height": 850
        },
        "outputId": "6538fe31-b63e-4caa-af0e-055747d6e736"
      },
      "source": [
        "env.reset()\n"
      ],
      "execution_count": null,
      "outputs": [
        {
          "output_type": "execute_result",
          "data": {
            "text/plain": [
              "array([[[  0,   0,   0],\n",
              "        [  0,   0,   0],\n",
              "        [  0,   0,   0],\n",
              "        ...,\n",
              "        [  0,   0,   0],\n",
              "        [  0,   0,   0],\n",
              "        [  0,   0,   0]],\n",
              "\n",
              "       [[214, 214, 214],\n",
              "        [214, 214, 214],\n",
              "        [214, 214, 214],\n",
              "        ...,\n",
              "        [214, 214, 214],\n",
              "        [214, 214, 214],\n",
              "        [214, 214, 214]],\n",
              "\n",
              "       [[  0,   0,   0],\n",
              "        [  0,   0,   0],\n",
              "        [  0,   0,   0],\n",
              "        ...,\n",
              "        [195, 144,  61],\n",
              "        [195, 144,  61],\n",
              "        [195, 144,  61]],\n",
              "\n",
              "       ...,\n",
              "\n",
              "       [[  0,   0,   0],\n",
              "        [  0,   0,   0],\n",
              "        [  0,   0,   0],\n",
              "        ...,\n",
              "        [  0,   0,   0],\n",
              "        [  0,   0,   0],\n",
              "        [  0,   0,   0]],\n",
              "\n",
              "       [[  0,   0,   0],\n",
              "        [  0,   0,   0],\n",
              "        [  0,   0,   0],\n",
              "        ...,\n",
              "        [  0,   0,   0],\n",
              "        [  0,   0,   0],\n",
              "        [  0,   0,   0]],\n",
              "\n",
              "       [[  0,   0,   0],\n",
              "        [  0,   0,   0],\n",
              "        [  0,   0,   0],\n",
              "        ...,\n",
              "        [  0,   0,   0],\n",
              "        [  0,   0,   0],\n",
              "        [  0,   0,   0]]], dtype=uint8)"
            ]
          },
          "metadata": {
            "tags": []
          },
          "execution_count": 48
        }
      ]
    },
    {
      "cell_type": "code",
      "metadata": {
        "id": "TPMCTjMmeNUD",
        "colab_type": "code",
        "colab": {}
      },
      "source": [
        "count=0\n",
        "while count<500:\n",
        "  env.render()\n",
        "  # obs=ptan.agent.float32_preprocessor(obs)\n",
        "  # action=model.forward(obs)[0].data.cpu().numpy()\n",
        "  action=np.random.choice(env.action_space.n)\n",
        "  obs,rew,done,_=env.step(action)\n",
        "  count+=1\n",
        "  if done:\n",
        "    break\n",
        "\n",
        "env.close()\n"
      ],
      "execution_count": null,
      "outputs": []
    },
    {
      "cell_type": "code",
      "metadata": {
        "id": "V34797sdQJyv",
        "colab_type": "code",
        "colab": {
          "base_uri": "https://localhost:8080/",
          "height": 421
        },
        "outputId": "c85b23a0-21a6-4df2-bb9e-07c43ed107b4"
      },
      "source": [
        "show_video()"
      ],
      "execution_count": null,
      "outputs": [
        {
          "output_type": "display_data",
          "data": {
            "text/html": [
              "<video alt=\"test\" autoplay \n",
              "                loop controls style=\"height: 400px;\">\n",
              "                <source src=\"data:video/mp4;base64,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\" type=\"video/mp4\" />\n",
              "             </video>"
            ],
            "text/plain": [
              "<IPython.core.display.HTML object>"
            ]
          },
          "metadata": {
            "tags": []
          }
        }
      ]
    },
    {
      "cell_type": "code",
      "metadata": {
        "id": "bnZd_wHoQk_k",
        "colab_type": "code",
        "colab": {}
      },
      "source": [
        ""
      ],
      "execution_count": null,
      "outputs": []
    }
  ]
}